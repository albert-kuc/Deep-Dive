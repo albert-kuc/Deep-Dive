{
 "cells": [
  {
   "cell_type": "markdown",
   "metadata": {},
   "source": [
    "# Serialization and Deserialization\n",
    "Notes from [Deep Dive 3](https://www.udemy.com/course/python-3-deep-dive-part-3/) section 7. Topics covered:\n",
    "\n",
    "1\\. [Pickling](#pickling)\n",
    "\n",
    "2\\. [JSON Serialization](#json-serialization)\n",
    "\n",
    "3\\. [Custom JSON Encoding](#custom-json-encoding)\n",
    "\n",
    "* [Specify default function to handle a non-serializable type](#handle-non-serializable-data)\n",
    "* [Encoding classes with toJSON](#encoding-classes)\n",
    "* [Generalize default function](#generalize-default-function)\n",
    "* [singledispatch decorator](#singledispatch)\n",
    "\n",
    "4\\. [JSONEncoder class](#jsonencoder-class)\n",
    "\n",
    "5\\. [Custom JSON Decoding](#custom-json-decoding)\n",
    "\n",
    "* [Decoding sequence of nested dicts](#decoding-sequence-of-nested-dicts)\n",
    "* [objecttype to identify encoded objects](#objecttype)\n",
    "* [Decoding using specific parse parameters](#parse-parameters)\n",
    "* [Overriding Basic Type Serializations](#overriding-basic-type-serializations)\n",
    "\n",
    "6\\. [JSONDecoder class](#jsondecoder-class)\n",
    "\n",
    "7\\. [JSON Schema](#json-schema)\n",
    "\n",
    "8\\. [Marshmallow](#marshmallow)\n"
   ]
  },
  {
   "cell_type": "markdown",
   "metadata": {},
   "source": [
    "<hr>\n",
    "\n",
    "<a id='pickling'></a>\n",
    "## 1. Pickling\n",
    "Serialize and deserialize using `pickle` module.\n",
    "\n",
    "Pickle is a `binary` serialization (by default)\n",
    "\n",
    "Focus on dictionaries, but can be used on other object types.\n",
    "\n",
    "Unpickling (deserialization) **can execute code**, hence unpickle **only trusted data**."
   ]
  },
  {
   "cell_type": "markdown",
   "metadata": {},
   "source": [
    "**Usage**:\n",
    "* `dump` - pickle to file\n",
    "* `load` - unpickle from file\n",
    "* `dumps` - returns a (string) pickled representation \n",
    "* `loads` - unpickle from supplied argument"
   ]
  },
  {
   "cell_type": "markdown",
   "metadata": {},
   "source": [
    "<hr>\n",
    "\n",
    "**Example 1**:\n",
    "\n",
    "Serialize and deserialize a dictionary with different values types (int, tuple, list, datetime).<br>\n",
    "Compare id and eqality between origin and deserialized objects."
   ]
  },
  {
   "cell_type": "code",
   "execution_count": 1,
   "metadata": {},
   "outputs": [],
   "source": [
    "import pickle\n",
    "from datetime import datetime\n",
    "\n",
    "d = {\n",
    "    'a': 100,\n",
    "    'b': (1, 2, 3),\n",
    "    'c': [1, 2, 3],\n",
    "    'd': {'x': 1+1j, 'y': datetime.utcnow()}\n",
    "}"
   ]
  },
  {
   "cell_type": "code",
   "execution_count": 2,
   "metadata": {},
   "outputs": [
    {
     "data": {
      "text/plain": [
       "{'a': 100,\n",
       " 'b': (1, 2, 3),\n",
       " 'c': [1, 2, 3],\n",
       " 'd': {'x': (1+1j), 'y': datetime.datetime(2021, 7, 10, 22, 19, 26, 893150)}}"
      ]
     },
     "execution_count": 2,
     "metadata": {},
     "output_type": "execute_result"
    }
   ],
   "source": [
    "d"
   ]
  },
  {
   "cell_type": "code",
   "execution_count": 3,
   "metadata": {},
   "outputs": [
    {
     "data": {
      "text/plain": [
       "b'\\x80\\x04\\x95\\x8b\\x00\\x00\\x00\\x00\\x00\\x00\\x00}\\x94(\\x8c\\x01a\\x94Kd\\x8c\\x01b\\x94K\\x01K\\x02K\\x03\\x87\\x94\\x8c\\x01c\\x94]\\x94(K\\x01K\\x02K\\x03e\\x8c\\x01d\\x94}\\x94(\\x8c\\x01x\\x94\\x8c\\x08builtins\\x94\\x8c\\x07complex\\x94\\x93\\x94G?\\xf0\\x00\\x00\\x00\\x00\\x00\\x00G?\\xf0\\x00\\x00\\x00\\x00\\x00\\x00\\x86\\x94R\\x94\\x8c\\x01y\\x94\\x8c\\x08datetime\\x94\\x8c\\x08datetime\\x94\\x93\\x94C\\n\\x07\\xe5\\x07\\n\\x16\\x13\\x1a\\r\\xa0\\xde\\x94\\x85\\x94R\\x94uu.'"
      ]
     },
     "execution_count": 3,
     "metadata": {},
     "output_type": "execute_result"
    }
   ],
   "source": [
    "ser = pickle.dumps(d)\n",
    "ser"
   ]
  },
  {
   "cell_type": "code",
   "execution_count": 4,
   "metadata": {},
   "outputs": [
    {
     "data": {
      "text/plain": [
       "{'a': 100,\n",
       " 'b': (1, 2, 3),\n",
       " 'c': [1, 2, 3],\n",
       " 'd': {'x': (1+1j), 'y': datetime.datetime(2021, 7, 10, 22, 19, 26, 893150)}}"
      ]
     },
     "execution_count": 4,
     "metadata": {},
     "output_type": "execute_result"
    }
   ],
   "source": [
    "deser = pickle.loads(ser)\n",
    "deser"
   ]
  },
  {
   "cell_type": "markdown",
   "metadata": {},
   "source": [
    "<hr>\n",
    "\n",
    "**Equality and identity**:"
   ]
  },
  {
   "cell_type": "code",
   "execution_count": 5,
   "metadata": {},
   "outputs": [
    {
     "name": "stdout",
     "output_type": "stream",
     "text": [
      "{'a': 100, 'b': (1, 2, 3), 'c': [1, 2, 3], 'd': {'x': (1+1j), 'y': datetime.datetime(2021, 7, 10, 22, 19, 26, 893150)}}\n",
      "{'a': 100, 'b': (1, 2, 3), 'c': [1, 2, 3], 'd': {'x': (1+1j), 'y': datetime.datetime(2021, 7, 10, 22, 19, 26, 893150)}}\n"
     ]
    }
   ],
   "source": [
    "print(d)\n",
    "print(deser)"
   ]
  },
  {
   "cell_type": "code",
   "execution_count": 6,
   "metadata": {},
   "outputs": [
    {
     "name": "stdout",
     "output_type": "stream",
     "text": [
      "2085078577664\n",
      "2085078516352\n"
     ]
    }
   ],
   "source": [
    "print(id(d))\n",
    "print(id(deser))"
   ]
  },
  {
   "cell_type": "markdown",
   "metadata": {},
   "source": [
    "Both objects are equal but they are different objects:"
   ]
  },
  {
   "cell_type": "code",
   "execution_count": 7,
   "metadata": {},
   "outputs": [
    {
     "data": {
      "text/plain": [
       "True"
      ]
     },
     "execution_count": 7,
     "metadata": {},
     "output_type": "execute_result"
    }
   ],
   "source": [
    "d == deser"
   ]
  },
  {
   "cell_type": "code",
   "execution_count": 8,
   "metadata": {},
   "outputs": [
    {
     "data": {
      "text/plain": [
       "False"
      ]
     },
     "execution_count": 8,
     "metadata": {},
     "output_type": "execute_result"
    }
   ],
   "source": [
    "deser is d"
   ]
  },
  {
   "cell_type": "markdown",
   "metadata": {},
   "source": [
    "<hr>\n",
    "\n",
    "**Example 2**:\n",
    "\n",
    "When Python serializes the dictionary, it behaves very similarly to serializing a deep copy of the dictionary. <br>\n",
    "The same thing happens with other collections types such as lists, sets, and tuples."
   ]
  },
  {
   "cell_type": "code",
   "execution_count": 9,
   "metadata": {},
   "outputs": [],
   "source": [
    "d1 = {'a': 10, 'b': 20}\n",
    "d2 = {'x': 100, 'y': d1, 'z': d1}"
   ]
  },
  {
   "cell_type": "code",
   "execution_count": 10,
   "metadata": {},
   "outputs": [],
   "source": [
    "ser = pickle.dumps(d2)\n",
    "d3 = pickle.loads(ser)"
   ]
  },
  {
   "cell_type": "code",
   "execution_count": 11,
   "metadata": {},
   "outputs": [
    {
     "name": "stdout",
     "output_type": "stream",
     "text": [
      "{'x': 100, 'y': {'a': 10, 'b': 20}, 'z': {'a': 10, 'b': 20}}\n",
      "{'x': 100, 'y': {'a': 10, 'b': 20}, 'z': {'a': 10, 'b': 20}}\n"
     ]
    }
   ],
   "source": [
    "print(d2)\n",
    "print(d3)"
   ]
  },
  {
   "cell_type": "code",
   "execution_count": 12,
   "metadata": {},
   "outputs": [
    {
     "name": "stdout",
     "output_type": "stream",
     "text": [
      "True\n",
      "True\n",
      "True\n",
      "True\n",
      "True\n",
      "True\n"
     ]
    }
   ],
   "source": [
    "print(d2 == d3)\n",
    "print(d2['y'] == d3['y'])\n",
    "print(d2['y'] == d2['z'])\n",
    "print(d3['y'] == d3['z'])\n",
    "print(d2['y'] == d1)\n",
    "print(d3['y'] == d1)"
   ]
  },
  {
   "cell_type": "markdown",
   "metadata": {},
   "source": [
    "<hr>\n",
    "\n",
    "Update `d1` does not affect serialized/deserialized object:"
   ]
  },
  {
   "cell_type": "code",
   "execution_count": 13,
   "metadata": {},
   "outputs": [],
   "source": [
    "d1['c'] = 3"
   ]
  },
  {
   "cell_type": "code",
   "execution_count": 14,
   "metadata": {},
   "outputs": [
    {
     "name": "stdout",
     "output_type": "stream",
     "text": [
      "{'x': 100, 'y': {'a': 10, 'b': 20, 'c': 3}, 'z': {'a': 10, 'b': 20, 'c': 3}}\n",
      "{'x': 100, 'y': {'a': 10, 'b': 20}, 'z': {'a': 10, 'b': 20}}\n"
     ]
    }
   ],
   "source": [
    "print(d2)\n",
    "print(d3)"
   ]
  },
  {
   "cell_type": "code",
   "execution_count": 15,
   "metadata": {},
   "outputs": [
    {
     "name": "stdout",
     "output_type": "stream",
     "text": [
      "False\n",
      "False\n",
      "True\n",
      "True\n",
      "True\n",
      "False\n"
     ]
    }
   ],
   "source": [
    "print(d2 == d3)\n",
    "print(d2['y'] == d3['y'])\n",
    "print(d2['y'] == d2['z'])\n",
    "print(d3['y'] == d3['z'])\n",
    "print(d2['y'] == d1)\n",
    "print(d3['y'] == d1)"
   ]
  },
  {
   "cell_type": "markdown",
   "metadata": {},
   "source": [
    "<hr>\n",
    "\n",
    "__Example 3__:\n",
    "\n",
    "Check the relationship of an object appearing multiple times within a dictionary after deserialization. "
   ]
  },
  {
   "cell_type": "code",
   "execution_count": 16,
   "metadata": {},
   "outputs": [],
   "source": [
    "class Person:\n",
    "    def __init__(self, name, age):\n",
    "        self.name = name\n",
    "        self.age = age\n",
    "    \n",
    "    def __eq__(self, other):\n",
    "        ''' \n",
    "        For test eqality between two objects of Person class.\n",
    "        Based only on name and age.\n",
    "        It should test if other is an instance but skipped for simplicity\n",
    "        '''\n",
    "        return self.name == other.name and self.age == other.age\n",
    "    \n",
    "    def __repr__(self):\n",
    "        return f'Person(name={self.name}, age={self.age})'"
   ]
  },
  {
   "cell_type": "code",
   "execution_count": 17,
   "metadata": {},
   "outputs": [],
   "source": [
    "john = Person('John Cleese', 79)\n",
    "eric = Person('Eric Idle', 75)\n",
    "michael = Person('Michael Palin', 75)"
   ]
  },
  {
   "cell_type": "code",
   "execution_count": 18,
   "metadata": {},
   "outputs": [],
   "source": [
    "parrot_sketch = {\n",
    "    'title': 'Parrot Sketch',\n",
    "    'actors': [john, michael]\n",
    "}\n",
    "\n",
    "ministry_sketch = {\n",
    "    'title':  'The Ministry of Silly Walks',\n",
    "    'actors': [john, michael]\n",
    "}\n",
    "\n",
    "joke_sketch = {\n",
    "    'title': 'Funniest Joke in the World',\n",
    "    'actors': [eric, michael]\n",
    "}"
   ]
  },
  {
   "cell_type": "code",
   "execution_count": 19,
   "metadata": {},
   "outputs": [],
   "source": [
    "fan_favorites = {\n",
    "    'user_1': [parrot_sketch, joke_sketch],\n",
    "    'user_2': [parrot_sketch, ministry_sketch]\n",
    "}"
   ]
  },
  {
   "cell_type": "code",
   "execution_count": 20,
   "metadata": {},
   "outputs": [
    {
     "name": "stdout",
     "output_type": "stream",
     "text": [
      "{'user_1': [{'actors': [Person(name=John Cleese, age=79),\n",
      "                        Person(name=Michael Palin, age=75)],\n",
      "             'title': 'Parrot Sketch'},\n",
      "            {'actors': [Person(name=Eric Idle, age=75),\n",
      "                        Person(name=Michael Palin, age=75)],\n",
      "             'title': 'Funniest Joke in the World'}],\n",
      " 'user_2': [{'actors': [Person(name=John Cleese, age=79),\n",
      "                        Person(name=Michael Palin, age=75)],\n",
      "             'title': 'Parrot Sketch'},\n",
      "            {'actors': [Person(name=John Cleese, age=79),\n",
      "                        Person(name=Michael Palin, age=75)],\n",
      "             'title': 'The Ministry of Silly Walks'}]}\n"
     ]
    }
   ],
   "source": [
    "from pprint import pprint\n",
    "pprint(fan_favorites)"
   ]
  },
  {
   "cell_type": "code",
   "execution_count": 21,
   "metadata": {},
   "outputs": [
    {
     "name": "stdout",
     "output_type": "stream",
     "text": [
      "{'user_1': [{'actors': [Person(name=John Cleese, age=79),\n",
      "                        Person(name=Michael Palin, age=75)],\n",
      "             'title': 'Parrot Sketch'},\n",
      "            {'actors': [Person(name=Eric Idle, age=75),\n",
      "                        Person(name=Michael Palin, age=75)],\n",
      "             'title': 'Funniest Joke in the World'}],\n",
      " 'user_2': [{'actors': [Person(name=John Cleese, age=79),\n",
      "                        Person(name=Michael Palin, age=75)],\n",
      "             'title': 'Parrot Sketch'},\n",
      "            {'actors': [Person(name=John Cleese, age=79),\n",
      "                        Person(name=Michael Palin, age=75)],\n",
      "             'title': 'The Ministry of Silly Walks'}]}\n"
     ]
    }
   ],
   "source": [
    "ser = pickle.dumps(fan_favorites)\n",
    "new_fan_favorites = pickle.loads(ser)\n",
    "pprint(new_fan_favorites)"
   ]
  },
  {
   "cell_type": "code",
   "execution_count": 22,
   "metadata": {},
   "outputs": [
    {
     "data": {
      "text/plain": [
       "True"
      ]
     },
     "execution_count": 22,
     "metadata": {},
     "output_type": "execute_result"
    }
   ],
   "source": [
    "fan_favorites == new_fan_favorites"
   ]
  },
  {
   "cell_type": "markdown",
   "metadata": {},
   "source": [
    "__Verify relative pointers in both dictionaries:__\n",
    "\n",
    "Both user_1 and user_2 are pointing to the same object of parrot_sketch<br>\n",
    "Serialization and deserialization maintain the relative reference.<br>\n",
    "Both new objects are the same as well, but they are different objects than the original."
   ]
  },
  {
   "cell_type": "code",
   "execution_count": 23,
   "metadata": {},
   "outputs": [
    {
     "data": {
      "text/plain": [
       "(2085078517184, 2085078517184)"
      ]
     },
     "execution_count": 23,
     "metadata": {},
     "output_type": "execute_result"
    }
   ],
   "source": [
    "id(fan_favorites['user_1'][0]), id(fan_favorites['user_2'][0])"
   ]
  },
  {
   "cell_type": "code",
   "execution_count": 24,
   "metadata": {},
   "outputs": [
    {
     "data": {
      "text/plain": [
       "(2085078548608, 2085078548608)"
      ]
     },
     "execution_count": 24,
     "metadata": {},
     "output_type": "execute_result"
    }
   ],
   "source": [
    "id(new_fan_favorites['user_1'][0]), id(new_fan_favorites['user_2'][0])"
   ]
  },
  {
   "cell_type": "markdown",
   "metadata": {},
   "source": [
    "<hr>\n",
    "\n",
    "<a id='json-serialization'></a>\n",
    "## 2. JSON serialization\n",
    "\n",
    "`J`ava<br>`S`cript<br>`O`bject<br>`N`otation\n",
    "\n",
    "JSON is an extremely popular format for data interchange. <br>\n",
    "Unlike pickling it is safe, because JSON data is basically just text. <br>\n",
    "It's human readable too."
   ]
  },
  {
   "cell_type": "markdown",
   "metadata": {},
   "source": [
    "JSON has just a few data types it supports:\n",
    "\n",
    "* **Strings**: must be delimited by double quotes\n",
    "* **Booleans**: the values `true` and `false`\n",
    "* **Numbers**: can be integers, or floats (including exponential notation, `1.3E2` for example), but are all considered floats in the standard\n",
    "* **Arrays**: an **ordered** collection of zero or more items of any valid JSON type\n",
    "* **Objects**: an **unordered** collection of `key:value` pairs - the keys must be strings (so delimited by double quotes), and the values can be any valid JSON type.\n",
    "* **NULL**: a null object, denoted by `null` and equivalent to `None` in Python."
   ]
  },
  {
   "cell_type": "markdown",
   "metadata": {},
   "source": [
    "**JSON limitations**:\n",
    "* JSON keys must be strings (Python dictionary keys just need to be hashable)\n",
    "    * JSON keys have to be strings or will get converted to strings, hence deserialized object will no longer match origin\n",
    "* JSON doesn't recognise tuples and turns them into lists\n",
    "* JSON doesn't recognise sets, decimals, dates"
   ]
  },
  {
   "cell_type": "markdown",
   "metadata": {},
   "source": [
    "<hr> \n",
    "\n",
    "**Example 4**:\n",
    "\n",
    "Serialize and deserialize a simple dictionary."
   ]
  },
  {
   "cell_type": "code",
   "execution_count": 25,
   "metadata": {},
   "outputs": [],
   "source": [
    "import json"
   ]
  },
  {
   "cell_type": "code",
   "execution_count": 26,
   "metadata": {},
   "outputs": [
    {
     "data": {
      "text/plain": [
       "'{\"a\": 100, \"b\": 200}'"
      ]
     },
     "execution_count": 26,
     "metadata": {},
     "output_type": "execute_result"
    }
   ],
   "source": [
    "d1 = {\"a\": 100, \"b\": 200}\n",
    "d1_json = json.dumps(d1)\n",
    "d1_json"
   ]
  },
  {
   "cell_type": "code",
   "execution_count": 27,
   "metadata": {},
   "outputs": [
    {
     "data": {
      "text/plain": [
       "True"
      ]
     },
     "execution_count": 27,
     "metadata": {},
     "output_type": "execute_result"
    }
   ],
   "source": [
    "d2 = json.loads(d1_json)\n",
    "d1 == d2"
   ]
  },
  {
   "cell_type": "markdown",
   "metadata": {},
   "source": [
    "<hr>\n",
    "\n",
    "JSON keys must be strings or will get converted into strings:"
   ]
  },
  {
   "cell_type": "code",
   "execution_count": 28,
   "metadata": {},
   "outputs": [
    {
     "data": {
      "text/plain": [
       "'{\"1\": 100, \"2\": 200}'"
      ]
     },
     "execution_count": 28,
     "metadata": {},
     "output_type": "execute_result"
    }
   ],
   "source": [
    "d1 = {1: 100, 2: 200}\n",
    "d1_json = json.dumps(d1)\n",
    "d1_json"
   ]
  },
  {
   "cell_type": "code",
   "execution_count": 29,
   "metadata": {},
   "outputs": [
    {
     "name": "stdout",
     "output_type": "stream",
     "text": [
      "{1: 100, 2: 200}\n",
      "{'1': 100, '2': 200}\n"
     ]
    }
   ],
   "source": [
    "d2 = json.loads(d1_json)\n",
    "print(d1)\n",
    "print(d2)"
   ]
  },
  {
   "cell_type": "markdown",
   "metadata": {},
   "source": [
    "<hr>\n",
    "\n",
    "<a id='custom-json-encoding'></a>\n",
    "## 3. Custom JSON Encoding\n",
    "\n",
    "Certain data types cannot be serialized to JSON using Python's defaults.\n",
    "\n",
    "It is possible to serialize them with a custom serialization format provided to `dump`/`dumps` function argument `default`.\n",
    "\n",
    "When probided Python will call `default` if the encouders a type it **cannot serialize**.\n",
    "\n",
    "Requirement is that the argument provided to default is `callable`. "
   ]
  },
  {
   "cell_type": "markdown",
   "metadata": {},
   "source": [
    "<hr>\n",
    "\n",
    "<a id='handle-non-serializable-data'></a>\n",
    "### 3.1 Specify default function to handle a non-serializable type"
   ]
  },
  {
   "cell_type": "markdown",
   "metadata": {},
   "source": [
    "**Example 5**:\n",
    "\n",
    "Encoding datetime which by default is not serializable."
   ]
  },
  {
   "cell_type": "code",
   "execution_count": 30,
   "metadata": {},
   "outputs": [
    {
     "data": {
      "text/plain": [
       "datetime.datetime(2021, 7, 10, 22, 19, 27, 362893)"
      ]
     },
     "execution_count": 30,
     "metadata": {},
     "output_type": "execute_result"
    }
   ],
   "source": [
    "import json\n",
    "from datetime import datetime\n",
    "\n",
    "current = datetime.utcnow()\n",
    "current"
   ]
  },
  {
   "cell_type": "code",
   "execution_count": 31,
   "metadata": {},
   "outputs": [
    {
     "name": "stdout",
     "output_type": "stream",
     "text": [
      "TypeError: Object of type datetime is not JSON serializable\n"
     ]
    }
   ],
   "source": [
    "try:\n",
    "    json.dumps(current)\n",
    "except TypeError as ex:\n",
    "    print(f'TypeError: {ex}')"
   ]
  },
  {
   "cell_type": "markdown",
   "metadata": {},
   "source": [
    "<hr>\n",
    "\n",
    "*Solution*: <br>\n",
    "`dump`/`dumps` allow to specify a default method how to treat unknown objects.\n",
    "\n",
    "Callable function will return string which contains date and time in ISO 8601 format: \"YYYY-MM-DD**T**hh:mm:ss\""
   ]
  },
  {
   "cell_type": "code",
   "execution_count": 32,
   "metadata": {},
   "outputs": [
    {
     "data": {
      "text/plain": [
       "'2021-07-10T22:19:27'"
      ]
     },
     "execution_count": 32,
     "metadata": {},
     "output_type": "execute_result"
    }
   ],
   "source": [
    "def format_iso(dt):\n",
    "    \"\"\" Transforms datetime to string in standardized ISO format \"\"\"\n",
    "    return dt.strftime('%Y-%m-%dT%H:%M:%S')\n",
    "\n",
    "format_iso(current)"
   ]
  },
  {
   "cell_type": "code",
   "execution_count": 33,
   "metadata": {},
   "outputs": [
    {
     "data": {
      "text/plain": [
       "'2021-07-10T22:19:27.362893'"
      ]
     },
     "execution_count": 33,
     "metadata": {},
     "output_type": "execute_result"
    }
   ],
   "source": [
    "# Similar result could be achieved with build up datatime function (if fractional miliseconds are acceptable)\n",
    "current.isoformat()"
   ]
  },
  {
   "cell_type": "code",
   "execution_count": 34,
   "metadata": {},
   "outputs": [
    {
     "data": {
      "text/plain": [
       "'\"2021-07-10T22:19:27\"'"
      ]
     },
     "execution_count": 34,
     "metadata": {},
     "output_type": "execute_result"
    }
   ],
   "source": [
    "json.dumps(current, default=format_iso)"
   ]
  },
  {
   "cell_type": "markdown",
   "metadata": {},
   "source": [
    "<hr>\n",
    "\n",
    "Serialize a dictionary with datetime value:"
   ]
  },
  {
   "cell_type": "code",
   "execution_count": 35,
   "metadata": {},
   "outputs": [],
   "source": [
    "log_record = {'time': current,\n",
    "              'message': 'testing'}"
   ]
  },
  {
   "cell_type": "code",
   "execution_count": 36,
   "metadata": {},
   "outputs": [
    {
     "data": {
      "text/plain": [
       "'{\"time\": \"2021-07-10T22:19:27\", \"message\": \"testing\"}'"
      ]
     },
     "execution_count": 36,
     "metadata": {},
     "output_type": "execute_result"
    }
   ],
   "source": [
    "json.dumps(log_record, default=format_iso)"
   ]
  },
  {
   "cell_type": "markdown",
   "metadata": {},
   "source": [
    "<hr>\n",
    "\n",
    "**Example 6**:\n",
    "\n",
    "Encoding multiple non-serializable objects (datetime and set).\n",
    "\n",
    "This requires the dumps `default` argument to handle both types."
   ]
  },
  {
   "cell_type": "code",
   "execution_count": 37,
   "metadata": {},
   "outputs": [],
   "source": [
    "log_record = {'time': datetime.utcnow().isoformat(),\n",
    "              'message': 'testing',\n",
    "              'args': {1, 2, 3}}"
   ]
  },
  {
   "cell_type": "code",
   "execution_count": 38,
   "metadata": {},
   "outputs": [],
   "source": [
    "def custom_json_formatter(arg):\n",
    "    \"\"\" If argumet is datetime convert to str, if set than convert to list \"\"\"\n",
    "    if isinstance(arg, datetime):\n",
    "        return arg.isoformat()\n",
    "    elif isinstance(arg, set):\n",
    "        return list(arg)"
   ]
  },
  {
   "cell_type": "code",
   "execution_count": 39,
   "metadata": {},
   "outputs": [
    {
     "data": {
      "text/plain": [
       "'{\"time\": \"2021-07-10T22:19:27.474595\", \"message\": \"testing\", \"args\": [1, 2, 3]}'"
      ]
     },
     "execution_count": 39,
     "metadata": {},
     "output_type": "execute_result"
    }
   ],
   "source": [
    "json.dumps(log_record, default=custom_json_formatter)"
   ]
  },
  {
   "cell_type": "markdown",
   "metadata": {},
   "source": [
    "<hr>\n",
    "\n",
    "<a id='encoding-classes'></a>\n",
    "### 3.2 Encoding classes with toJSON\n",
    "\n",
    "**Example 7**:\n",
    "\n",
    "Encoding class objects:<br>\n",
    "Custom class object is not serializable with JSON.\n",
    "\n",
    "*Solution*: `toJSON()` serializer method will return the JSON representation of the Object. i.e., It will convert custom Python Object to __JSON string__.\\\n",
    "Point the JSON serializer to this method when dealing with the Object."
   ]
  },
  {
   "cell_type": "code",
   "execution_count": 40,
   "metadata": {},
   "outputs": [],
   "source": [
    "class Person:\n",
    "    def __init__(self, name, age):\n",
    "        self.name = name\n",
    "        self.age = age\n",
    "        self.create_df = datetime.utcnow()\n",
    "    \n",
    "    def __repr__(self):\n",
    "        return f'Person(name={self.name}, age={self.age})'\n",
    "    \n",
    "    def toJSON(self):\n",
    "        return {\n",
    "            'name': self.name,\n",
    "            'age': self.age, \n",
    "            'create_df': self.create_df  # default function will support to handle datetime\n",
    "        }"
   ]
  },
  {
   "cell_type": "code",
   "execution_count": 41,
   "metadata": {},
   "outputs": [],
   "source": [
    "p = Person('Monty', 100)"
   ]
  },
  {
   "cell_type": "code",
   "execution_count": 42,
   "metadata": {},
   "outputs": [],
   "source": [
    "log_record = dict(time=datetime.utcnow(),\n",
    "                  message='Created new person record',\n",
    "                  person=p)"
   ]
  },
  {
   "cell_type": "code",
   "execution_count": 43,
   "metadata": {},
   "outputs": [
    {
     "name": "stdout",
     "output_type": "stream",
     "text": [
      "{\n",
      "    \"time\": \"2021-07-10T22:19:27.554383\",\n",
      "    \"message\": \"Created new person record\",\n",
      "    \"person\": null\n",
      "}\n"
     ]
    }
   ],
   "source": [
    "print(json.dumps(log_record, default=custom_json_formatter, indent=4))"
   ]
  },
  {
   "cell_type": "markdown",
   "metadata": {},
   "source": [
    "<hr>\n",
    "\n",
    "Default method specified to handle unknown objects doesn't have specified how to handle Person object. <br>\n",
    "The function executed without returning anything hence after json serialization it stores `null`.\n",
    "\n",
    "Updated custom default function:"
   ]
  },
  {
   "cell_type": "code",
   "execution_count": 44,
   "metadata": {},
   "outputs": [],
   "source": [
    "def custom_json_formatter(arg):\n",
    "    \"\"\" If argumet is datetime convert to str, if set than convert to list \"\"\"\n",
    "    if isinstance(arg, datetime):\n",
    "        return arg.isoformat()\n",
    "    elif isinstance(arg, set):\n",
    "        return list(arg)\n",
    "    elif isinstance(arg, Person):\n",
    "        return arg.toJSON()"
   ]
  },
  {
   "cell_type": "code",
   "execution_count": 45,
   "metadata": {},
   "outputs": [
    {
     "data": {
      "text/plain": [
       "'{\"time\": \"2021-07-10T22:19:27.554383\", \"message\": \"Created new person record\", \"person\": {\"name\": \"Monty\", \"age\": 100, \"create_df\": \"2021-07-10T22:19:27.538425\"}}'"
      ]
     },
     "execution_count": 45,
     "metadata": {},
     "output_type": "execute_result"
    }
   ],
   "source": [
    "json.dumps(log_record, default=custom_json_formatter)"
   ]
  },
  {
   "cell_type": "markdown",
   "metadata": {},
   "source": [
    "<hr>\n",
    "\n",
    "Method `toJSON` returns dictionary with all attributes of the class object. <br> \n",
    "The same can be achieved using `vars` function:"
   ]
  },
  {
   "cell_type": "code",
   "execution_count": 46,
   "metadata": {},
   "outputs": [],
   "source": [
    "class Person:\n",
    "    def __init__(self, name, age):\n",
    "        self.name = name\n",
    "        self.age = age\n",
    "        self.create_df = datetime.utcnow()\n",
    "    \n",
    "    def __repr__(self):\n",
    "        return f'Person(name={self.name}, age={self.age})'\n",
    "    \n",
    "    def toJSON(self):\n",
    "        return vars(self)"
   ]
  },
  {
   "cell_type": "code",
   "execution_count": 47,
   "metadata": {},
   "outputs": [],
   "source": [
    "p = Person('Python', 45)"
   ]
  },
  {
   "cell_type": "code",
   "execution_count": 48,
   "metadata": {},
   "outputs": [
    {
     "data": {
      "text/plain": [
       "{'time': datetime.datetime(2021, 7, 10, 22, 19, 27, 651123),\n",
       " 'message': 'Created new person record',\n",
       " 'person': Person(name=Python, age=45)}"
      ]
     },
     "execution_count": 48,
     "metadata": {},
     "output_type": "execute_result"
    }
   ],
   "source": [
    "log_record = dict(time=datetime.utcnow(),\n",
    "                  message='Created new person record',\n",
    "                  person=p\n",
    "                 )\n",
    "log_record"
   ]
  },
  {
   "cell_type": "code",
   "execution_count": 49,
   "metadata": {},
   "outputs": [
    {
     "name": "stdout",
     "output_type": "stream",
     "text": [
      "{\n",
      "    \"time\": \"2021-07-10T22:19:27.651123\",\n",
      "    \"message\": \"Created new person record\",\n",
      "    \"person\": {\n",
      "        \"name\": \"Python\",\n",
      "        \"age\": 45,\n",
      "        \"create_df\": \"2021-07-10T22:19:27.634168\"\n",
      "    }\n",
      "}\n"
     ]
    }
   ],
   "source": [
    "print(json.dumps(log_record, default=custom_json_formatter, indent=4))"
   ]
  },
  {
   "cell_type": "markdown",
   "metadata": {},
   "source": [
    "<hr>\n",
    "\n",
    "<a id='generalize-default-function'></a>\n",
    "### 3.3 Generalize default function\n",
    "\n",
    "**Example 8**:\n",
    "\n",
    "Using `vars` as in previous example we can now generalize default function to handle a custom class object that doesn't include `toJSON` method.\n",
    "\n",
    "Finally if unknown objects found during serialization, will get converted to string."
   ]
  },
  {
   "cell_type": "code",
   "execution_count": 50,
   "metadata": {},
   "outputs": [],
   "source": [
    "def custom_json_formatter(arg):\n",
    "    \"\"\" If argumet is datetime convert to str, if set than convert to list \"\"\"\n",
    "    if isinstance(arg, datetime):\n",
    "        return arg.isoformat()\n",
    "    elif isinstance(arg, set):\n",
    "        return list(arg)\n",
    "    else:\n",
    "        ''' Try to execute object toJSON method '''\n",
    "        try:\n",
    "            return arg.toJSON()\n",
    "        except AttributeError:\n",
    "            ''' Try to print object attributes '''\n",
    "            try:\n",
    "                return vars(arg)\n",
    "            except TypeError:\n",
    "                ''' Convert object to string '''\n",
    "                return str(arg)"
   ]
  },
  {
   "cell_type": "code",
   "execution_count": 51,
   "metadata": {},
   "outputs": [],
   "source": [
    "class Point:\n",
    "    def __init__(self, x, y):\n",
    "        self.x = x\n",
    "        self.y = y\n",
    "    def __repr__(self):\n",
    "        return f'Point(x={self.x}, y={self.y})'"
   ]
  },
  {
   "cell_type": "code",
   "execution_count": 52,
   "metadata": {},
   "outputs": [],
   "source": [
    "from decimal import Decimal\n",
    "\n",
    "pt1 = Point(1, 2)\n",
    "pt2 = Point(Decimal(10.5), Decimal ('100.5')) # Decimal is not recognizable by JSON, custom_json_formatter with convert to str\n",
    "p = Person('John', 18)\n",
    "\n",
    "log_record = dict(time=datetime.utcnow(),\n",
    "                  message='Create new point',\n",
    "                  point=pt1, \n",
    "                  point_2=pt2,\n",
    "                  created_by=p\n",
    "                 )"
   ]
  },
  {
   "cell_type": "code",
   "execution_count": 53,
   "metadata": {},
   "outputs": [
    {
     "name": "stdout",
     "output_type": "stream",
     "text": [
      "{\n",
      "    \"time\": \"2021-07-10T22:19:27.729911\",\n",
      "    \"message\": \"Create new point\",\n",
      "    \"point\": {\n",
      "        \"x\": 1,\n",
      "        \"y\": 2\n",
      "    },\n",
      "    \"point_2\": {\n",
      "        \"x\": \"10.5\",\n",
      "        \"y\": \"100.5\"\n",
      "    },\n",
      "    \"created_by\": {\n",
      "        \"name\": \"John\",\n",
      "        \"age\": 18,\n",
      "        \"create_df\": \"2021-07-10T22:19:27.729911\"\n",
      "    }\n",
      "}\n"
     ]
    }
   ],
   "source": [
    "print(json.dumps(log_record, default=custom_json_formatter, indent=4))"
   ]
  },
  {
   "cell_type": "markdown",
   "metadata": {},
   "source": [
    "<hr>\n",
    "\n",
    "<a id='singledispatch'></a>\n",
    "### 3.4 singledispatch decorator \n",
    "\n",
    "Use single dispatch generic decorator from the `functools` module"
   ]
  },
  {
   "cell_type": "code",
   "execution_count": 54,
   "metadata": {},
   "outputs": [],
   "source": [
    "from functools import singledispatch"
   ]
  },
  {
   "cell_type": "markdown",
   "metadata": {},
   "source": [
    "**Example 9**:\n",
    "\n",
    "Our default approach is going to:\n",
    "* first try to use `toJSON`, if not it will \n",
    "* try to use `vars`, and it that still fails  \n",
    "* use the string representation, whatever that happens to be"
   ]
  },
  {
   "cell_type": "code",
   "execution_count": 55,
   "metadata": {},
   "outputs": [],
   "source": [
    "@singledispatch\n",
    "def json_format(arg):\n",
    "    \"\"\" Default function for handling arbitrary objects \"\"\"\n",
    "    print(arg)\n",
    "    try:\n",
    "        print('\\ttrying to use toJSON...')\n",
    "        return arg.toJSON()\n",
    "    except AttributeError:\n",
    "        try:\n",
    "            print('\\tfailed - trying to use vars...')\n",
    "            return vars(arg)\n",
    "        except TypeError:\n",
    "            print('\\tfailed - using string repr...')\n",
    "            return str(arg)"
   ]
  },
  {
   "cell_type": "markdown",
   "metadata": {},
   "source": [
    "'Register' other datatypes"
   ]
  },
  {
   "cell_type": "code",
   "execution_count": 56,
   "metadata": {},
   "outputs": [],
   "source": [
    "@json_format.register(datetime)\n",
    "def _(arg):\n",
    "    return arg.isoformat()"
   ]
  },
  {
   "cell_type": "code",
   "execution_count": 57,
   "metadata": {},
   "outputs": [],
   "source": [
    "@json_format.register(set)\n",
    "def _(arg):\n",
    "    return list(arg)"
   ]
  },
  {
   "cell_type": "code",
   "execution_count": 58,
   "metadata": {},
   "outputs": [],
   "source": [
    "@json_format.register(Decimal)\n",
    "def _(arg):\n",
    "    return f'Decimal({str(arg)})'"
   ]
  },
  {
   "cell_type": "code",
   "execution_count": 59,
   "metadata": {},
   "outputs": [],
   "source": [
    "from fractions import Fraction\n",
    "\n",
    "d = dict(a=1+1j,\n",
    "         b=Decimal('0.5'),\n",
    "         c=Fraction(1,3),\n",
    "         p=Person('Python', 27),\n",
    "         pt=Point(0,3),\n",
    "         time=datetime.utcnow()\n",
    "        )"
   ]
  },
  {
   "cell_type": "code",
   "execution_count": 60,
   "metadata": {},
   "outputs": [
    {
     "data": {
      "text/plain": [
       "{'a': (1+1j),\n",
       " 'b': Decimal('0.5'),\n",
       " 'c': Fraction(1, 3),\n",
       " 'p': Person(name=Python, age=27),\n",
       " 'pt': Point(x=0, y=3),\n",
       " 'time': datetime.datetime(2021, 7, 10, 22, 19, 27, 844605)}"
      ]
     },
     "execution_count": 60,
     "metadata": {},
     "output_type": "execute_result"
    }
   ],
   "source": [
    "d"
   ]
  },
  {
   "cell_type": "code",
   "execution_count": 61,
   "metadata": {},
   "outputs": [
    {
     "name": "stdout",
     "output_type": "stream",
     "text": [
      "(1+1j)\n",
      "\ttrying to use toJSON...\n",
      "\tfailed - trying to use vars...\n",
      "\tfailed - using string repr...\n",
      "1/3\n",
      "\ttrying to use toJSON...\n",
      "\tfailed - trying to use vars...\n",
      "\tfailed - using string repr...\n",
      "Person(name=Python, age=27)\n",
      "\ttrying to use toJSON...\n",
      "Point(x=0, y=3)\n",
      "\ttrying to use toJSON...\n",
      "\tfailed - trying to use vars...\n",
      "\n",
      "Result:\n",
      "{\n",
      "    \"a\": \"(1+1j)\",\n",
      "    \"b\": \"Decimal(0.5)\",\n",
      "    \"c\": \"1/3\",\n",
      "    \"p\": {\n",
      "        \"name\": \"Python\",\n",
      "        \"age\": 27,\n",
      "        \"create_df\": \"2021-07-10T22:19:27.844605\"\n",
      "    },\n",
      "    \"pt\": {\n",
      "        \"x\": 0,\n",
      "        \"y\": 3\n",
      "    },\n",
      "    \"time\": \"2021-07-10T22:19:27.844605\"\n",
      "}\n"
     ]
    }
   ],
   "source": [
    "print(f'\\nResult:\\n{json.dumps(d, default=json_format, indent=4)}')"
   ]
  },
  {
   "cell_type": "markdown",
   "metadata": {},
   "source": [
    "<hr>\n",
    "\n",
    "<a id='jsonencoder-class'></a>\n",
    "## 4. JSONEncoder class\n",
    "\n",
    "Define a custom class which inherits from existing json encoding class (instead of custom function).\n",
    "\n",
    "Additional `dump` arguments that allow control serialization:\n",
    "* `skipkeys` (bool: False) - if `True` will skip the key that is not basic type\n",
    "* `indent` (int: None) - for human readability when print\n",
    "* `separators` (tuple: (', ', ': ')) - customizes how JSON is rendered\n",
    "* `sort_keys` (boolean: False) - if `True` dictionary keys will be sorted\n",
    "\n",
    "**How to create a custom `JSONEncoder`**:\n",
    "* subclass `JSONEncoder`\n",
    "* customize init (optional)\n",
    "* override the `default` method\n",
    "    * handle what we want to handle ourselves\n",
    "    * otherwise delegate back to parrent class"
   ]
  },
  {
   "cell_type": "markdown",
   "metadata": {},
   "source": [
    "<hr>\n",
    "\n",
    "**Example 10**:\n",
    "\n",
    "Try `dump` arguments:"
   ]
  },
  {
   "cell_type": "code",
   "execution_count": 62,
   "metadata": {},
   "outputs": [
    {
     "name": "stdout",
     "output_type": "stream",
     "text": [
      "{\n",
      "---\"name\" = \"Python\" $\n",
      "---\"age\" = 27 $\n",
      "---\"created_by\" = \"Guido van Rossum\" $\n",
      "---\"list\" = [\n",
      "------1 $\n",
      "------2 $\n",
      "------3\n",
      "---] $\n",
      "---\"10\" = \"int\" $\n",
      "---\"10.5\" = \"float\"\n",
      "}\n"
     ]
    }
   ],
   "source": [
    "d = {'name': 'Python', 'age': 27, 'created_by': 'Guido van Rossum', 'list': [1, 2, 3], 10: \"int\", 10.5: \"float\", \n",
    "     1+1j: \"complex\"}\n",
    "\n",
    "print(json.dumps(d, skipkeys=True,  indent='---', separators=(' $', ' = ')))"
   ]
  },
  {
   "cell_type": "markdown",
   "metadata": {},
   "source": [
    "<hr>\n",
    "\n",
    "**Example 11**:\n",
    "\n",
    "Define custom encoder class"
   ]
  },
  {
   "cell_type": "markdown",
   "metadata": {},
   "source": [
    "If `skipkeys` is true (default: False), then dict keys that are not of a basic type (str, int, float, bool, None) will be skipped instead of raising a `TypeError`."
   ]
  },
  {
   "cell_type": "code",
   "execution_count": 63,
   "metadata": {},
   "outputs": [],
   "source": [
    "class CustomEncoder(json.JSONEncoder):\n",
    "    def __init__(self, *args, **kwargs):\n",
    "        super().__init__(skipkeys=True, allow_nan=False, indent='---', separators =(',', ':'))\n",
    "    \n",
    "    def default(self, arg):\n",
    "        if isinstance(arg, datetime):\n",
    "            return arg.isoformat()\n",
    "        else:\n",
    "            \"\"\" If default doesn't recognise the type then let the parent class handle it \"\"\"\n",
    "            return super().default(arg)"
   ]
  },
  {
   "cell_type": "code",
   "execution_count": 64,
   "metadata": {},
   "outputs": [],
   "source": [
    "d = {\n",
    "    'time': datetime.utcnow(),\n",
    "    1+1j: \"complex\",\n",
    "    'name': 'Python'\n",
    "}"
   ]
  },
  {
   "cell_type": "code",
   "execution_count": 65,
   "metadata": {},
   "outputs": [
    {
     "name": "stdout",
     "output_type": "stream",
     "text": [
      "{\n",
      "---\"time\":\"2021-07-10T22:19:27.932372\",\n",
      "---\"name\":\"Python\"\n",
      "}\n"
     ]
    }
   ],
   "source": [
    "print(json.dumps(d, cls=CustomEncoder))"
   ]
  },
  {
   "cell_type": "markdown",
   "metadata": {},
   "source": [
    "<hr> \n",
    "\n",
    "**Example 12**:\n",
    "\n",
    "Define custom class to handle datetime"
   ]
  },
  {
   "cell_type": "code",
   "execution_count": 66,
   "metadata": {},
   "outputs": [],
   "source": [
    "class CustomEncoder(json.JSONEncoder):\n",
    "    def default(self, arg):\n",
    "        if isinstance(arg, datetime):\n",
    "            obj = dict(\n",
    "                datatype=\"datetime\",\n",
    "                iso=arg.isoformat(),\n",
    "                date=arg.date().isoformat(),\n",
    "                time=arg.time().isoformat(),\n",
    "                year=arg.year,\n",
    "                month=arg.month,\n",
    "                day=arg.day,\n",
    "                hour=arg.hour,\n",
    "                minute=arg.minute,\n",
    "                second=arg.second\n",
    "            )\n",
    "            return obj\n",
    "        else:\n",
    "            return super().default(arg)"
   ]
  },
  {
   "cell_type": "code",
   "execution_count": 67,
   "metadata": {},
   "outputs": [
    {
     "data": {
      "text/plain": [
       "{'time': datetime.datetime(2021, 7, 10, 22, 19, 27, 981240),\n",
       " 'message': 'Testing...'}"
      ]
     },
     "execution_count": 67,
     "metadata": {},
     "output_type": "execute_result"
    }
   ],
   "source": [
    "d = {\n",
    "    'time': datetime.utcnow(),\n",
    "    'message': 'Testing...'\n",
    "}\n",
    "d"
   ]
  },
  {
   "cell_type": "code",
   "execution_count": 68,
   "metadata": {},
   "outputs": [
    {
     "name": "stdout",
     "output_type": "stream",
     "text": [
      "{\n",
      "  \"time\": {\n",
      "    \"datatype\": \"datetime\",\n",
      "    \"iso\": \"2021-07-10T22:19:27.981240\",\n",
      "    \"date\": \"2021-07-10\",\n",
      "    \"time\": \"22:19:27.981240\",\n",
      "    \"year\": 2021,\n",
      "    \"month\": 7,\n",
      "    \"day\": 10,\n",
      "    \"hour\": 22,\n",
      "    \"minute\": 19,\n",
      "    \"second\": 27\n",
      "  },\n",
      "  \"message\": \"Testing...\"\n",
      "}\n"
     ]
    }
   ],
   "source": [
    "print(json.dumps(d, cls=CustomEncoder, indent=2))"
   ]
  },
  {
   "cell_type": "markdown",
   "metadata": {},
   "source": [
    "<hr>\n",
    "\n",
    "<a id='custom-json-decoding'></a>\n",
    "## 5. Custom JSON Decoding\n",
    "Similarly to encoding the decoding of JSON doesn't recognise certain datatypes and requires customization\n",
    "\n",
    "<a id='decoding-sequence-of-nested-dicts'></a>\n",
    "### 5.1 Decoding sequence of nested dicts\n",
    "* `load` and `loads` have argument **object_hook** which is equivalent to default argument specified for encoding\n",
    "* `object_hook` if specified is recurrent function and starts from the most deep dictionary and finishes at root\n",
    "\n",
    "**Example 13**:\n",
    "\n",
    "Check decoding sequence"
   ]
  },
  {
   "cell_type": "code",
   "execution_count": 69,
   "metadata": {},
   "outputs": [],
   "source": [
    "def custom_decoder(arg):\n",
    "    print(\"decoding: \", arg, type(arg))\n",
    "    return arg"
   ]
  },
  {
   "cell_type": "code",
   "execution_count": 70,
   "metadata": {},
   "outputs": [],
   "source": [
    "j = '''\n",
    "{\n",
    "    \"a\": 1,\n",
    "    \"b\": 2,\n",
    "    \"c\": {\n",
    "        \"c.1\": 1,\n",
    "        \"c.2\": 2,\n",
    "        \"c.3\": {\n",
    "            \"c.3.1\": 1,\n",
    "            \"c.3.2\": 2\n",
    "        }\n",
    "    }\n",
    "}\n",
    "'''"
   ]
  },
  {
   "cell_type": "code",
   "execution_count": 71,
   "metadata": {},
   "outputs": [
    {
     "name": "stdout",
     "output_type": "stream",
     "text": [
      "decoding:  {'c.3.1': 1, 'c.3.2': 2} <class 'dict'>\n",
      "decoding:  {'c.1': 1, 'c.2': 2, 'c.3': {'c.3.1': 1, 'c.3.2': 2}} <class 'dict'>\n",
      "decoding:  {'a': 1, 'b': 2, 'c': {'c.1': 1, 'c.2': 2, 'c.3': {'c.3.1': 1, 'c.3.2': 2}}} <class 'dict'>\n"
     ]
    }
   ],
   "source": [
    "d = json.loads(j, object_hook=custom_decoder)"
   ]
  },
  {
   "cell_type": "markdown",
   "metadata": {},
   "source": [
    "<hr>\n",
    "\n",
    "<a id='objecttype'></a>\n",
    "### 5.2 `objecttype` to identify encoded objects \n",
    "\n",
    "Requires an `objecttype` key in encoded JSON and dedicated set of keys for each object type to exist  \n",
    "\n",
    "**Example 14**:\n",
    "\n",
    "Decode dictionary using custom decoder and identify objects with `objecttype`"
   ]
  },
  {
   "cell_type": "code",
   "execution_count": 72,
   "metadata": {},
   "outputs": [],
   "source": [
    "class Person:\n",
    "    def __init__(self, name, ssn):\n",
    "        self.name = name\n",
    "        self.ssn = ssn\n",
    "    \n",
    "    def __repr__(self):\n",
    "        return f'Person(name={self.name}, ssn={self.ssn})'\n",
    "    \n",
    "    def toJSON(self):\n",
    "        return dict(objecttype='person', name=self.name, ssn=self.ssn)"
   ]
  },
  {
   "cell_type": "code",
   "execution_count": 73,
   "metadata": {},
   "outputs": [],
   "source": [
    "j = \"\"\"\n",
    "    {\n",
    "        \"accountHolder\": {\n",
    "            \"objecttype\": \"person\",\n",
    "            \"name\": \"Eric Idle\",\n",
    "            \"ssn\": 100\n",
    "        },\n",
    "        \"created\": {\n",
    "            \"objecttype\": \"datetime\",\n",
    "            \"value\": \"2020-12-31T23:59:59\"\n",
    "        },\n",
    "        \"message\": \"created this json string\"\n",
    "    }\n",
    "\n",
    "\"\"\""
   ]
  },
  {
   "cell_type": "code",
   "execution_count": 74,
   "metadata": {},
   "outputs": [],
   "source": [
    "def custom_decoder(arg):\n",
    "    if 'objecttype' in arg:\n",
    "        if arg['objecttype']==\"datetime\":\n",
    "            return datetime.strptime(arg['value'], '%Y-%m-%dT%H:%M:%S')\n",
    "        elif arg['objecttype']==\"fraction\":\n",
    "            return Fraction(arg['numerator'], arg['denominator'])\n",
    "        elif arg['objecttype']==\"person\":\n",
    "            return Person(arg['name'], arg['ssn'])\n",
    "        return arg\n",
    "    return arg"
   ]
  },
  {
   "cell_type": "code",
   "execution_count": 75,
   "metadata": {},
   "outputs": [],
   "source": [
    "d = json.loads(j, object_hook=custom_decoder)"
   ]
  },
  {
   "cell_type": "code",
   "execution_count": 76,
   "metadata": {},
   "outputs": [
    {
     "name": "stdout",
     "output_type": "stream",
     "text": [
      "{'accountHolder': Person(name=Eric Idle, ssn=100),\n",
      " 'created': datetime.datetime(2020, 12, 31, 23, 59, 59),\n",
      " 'message': 'created this json string'}\n"
     ]
    }
   ],
   "source": [
    "pprint(d)"
   ]
  },
  {
   "cell_type": "markdown",
   "metadata": {},
   "source": [
    "<hr>\n",
    "\n",
    "<a id='parse-parameters'></a>\n",
    "### 5.3 Decoding using specific parse parameters\n",
    "\n",
    "**Example 15**:"
   ]
  },
  {
   "cell_type": "code",
   "execution_count": 77,
   "metadata": {},
   "outputs": [],
   "source": [
    "def make_decimal(arg):\n",
    "    print('Float Received: ', type(arg), arg)\n",
    "    return Decimal(arg)\n",
    "\n",
    "def make_int_binary(arg):\n",
    "    print('Int Received: ', type(arg), arg)\n",
    "    return bin(int(arg))"
   ]
  },
  {
   "cell_type": "code",
   "execution_count": 78,
   "metadata": {},
   "outputs": [],
   "source": [
    "j = '''\n",
    "{\n",
    "    \"a\": 100,\n",
    "    \"b\": 0.2,\n",
    "    \"c\": 0.5\n",
    "}\n",
    "'''"
   ]
  },
  {
   "cell_type": "code",
   "execution_count": 79,
   "metadata": {},
   "outputs": [
    {
     "name": "stdout",
     "output_type": "stream",
     "text": [
      "Int Received:  <class 'str'> 100\n",
      "Float Received:  <class 'str'> 0.2\n",
      "Float Received:  <class 'str'> 0.5\n"
     ]
    }
   ],
   "source": [
    "d = json.loads(j, parse_int=make_int_binary, parse_float=make_decimal)"
   ]
  },
  {
   "cell_type": "code",
   "execution_count": 80,
   "metadata": {},
   "outputs": [
    {
     "data": {
      "text/plain": [
       "{'a': '0b1100100', 'b': Decimal('0.2'), 'c': Decimal('0.5')}"
      ]
     },
     "execution_count": 80,
     "metadata": {},
     "output_type": "execute_result"
    }
   ],
   "source": [
    "d"
   ]
  },
  {
   "cell_type": "markdown",
   "metadata": {},
   "source": [
    "<hr>"
   ]
  },
  {
   "cell_type": "code",
   "execution_count": 81,
   "metadata": {},
   "outputs": [],
   "source": [
    "def make_constant_none(arg):\n",
    "    print('Constant Received:', type(arg), arg)\n",
    "    return None"
   ]
  },
  {
   "cell_type": "code",
   "execution_count": 82,
   "metadata": {},
   "outputs": [],
   "source": [
    "j = '''\n",
    "{\n",
    "    \"a\": Infinity,\n",
    "    \"b\": true,\n",
    "    \"c\": null\n",
    "}\n",
    "'''"
   ]
  },
  {
   "cell_type": "code",
   "execution_count": 83,
   "metadata": {},
   "outputs": [
    {
     "name": "stdout",
     "output_type": "stream",
     "text": [
      "Constant Received: <class 'str'> Infinity\n"
     ]
    }
   ],
   "source": [
    "d = json.loads(j, parse_constant=make_constant_none)"
   ]
  },
  {
   "cell_type": "code",
   "execution_count": 84,
   "metadata": {},
   "outputs": [
    {
     "data": {
      "text/plain": [
       "{'a': None, 'b': True, 'c': None}"
      ]
     },
     "execution_count": 84,
     "metadata": {},
     "output_type": "execute_result"
    }
   ],
   "source": [
    "d"
   ]
  },
  {
   "cell_type": "markdown",
   "metadata": {},
   "source": [
    "<hr>\n",
    "\n",
    "<a id='overriding-basic-type-serializations'></a>\n",
    "### 5.4 Overriding Basic Type Serializations\n",
    "\n",
    "`object_hook` only allows us to customize deserialization of objects\n",
    "\n",
    "`load`/`loads` arguments to **override** data types handling:\n",
    "* `parse_float`\n",
    "* `parse_int`\n",
    "* `parse_constant`\n",
    "\n",
    "No overrides for strings"
   ]
  },
  {
   "cell_type": "code",
   "execution_count": 85,
   "metadata": {},
   "outputs": [],
   "source": [
    "j = '''\n",
    "{\n",
    "    \"a\": [1, 2, 3, 4, 5],\n",
    "    \"b\": 100,\n",
    "    \"c\": 10.5,\n",
    "    \"d\": NaN,\n",
    "    \"e\": null,\n",
    "    \"f\": \"python\"\n",
    "}\n",
    "'''"
   ]
  },
  {
   "cell_type": "code",
   "execution_count": 86,
   "metadata": {},
   "outputs": [],
   "source": [
    "def float_handler(arg):\n",
    "    print('float handler', type(arg), arg)\n",
    "    return float(arg)\n",
    "\n",
    "def int_handler(arg):\n",
    "    print('int handler', type(arg), arg)\n",
    "    return int(arg)\n",
    "\n",
    "def const_handler(arg):\n",
    "    print('const handler', type(arg), arg)\n",
    "    return None\n",
    "\n",
    "def obj_hook(arg):\n",
    "    print('obj hook', type(arg), arg)\n",
    "    return arg"
   ]
  },
  {
   "cell_type": "code",
   "execution_count": 87,
   "metadata": {},
   "outputs": [
    {
     "data": {
      "text/plain": [
       "{'a': [1, 2, 3, 4, 5], 'b': 100, 'c': 10.5, 'd': nan, 'e': None, 'f': 'python'}"
      ]
     },
     "execution_count": 87,
     "metadata": {},
     "output_type": "execute_result"
    }
   ],
   "source": [
    "json.loads(j)"
   ]
  },
  {
   "cell_type": "code",
   "execution_count": 88,
   "metadata": {},
   "outputs": [
    {
     "name": "stdout",
     "output_type": "stream",
     "text": [
      "int handler <class 'str'> 1\n",
      "int handler <class 'str'> 2\n",
      "int handler <class 'str'> 3\n",
      "int handler <class 'str'> 4\n",
      "int handler <class 'str'> 5\n",
      "int handler <class 'str'> 100\n",
      "float handler <class 'str'> 10.5\n",
      "obj hook <class 'dict'> {'a': [1, 2, 3, 4, 5], 'b': 100, 'c': 10.5, 'd': nan, 'e': None, 'f': 'python'}\n"
     ]
    },
    {
     "data": {
      "text/plain": [
       "{'a': [1, 2, 3, 4, 5], 'b': 100, 'c': 10.5, 'd': nan, 'e': None, 'f': 'python'}"
      ]
     },
     "execution_count": 88,
     "metadata": {},
     "output_type": "execute_result"
    }
   ],
   "source": [
    "json.loads(j, \n",
    "           object_hook=obj_hook, \n",
    "           parse_float=float_handler, \n",
    "           parse_int=int_handler\n",
    "          )"
   ]
  },
  {
   "cell_type": "markdown",
   "metadata": {},
   "source": [
    "<hr>\n",
    "\n",
    "<a id='jsondecoder-class'></a>\n",
    "## 6. JSONDecoder class\n",
    "\n",
    "Create a custom `JSONDecoder` class and specify it with the `cls` argument.\n",
    "* inherit from `JSONDecoder`\n",
    "* **override** the `decode` function\n",
    "* `decode` function receives **entire** JSON **string**\n",
    "* we have to **fully parse** and return whatever object we want\n",
    "\n",
    "\n",
    "**Example 16**:\n",
    "\n",
    "Custom decoder, assuming that points will be a top level node in the JSON object:"
   ]
  },
  {
   "cell_type": "code",
   "execution_count": 89,
   "metadata": {},
   "outputs": [],
   "source": [
    "class Point:\n",
    "    def __init__(self, x, y):\n",
    "        self.x = x\n",
    "        self.y = y\n",
    "        \n",
    "    def __repr__(self):\n",
    "        return f'Point(x={self.x}, y={self.y})'"
   ]
  },
  {
   "cell_type": "code",
   "execution_count": 90,
   "metadata": {},
   "outputs": [],
   "source": [
    "j_points = '''\n",
    "{\n",
    "    \"points\": [\n",
    "        [10, 20],\n",
    "        [-1, -2],\n",
    "        [0.5, 0.5]\n",
    "    ]\n",
    "}\n",
    "'''"
   ]
  },
  {
   "cell_type": "code",
   "execution_count": 91,
   "metadata": {},
   "outputs": [],
   "source": [
    "class CustomDecoder(json.JSONDecoder):\n",
    "    def decode(self, arg):\n",
    "        obj = json.loads(arg)\n",
    "        if 'points' in obj:  # top level\n",
    "            obj['points'] = [Point(x, y) for x, y in obj['points']]\n",
    "        return obj"
   ]
  },
  {
   "cell_type": "code",
   "execution_count": 92,
   "metadata": {
    "scrolled": true
   },
   "outputs": [
    {
     "data": {
      "text/plain": [
       "{'points': [Point(x=10, y=20), Point(x=-1, y=-2), Point(x=0.5, y=0.5)]}"
      ]
     },
     "execution_count": 92,
     "metadata": {},
     "output_type": "execute_result"
    }
   ],
   "source": [
    "json.loads(j_points, cls=CustomDecoder)"
   ]
  },
  {
   "cell_type": "markdown",
   "metadata": {},
   "source": [
    "<hr>"
   ]
  },
  {
   "cell_type": "code",
   "execution_count": 93,
   "metadata": {},
   "outputs": [],
   "source": [
    "j_other = '''\n",
    "{\n",
    "    \"a\": 1,\n",
    "    \"b\": 2\n",
    "}\n",
    "'''"
   ]
  },
  {
   "cell_type": "code",
   "execution_count": 94,
   "metadata": {},
   "outputs": [
    {
     "data": {
      "text/plain": [
       "{'a': 1, 'b': 2}"
      ]
     },
     "execution_count": 94,
     "metadata": {},
     "output_type": "execute_result"
    }
   ],
   "source": [
    "json.loads(j_other, cls=CustomDecoder)"
   ]
  },
  {
   "cell_type": "markdown",
   "metadata": {},
   "source": [
    "**Example 17**:\n",
    "\n",
    "Use Regular Expressions to identify specific object type.\n",
    "\n",
    "Schema used for this example: `{\"_type\": \"point\", \"x\": x-coord, \"y\": y-coord}`"
   ]
  },
  {
   "cell_type": "code",
   "execution_count": 95,
   "metadata": {},
   "outputs": [],
   "source": [
    "j = '''\n",
    "{\n",
    "    \"a\": 100,\n",
    "    \"b\": 0.5,\n",
    "    \"rectangle\": {\n",
    "        \"corners\": {\n",
    "            \"b_left\": {\"_type\": \"point\", \"x\": -1, \"y\": -1},\n",
    "            \"b_right\": {\"_type\": \"point\", \"x\": 1, \"y\": -1},\n",
    "            \"t_left\": {\"_type\": \"point\", \"x\": -1, \"y\": 1},\n",
    "            \"t_right\": {\"_type\": \"point\", \"x\": 1, \"y\": 1}\n",
    "        },\n",
    "        \"rotate\": {\"_type\" : \"point\", \"x\": 0, \"y\": 0},\n",
    "        \"interior_pts\": [\n",
    "            {\"_type\": \"point\", \"x\": 0, \"y\": 0},\n",
    "            {\"_type\": \"point\", \"x\": 0.5, \"y\": 0.5}\n",
    "        ]\n",
    "    }\n",
    "}\n",
    "'''"
   ]
  },
  {
   "cell_type": "code",
   "execution_count": 96,
   "metadata": {},
   "outputs": [],
   "source": [
    "import re\n",
    "\n",
    "class CustomDecoder(json.JSONDecoder):\n",
    "    def decode(self, arg):\n",
    "        obj = json.loads(arg)\n",
    "        pattern = r'\"_type\"\\s*:\\s*\"point\"'\n",
    "        if re.search(pattern, arg):\n",
    "            obj = self.make_pts(obj)\n",
    "        return obj\n",
    "    \n",
    "    def make_pts(self, obj):\n",
    "        if isinstance(obj, dict):\n",
    "            if obj.get('_type', None) == 'point':\n",
    "                obj = Point(obj['x'], obj['y'])\n",
    "            else:\n",
    "                for key, value in obj.items():\n",
    "                    obj[key] = self.make_pts(value)\n",
    "        elif isinstance(obj, list):\n",
    "            for index, item in enumerate(obj):\n",
    "                obj[index] = self.make_pts(item)\n",
    "        return obj        "
   ]
  },
  {
   "cell_type": "code",
   "execution_count": 97,
   "metadata": {},
   "outputs": [
    {
     "data": {
      "text/plain": [
       "{'a': 100,\n",
       " 'b': 0.5,\n",
       " 'rectangle': {'corners': {'b_left': {'_type': 'point', 'x': -1, 'y': -1},\n",
       "   'b_right': {'_type': 'point', 'x': 1, 'y': -1},\n",
       "   't_left': {'_type': 'point', 'x': -1, 'y': 1},\n",
       "   't_right': {'_type': 'point', 'x': 1, 'y': 1}},\n",
       "  'rotate': {'_type': 'point', 'x': 0, 'y': 0},\n",
       "  'interior_pts': [{'_type': 'point', 'x': 0, 'y': 0},\n",
       "   {'_type': 'point', 'x': 0.5, 'y': 0.5}]}}"
      ]
     },
     "execution_count": 97,
     "metadata": {},
     "output_type": "execute_result"
    }
   ],
   "source": [
    "json.loads(j)"
   ]
  },
  {
   "cell_type": "code",
   "execution_count": 98,
   "metadata": {
    "scrolled": true
   },
   "outputs": [
    {
     "name": "stdout",
     "output_type": "stream",
     "text": [
      "{'a': 100,\n",
      " 'b': 0.5,\n",
      " 'rectangle': {'corners': {'b_left': Point(x=-1, y=-1),\n",
      "                           'b_right': Point(x=1, y=-1),\n",
      "                           't_left': Point(x=-1, y=1),\n",
      "                           't_right': Point(x=1, y=1)},\n",
      "               'interior_pts': [Point(x=0, y=0), Point(x=0.5, y=0.5)],\n",
      "               'rotate': Point(x=0, y=0)}}\n"
     ]
    }
   ],
   "source": [
    "pprint(json.loads(j, cls=CustomDecoder))"
   ]
  },
  {
   "cell_type": "markdown",
   "metadata": {},
   "source": [
    "<hr>\n",
    "\n",
    "Alternative way to use `JSONDecoder` class is to specify object and override `default` attribute"
   ]
  },
  {
   "cell_type": "code",
   "execution_count": 99,
   "metadata": {},
   "outputs": [],
   "source": [
    "CustomDecoder = json.JSONDecoder(parse_float=Decimal)"
   ]
  },
  {
   "cell_type": "code",
   "execution_count": 100,
   "metadata": {
    "scrolled": true
   },
   "outputs": [
    {
     "name": "stdout",
     "output_type": "stream",
     "text": [
      "{'a': 100,\n",
      " 'b': Decimal('0.5'),\n",
      " 'rectangle': {'corners': {'b_left': {'_type': 'point', 'x': -1, 'y': -1},\n",
      "                           'b_right': {'_type': 'point', 'x': 1, 'y': -1},\n",
      "                           't_left': {'_type': 'point', 'x': -1, 'y': 1},\n",
      "                           't_right': {'_type': 'point', 'x': 1, 'y': 1}},\n",
      "               'interior_pts': [{'_type': 'point', 'x': 0, 'y': 0},\n",
      "                                {'_type': 'point',\n",
      "                                 'x': Decimal('0.5'),\n",
      "                                 'y': Decimal('0.5')}],\n",
      "               'rotate': {'_type': 'point', 'x': 0, 'y': 0}}}\n"
     ]
    }
   ],
   "source": [
    "pprint(CustomDecoder.decode(j))"
   ]
  },
  {
   "cell_type": "markdown",
   "metadata": {},
   "source": [
    "<hr>\n",
    "\n",
    "<a id='json-schema'></a>\n",
    "## 7. JSON Schema\n",
    "\n",
    "JSON data, the way the data is formatted, often conforms to some very precise specification for JSON input and output.\n",
    "\n",
    "One of these is the JSON Schema standard:\n",
    "https://json-schema.org/\n",
    "\n",
    "We can then determine if the JSON is valid.\n",
    "\n",
    "**Example 18**:\n",
    "\n",
    "Sample schema:\n",
    "* type object requires `\"firstName\"` and `\"lastName\"` to be provided\n",
    "* has specified type for each field\n",
    "* has specified value lenght for each field \n",
    "* field `\"eyeColor\"` which must contain (if provided) one of a few specific values: `amber`, `blue`, `brown`, `gray`, `green`, `hazel`, `red`, or `violet`."
   ]
  },
  {
   "cell_type": "code",
   "execution_count": 101,
   "metadata": {},
   "outputs": [],
   "source": [
    "person_schema = {\n",
    "    \"type\": \"object\",\n",
    "    \"properties\": {\n",
    "        \"firstName\": {\n",
    "            \"type\": \"string\",\n",
    "            \"minLength\": 1\n",
    "        },\n",
    "        \"middleInitial\": {\n",
    "            \"type\": \"string\",\n",
    "            \"minLength\": 1,\n",
    "            \"maxLength\": 1\n",
    "        },\n",
    "        \"lastName\": {\n",
    "            \"type\": \"string\",\n",
    "            \"minLength\": 1\n",
    "        },\n",
    "        \"age\": {\n",
    "            \"type\": \"integer\", \n",
    "            \"minimum\": 0\n",
    "        },\n",
    "        \"eyeColor\": {\n",
    "            \"type\": \"string\",\n",
    "            \"enum\": [\"amber\", \"blue\", \"brown\", \"gray\", \n",
    "                     \"green\", \"hazel\", \"red\", \"violet\"]\n",
    "        }\n",
    "    },\n",
    "    \"required\": [\"firstName\", \"lastName\"]\n",
    "}"
   ]
  },
  {
   "cell_type": "markdown",
   "metadata": {},
   "source": [
    "<hr>\n",
    "\n",
    "Requires to install `jsonschema` library (usually `pip install jsonschema`)"
   ]
  },
  {
   "cell_type": "code",
   "execution_count": 102,
   "metadata": {},
   "outputs": [],
   "source": [
    "from jsonschema import validate\n",
    "from jsonschema.exceptions import ValidationError\n",
    "from json import loads, dumps, JSONDecodeError"
   ]
  },
  {
   "cell_type": "code",
   "execution_count": 103,
   "metadata": {},
   "outputs": [],
   "source": [
    "p1 = '''\n",
    "    {\n",
    "        \"firstName\": \"John\",\n",
    "        \"middleInitial\": \"M\",\n",
    "        \"lastName\": \"Cleese\",\n",
    "        \"age\": 79\n",
    "    }\n",
    "'''"
   ]
  },
  {
   "cell_type": "code",
   "execution_count": 104,
   "metadata": {},
   "outputs": [
    {
     "name": "stdout",
     "output_type": "stream",
     "text": [
      "JSON is valid\n"
     ]
    }
   ],
   "source": [
    "try:\n",
    "    validate(loads(p1), person_schema)\n",
    "except JSONDecodeError as ex:\n",
    "    print(f'Invalid JSON: {ex}')\n",
    "except ValidationError as ex:\n",
    "    print(f'Validation error: {ex}')\n",
    "else:\n",
    "    print('JSON is valid')"
   ]
  },
  {
   "cell_type": "code",
   "execution_count": 105,
   "metadata": {},
   "outputs": [],
   "source": [
    "p2 = '''\n",
    "    {\n",
    "        \"firstName\": \"John\",\n",
    "        \"middleInitial\": 100,\n",
    "        \"lastName\": \"Cleese\",\n",
    "        \"age\": \"Unknown\"\n",
    "    }\n",
    "'''"
   ]
  },
  {
   "cell_type": "code",
   "execution_count": 106,
   "metadata": {},
   "outputs": [
    {
     "name": "stdout",
     "output_type": "stream",
     "text": [
      "Validation error: 100 is not of type 'string'\n",
      "\n",
      "Failed validating 'type' in schema['properties']['middleInitial']:\n",
      "    {'maxLength': 1, 'minLength': 1, 'type': 'string'}\n",
      "\n",
      "On instance['middleInitial']:\n",
      "    100\n"
     ]
    }
   ],
   "source": [
    "try:\n",
    "    validate(loads(p2), person_schema)\n",
    "except JSONDecodeError as ex:\n",
    "    print(f'Invalid JSON: {ex}')\n",
    "except ValidationError as ex:\n",
    "    print(f'Validation error: {ex}')\n",
    "else:\n",
    "    print('JSON is valid')"
   ]
  },
  {
   "cell_type": "code",
   "execution_count": 107,
   "metadata": {},
   "outputs": [],
   "source": [
    "p3 = '''\n",
    "    {\n",
    "        \"firstName\": \"John\",\n",
    "        \"age\": -10.5\n",
    "    }\n",
    "'''"
   ]
  },
  {
   "cell_type": "code",
   "execution_count": 108,
   "metadata": {
    "scrolled": false
   },
   "outputs": [
    {
     "name": "stdout",
     "output_type": "stream",
     "text": [
      "Validation error: 'lastName' is a required property\n",
      "\n",
      "Failed validating 'required' in schema:\n",
      "    {'properties': {'age': {'minimum': 0, 'type': 'integer'},\n",
      "                    'eyeColor': {'enum': ['amber',\n",
      "                                          'blue',\n",
      "                                          'brown',\n",
      "                                          'gray',\n",
      "                                          'green',\n",
      "                                          'hazel',\n",
      "                                          'red',\n",
      "                                          'violet'],\n",
      "                                 'type': 'string'},\n",
      "                    'firstName': {'minLength': 1, 'type': 'string'},\n",
      "                    'lastName': {'minLength': 1, 'type': 'string'},\n",
      "                    'middleInitial': {'maxLength': 1,\n",
      "                                      'minLength': 1,\n",
      "                                      'type': 'string'}},\n",
      "     'required': ['firstName', 'lastName'],\n",
      "     'type': 'object'}\n",
      "\n",
      "On instance:\n",
      "    {'age': -10.5, 'firstName': 'John'}\n"
     ]
    }
   ],
   "source": [
    "try:\n",
    "    validate(loads(p3), person_schema)\n",
    "except JSONDecodeError as ex:\n",
    "    print(f'Invalid JSON: {ex}')\n",
    "except ValidationError as ex:\n",
    "    print(f'Validation error: {ex}')\n",
    "else:\n",
    "    print('JSON is valid')"
   ]
  },
  {
   "cell_type": "markdown",
   "metadata": {},
   "source": [
    "<hr>\n",
    "\n",
    "**Example 19**:\n",
    "\n",
    "The validator only returns the first validation error it encounters. <br>\n",
    "This can be changed to run the entire validation and return all the validation errors (if any)."
   ]
  },
  {
   "cell_type": "code",
   "execution_count": 109,
   "metadata": {},
   "outputs": [],
   "source": [
    "from jsonschema import Draft4Validator\n",
    "\n",
    "validator = Draft4Validator(person_schema)"
   ]
  },
  {
   "cell_type": "code",
   "execution_count": 110,
   "metadata": {},
   "outputs": [
    {
     "name": "stdout",
     "output_type": "stream",
     "text": [
      "100 is not of type 'string'\n",
      "\n",
      "Failed validating 'type' in schema['properties']['middleInitial']:\n",
      "    {'maxLength': 1, 'minLength': 1, 'type': 'string'}\n",
      "\n",
      "On instance['middleInitial']:\n",
      "    100\n",
      "-----------\n",
      "'Unknown' is not of type 'integer'\n",
      "\n",
      "Failed validating 'type' in schema['properties']['age']:\n",
      "    {'minimum': 0, 'type': 'integer'}\n",
      "\n",
      "On instance['age']:\n",
      "    'Unknown'\n",
      "-----------\n"
     ]
    }
   ],
   "source": [
    "for error in validator.iter_errors(loads(p2)):\n",
    "    print(error, end='\\n-----------\\n')"
   ]
  },
  {
   "cell_type": "code",
   "execution_count": 111,
   "metadata": {},
   "outputs": [],
   "source": [
    "p4 = '''\n",
    "    {\n",
    "        \"firstName\": \"John\",\n",
    "        \"middleInitial\": null,\n",
    "        \"lastName\": \"Cleese\",\n",
    "        \"eyeColor\": \"blue-gray\"\n",
    "    }\n",
    "'''"
   ]
  },
  {
   "cell_type": "code",
   "execution_count": 112,
   "metadata": {},
   "outputs": [
    {
     "name": "stdout",
     "output_type": "stream",
     "text": [
      "None is not of type 'string'\n",
      "\n",
      "Failed validating 'type' in schema['properties']['middleInitial']:\n",
      "    {'maxLength': 1, 'minLength': 1, 'type': 'string'}\n",
      "\n",
      "On instance['middleInitial']:\n",
      "    None\n",
      "-----------\n",
      "'blue-gray' is not one of ['amber', 'blue', 'brown', 'gray', 'green', 'hazel', 'red', 'violet']\n",
      "\n",
      "Failed validating 'enum' in schema['properties']['eyeColor']:\n",
      "    {'enum': ['amber',\n",
      "              'blue',\n",
      "              'brown',\n",
      "              'gray',\n",
      "              'green',\n",
      "              'hazel',\n",
      "              'red',\n",
      "              'violet'],\n",
      "     'type': 'string'}\n",
      "\n",
      "On instance['eyeColor']:\n",
      "    'blue-gray'\n",
      "-----------\n"
     ]
    }
   ],
   "source": [
    "for error in validator.iter_errors(loads(p4)):\n",
    "    print(error, end='\\n-----------\\n')    "
   ]
  },
  {
   "cell_type": "markdown",
   "metadata": {},
   "source": [
    "<hr>\n",
    "\n",
    "<a id='marshmallow'></a>\n",
    "## 8. Marshmallow\n",
    "\n",
    "Marshmallow is a library that can be used to \"translate\" objects to and from complex data types.<br>\n",
    "At the same time, it can also perform validation and is very customizable.\n",
    "\n",
    "[https://marshmallow.readthedocs.io/en/3.0/](https://marshmallow.readthedocs.io/en/3.0/)\n",
    "\n",
    "**Example 20**:\n",
    "\n",
    "Person serialization with custom object and namedtuple.\n",
    "\n",
    "Serialize objects by passing them to your schema’s `dump` method, which returns the formatted result.<br>\n",
    "You can also serialize to a JSON-encoded string using `dumps`."
   ]
  },
  {
   "cell_type": "code",
   "execution_count": 113,
   "metadata": {},
   "outputs": [
    {
     "name": "stdout",
     "output_type": "stream",
     "text": [
      "Requirement already satisfied: marshmallow in c:\\users\\puck\\miniconda3\\envs\\deep-dive\\lib\\site-packages (3.12.2)\n"
     ]
    }
   ],
   "source": [
    "!pip install marshmallow"
   ]
  },
  {
   "cell_type": "code",
   "execution_count": 114,
   "metadata": {},
   "outputs": [],
   "source": [
    "from marshmallow import Schema, fields"
   ]
  },
  {
   "cell_type": "code",
   "execution_count": 115,
   "metadata": {},
   "outputs": [],
   "source": [
    "class Person:\n",
    "    def __init__(self, first_name, last_name, dob, height):\n",
    "        self.first_name = first_name\n",
    "        self.last_name = last_name\n",
    "        self.dob = dob\n",
    "        self.height = height\n",
    "    \n",
    "    def __repr__(self):\n",
    "        return f'Person({self.first_name}, {self.last_name}, {self.dob}, {self.height})'"
   ]
  },
  {
   "cell_type": "code",
   "execution_count": 116,
   "metadata": {},
   "outputs": [
    {
     "data": {
      "text/plain": [
       "Person(John, Cleese, 1939-10-27, 182)"
      ]
     },
     "execution_count": 116,
     "metadata": {},
     "output_type": "execute_result"
    }
   ],
   "source": [
    "from datetime import date\n",
    "\n",
    "p1 = Person('John', 'Cleese', date(1939, 10, 27), 182)\n",
    "p1"
   ]
  },
  {
   "cell_type": "code",
   "execution_count": 117,
   "metadata": {},
   "outputs": [],
   "source": [
    "class PersonSchema(Schema):\n",
    "    first_name = fields.Str()\n",
    "    last_name = fields.Str()\n",
    "    dob = fields.Date()\n",
    "    height = fields.Int()"
   ]
  },
  {
   "cell_type": "code",
   "execution_count": 118,
   "metadata": {},
   "outputs": [],
   "source": [
    "person_schema = PersonSchema()"
   ]
  },
  {
   "cell_type": "code",
   "execution_count": 119,
   "metadata": {},
   "outputs": [
    {
     "data": {
      "text/plain": [
       "{'dob': '1939-10-27',\n",
       " 'last_name': 'Cleese',\n",
       " 'height': 182,\n",
       " 'first_name': 'John'}"
      ]
     },
     "execution_count": 119,
     "metadata": {},
     "output_type": "execute_result"
    }
   ],
   "source": [
    "person_schema.dump(p1)"
   ]
  },
  {
   "cell_type": "markdown",
   "metadata": {},
   "source": [
    "<hr>"
   ]
  },
  {
   "cell_type": "code",
   "execution_count": 120,
   "metadata": {},
   "outputs": [
    {
     "data": {
      "text/plain": [
       "PT(first_name='Eric', last_name='Idle', dob=datetime.date(1943, 3, 29), height=178)"
      ]
     },
     "execution_count": 120,
     "metadata": {},
     "output_type": "execute_result"
    }
   ],
   "source": [
    "from collections import namedtuple\n",
    "\n",
    "PT = namedtuple('PT', 'first_name, last_name, dob, height')\n",
    "p2 = PT('Eric', 'Idle', date(1943, 3, 29), 178)\n",
    "p2"
   ]
  },
  {
   "cell_type": "code",
   "execution_count": 121,
   "metadata": {},
   "outputs": [
    {
     "data": {
      "text/plain": [
       "{'dob': '1943-03-29', 'last_name': 'Idle', 'height': 178, 'first_name': 'Eric'}"
      ]
     },
     "execution_count": 121,
     "metadata": {},
     "output_type": "execute_result"
    }
   ],
   "source": [
    "person_schema.dump(p2)"
   ]
  },
  {
   "cell_type": "markdown",
   "metadata": {},
   "source": [
    "<hr>\n",
    "\n",
    "Specify attributes to use:"
   ]
  },
  {
   "cell_type": "code",
   "execution_count": 122,
   "metadata": {},
   "outputs": [
    {
     "data": {
      "text/plain": [
       "'{\"last_name\": \"Idle\", \"first_name\": \"Eric\"}'"
      ]
     },
     "execution_count": 122,
     "metadata": {},
     "output_type": "execute_result"
    }
   ],
   "source": [
    "\n",
    "person_partial = PersonSchema(only=('first_name', 'last_name'))\n",
    "\n",
    "person_partial.dumps(p2)"
   ]
  },
  {
   "cell_type": "code",
   "execution_count": 123,
   "metadata": {},
   "outputs": [
    {
     "data": {
      "text/plain": [
       "'{\"last_name\": \"Idle\", \"height\": 178, \"first_name\": \"Eric\"}'"
      ]
     },
     "execution_count": 123,
     "metadata": {},
     "output_type": "execute_result"
    }
   ],
   "source": [
    "person_partial = PersonSchema(exclude=['dob'])\n",
    "\n",
    "person_partial.dumps(p2)"
   ]
  },
  {
   "cell_type": "markdown",
   "metadata": {},
   "source": [
    "<hr>\n",
    "\n",
    "**Example 21**:"
   ]
  },
  {
   "cell_type": "code",
   "execution_count": 124,
   "metadata": {},
   "outputs": [],
   "source": [
    "class Movie:\n",
    "    def __init__(self, title, year, actors):\n",
    "        self.title = title\n",
    "        self.year = year\n",
    "        self.actors = actors"
   ]
  },
  {
   "cell_type": "code",
   "execution_count": 125,
   "metadata": {},
   "outputs": [],
   "source": [
    "class MovieSchema(Schema):\n",
    "    title = fields.Str()\n",
    "    year = fields.Int()\n",
    "    actors = fields.Nested(PersonSchema, many=True)"
   ]
  },
  {
   "cell_type": "code",
   "execution_count": 126,
   "metadata": {},
   "outputs": [
    {
     "data": {
      "text/plain": [
       "(Person(John, Cleese, 1939-10-27, 182),\n",
       " PT(first_name='Eric', last_name='Idle', dob=datetime.date(1943, 3, 29), height=178))"
      ]
     },
     "execution_count": 126,
     "metadata": {},
     "output_type": "execute_result"
    }
   ],
   "source": [
    "p1, p2"
   ]
  },
  {
   "cell_type": "code",
   "execution_count": 127,
   "metadata": {},
   "outputs": [],
   "source": [
    "parrot = Movie('Parrot Sketch', 1989, [p1, PT('Michael', 'Palin', date(1943, 5, 5), 177)])"
   ]
  },
  {
   "cell_type": "code",
   "execution_count": 128,
   "metadata": {},
   "outputs": [
    {
     "data": {
      "text/plain": [
       "'{\"title\": \"Parrot Sketch\", \"actors\": [{\"dob\": \"1939-10-27\", \"last_name\": \"Cleese\", \"height\": 182, \"first_name\": \"John\"}, {\"dob\": \"1943-05-05\", \"last_name\": \"Palin\", \"height\": 177, \"first_name\": \"Michael\"}], \"year\": 1989}'"
      ]
     },
     "execution_count": 128,
     "metadata": {},
     "output_type": "execute_result"
    }
   ],
   "source": [
    "MovieSchema().dumps(parrot)"
   ]
  },
  {
   "cell_type": "markdown",
   "metadata": {},
   "source": [
    "<hr>\n",
    "\n",
    "**Example 22**:\n",
    "\n",
    "Person deserialize with Schema"
   ]
  },
  {
   "cell_type": "code",
   "execution_count": 129,
   "metadata": {},
   "outputs": [],
   "source": [
    "person_schema = PersonSchema()"
   ]
  },
  {
   "cell_type": "code",
   "execution_count": 130,
   "metadata": {},
   "outputs": [
    {
     "data": {
      "text/plain": [
       "{'dob': datetime.date(1939, 10, 27),\n",
       " 'last_name': 'Cleese',\n",
       " 'height': 182,\n",
       " 'first_name': 'John'}"
      ]
     },
     "execution_count": 130,
     "metadata": {},
     "output_type": "execute_result"
    }
   ],
   "source": [
    "person_schema.load(dict(first_name='John',\n",
    "                        last_name='Cleese',\n",
    "                        dob='1939-10-27',\n",
    "                        height=182\n",
    "                       ))"
   ]
  },
  {
   "cell_type": "markdown",
   "metadata": {},
   "source": [
    "To allow deserialize methods to create a Person objects instead a dictionary, a dedicated method is definded in the schema object with marshmallow's `post_load` as decorator."
   ]
  },
  {
   "cell_type": "code",
   "execution_count": 131,
   "metadata": {},
   "outputs": [],
   "source": [
    "from marshmallow import post_load"
   ]
  },
  {
   "cell_type": "code",
   "execution_count": 132,
   "metadata": {},
   "outputs": [],
   "source": [
    "class PersonSchema(Schema):\n",
    "    first_name = fields.Str()\n",
    "    last_name = fields.Str()\n",
    "    dob = fields.Date()\n",
    "    height = fields.Int()\n",
    "    \n",
    "    @post_load\n",
    "    def make_person(self, data, **kwargs):\n",
    "        return Person(**data)"
   ]
  },
  {
   "cell_type": "code",
   "execution_count": 133,
   "metadata": {},
   "outputs": [
    {
     "data": {
      "text/plain": [
       "Person(John, Cleese, 1939-10-27, 182)"
      ]
     },
     "execution_count": 133,
     "metadata": {},
     "output_type": "execute_result"
    }
   ],
   "source": [
    "person_schema = PersonSchema()\n",
    "person_schema.load(dict(first_name='John',\n",
    "                        last_name='Cleese',\n",
    "                        dob='1939-10-27',\n",
    "                        height=182))"
   ]
  },
  {
   "cell_type": "markdown",
   "metadata": {},
   "source": [
    "<hr>"
   ]
  },
  {
   "cell_type": "code",
   "execution_count": 134,
   "metadata": {},
   "outputs": [],
   "source": [
    "class MovieSchema(Schema):\n",
    "    title = fields.Str()\n",
    "    year = fields.Integer()\n",
    "    actors = fields.Nested(PersonSchema, many=True)\n",
    "    \n",
    "    @post_load\n",
    "    def make_movie(self, data, **kwargs):\n",
    "        return Movie(**data)\n",
    "\n",
    "    \n",
    "movie_schema = MovieSchema()"
   ]
  },
  {
   "cell_type": "code",
   "execution_count": 135,
   "metadata": {},
   "outputs": [],
   "source": [
    "json_data = '''\n",
    "{\"actors\": [\n",
    "    {\"first_name\": \"John\", \"last_name\": \"Cleese\", \"dob\": \"1939-10-27\", \"height\": 182}, \n",
    "    {\"first_name\": \"Michael\", \"last_name\": \"Palin\", \"dob\": \"1943-05-05\", \"height\": 177}], \n",
    "\"title\": \"Parrot Sketch\", \n",
    "\"year\": 1989}\n",
    "'''"
   ]
  },
  {
   "cell_type": "code",
   "execution_count": 136,
   "metadata": {},
   "outputs": [
    {
     "data": {
      "text/plain": [
       "<__main__.Movie at 0x1e578893130>"
      ]
     },
     "execution_count": 136,
     "metadata": {},
     "output_type": "execute_result"
    }
   ],
   "source": [
    "movie = movie_schema.loads(json_data)\n",
    "movie"
   ]
  },
  {
   "cell_type": "code",
   "execution_count": 137,
   "metadata": {},
   "outputs": [
    {
     "data": {
      "text/plain": [
       "('Parrot Sketch', 1989)"
      ]
     },
     "execution_count": 137,
     "metadata": {},
     "output_type": "execute_result"
    }
   ],
   "source": [
    "movie.title, movie.year"
   ]
  },
  {
   "cell_type": "code",
   "execution_count": 138,
   "metadata": {},
   "outputs": [
    {
     "data": {
      "text/plain": [
       "[Person(John, Cleese, 1939-10-27, 182),\n",
       " Person(Michael, Palin, 1943-05-05, 177)]"
      ]
     },
     "execution_count": 138,
     "metadata": {},
     "output_type": "execute_result"
    }
   ],
   "source": [
    "movie.actors"
   ]
  },
  {
   "cell_type": "code",
   "execution_count": null,
   "metadata": {},
   "outputs": [],
   "source": []
  }
 ],
 "metadata": {
  "kernelspec": {
   "display_name": "Python 3",
   "language": "python",
   "name": "python3"
  },
  "language_info": {
   "codemirror_mode": {
    "name": "ipython",
    "version": 3
   },
   "file_extension": ".py",
   "mimetype": "text/x-python",
   "name": "python",
   "nbconvert_exporter": "python",
   "pygments_lexer": "ipython3",
   "version": "3.9.5"
  }
 },
 "nbformat": 4,
 "nbformat_minor": 4
}
