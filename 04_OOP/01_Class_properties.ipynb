{
 "cells": [
  {
   "cell_type": "markdown",
   "metadata": {},
   "source": [
    "### 25. Read only and computed properties\n",
    "#### Circle example\n",
    "In the Circle class we pass radius value and area is calculated. \\\n",
    "Both parameters are \"private\" and property parameters are defined with setter for radius (area is calculated from radius).\n",
    "\n",
    "To avoid recalculating area each time called we set area to `None` once radius is changed. \\\n",
    "Then area is recalculated when area property is called with instance variable `_area==None`. \n",
    "\n",
    "To calculate area we use radius property and not \\_radius."
   ]
  },
  {
   "cell_type": "code",
   "execution_count": 1,
   "metadata": {},
   "outputs": [],
   "source": [
    "from math import pi\n",
    "\n",
    "class Circle:\n",
    "    def __init__(self, radius):\n",
    "        self._radius = radius\n",
    "        self._area = None\n",
    "    \n",
    "    @property\n",
    "    def radius(self):\n",
    "        return self._radius\n",
    "    \n",
    "    @radius.setter\n",
    "    def radius(self, value):\n",
    "        self._area = None\n",
    "        self._radius = value\n",
    "        \n",
    "    @property\n",
    "    def area(self):\n",
    "        if self._area is None:\n",
    "            print('Calculating area...')\n",
    "            self._area = pi * (self.radius ** 2)\n",
    "        return self._area"
   ]
  },
  {
   "cell_type": "code",
   "execution_count": 2,
   "metadata": {},
   "outputs": [],
   "source": [
    "c = Circle(1)"
   ]
  },
  {
   "cell_type": "code",
   "execution_count": 3,
   "metadata": {},
   "outputs": [
    {
     "data": {
      "text/plain": [
       "1"
      ]
     },
     "execution_count": 3,
     "metadata": {},
     "output_type": "execute_result"
    }
   ],
   "source": [
    "c.radius"
   ]
  },
  {
   "cell_type": "code",
   "execution_count": 4,
   "metadata": {},
   "outputs": [
    {
     "name": "stdout",
     "output_type": "stream",
     "text": [
      "Calculating area...\n"
     ]
    },
    {
     "data": {
      "text/plain": [
       "3.141592653589793"
      ]
     },
     "execution_count": 4,
     "metadata": {},
     "output_type": "execute_result"
    }
   ],
   "source": [
    "c.area"
   ]
  },
  {
   "cell_type": "code",
   "execution_count": 5,
   "metadata": {},
   "outputs": [
    {
     "data": {
      "text/plain": [
       "3.141592653589793"
      ]
     },
     "execution_count": 5,
     "metadata": {},
     "output_type": "execute_result"
    }
   ],
   "source": [
    "c.area"
   ]
  },
  {
   "cell_type": "code",
   "execution_count": 6,
   "metadata": {},
   "outputs": [],
   "source": [
    "c.radius = 2"
   ]
  },
  {
   "cell_type": "code",
   "execution_count": 7,
   "metadata": {},
   "outputs": [
    {
     "data": {
      "text/plain": [
       "{'_radius': 2, '_area': None}"
      ]
     },
     "execution_count": 7,
     "metadata": {},
     "output_type": "execute_result"
    }
   ],
   "source": [
    "c.__dict__"
   ]
  },
  {
   "cell_type": "code",
   "execution_count": 8,
   "metadata": {},
   "outputs": [
    {
     "name": "stdout",
     "output_type": "stream",
     "text": [
      "Calculating area...\n"
     ]
    },
    {
     "data": {
      "text/plain": [
       "12.566370614359172"
      ]
     },
     "execution_count": 8,
     "metadata": {},
     "output_type": "execute_result"
    }
   ],
   "source": [
    "c.area"
   ]
  },
  {
   "cell_type": "code",
   "execution_count": 9,
   "metadata": {},
   "outputs": [
    {
     "data": {
      "text/plain": [
       "12.566370614359172"
      ]
     },
     "execution_count": 9,
     "metadata": {},
     "output_type": "execute_result"
    }
   ],
   "source": [
    "c.area"
   ]
  },
  {
   "cell_type": "markdown",
   "metadata": {},
   "source": [
    "#### URL example\n",
    "Class takes URL as instance attribute. \\\n",
    "Downloads webpage for that URL and provides some metrics for provided URL: download time, size of the page, etc. \\\n",
    "Urllib will be used for this example as part of standard library (although requests library is recommmended)"
   ]
  },
  {
   "cell_type": "code",
   "execution_count": 10,
   "metadata": {},
   "outputs": [],
   "source": [
    "import urllib\n",
    "from time import perf_counter"
   ]
  },
  {
   "cell_type": "code",
   "execution_count": 14,
   "metadata": {},
   "outputs": [],
   "source": [
    "class WebPage:\n",
    "    def __init__(self, url):\n",
    "        self.url = url  # using property setter method\n",
    "        self._page = None\n",
    "        self._load_time_secs = None\n",
    "        self._page_size = None\n",
    "    \n",
    "    @property\n",
    "    def url(self):\n",
    "        return self._url\n",
    "    \n",
    "    @url.setter\n",
    "    def url(self, value):\n",
    "        self._url = value\n",
    "        self._page = None  # we will not download page until it is requested\n",
    "    \n",
    "    @property\n",
    "    def page(self):\n",
    "        if self._page is None:\n",
    "            self.download_page()\n",
    "        return self._page\n",
    "    \n",
    "    @property\n",
    "    def page_size(self):\n",
    "        if self._page is None:\n",
    "            self.download_page()\n",
    "        return self._page_size\n",
    "    \n",
    "    @property\n",
    "    def time_elapsed(self):\n",
    "        if self._page is None:\n",
    "            self.download_page()\n",
    "        return self._load_time_secs\n",
    "    \n",
    "    def download_page(self):  # could be defined as hidden function\n",
    "        self._page_size = None\n",
    "        self._load_time_secs = None\n",
    "        start_time = perf_counter()\n",
    "        with urllib.request.urlopen(self.url) as f:\n",
    "            self._page = f.read()\n",
    "        end_time = perf_counter()\n",
    "        self._page_size = len(self._page)\n",
    "        self._load_time_secs = end_time - start_time"
   ]
  },
  {
   "cell_type": "code",
   "execution_count": 15,
   "metadata": {},
   "outputs": [],
   "source": [
    "urls = [\n",
    "    'https://www.google.com',\n",
    "    'https://www.python.org',\n",
    "    'https://www.yahoo.com'\n",
    "]"
   ]
  },
  {
   "cell_type": "code",
   "execution_count": 16,
   "metadata": {},
   "outputs": [
    {
     "name": "stdout",
     "output_type": "stream",
     "text": [
      "https://www.google.com\tsize=11_841\telapsed=0.31 secs\n",
      "https://www.python.org\tsize=48_898\telapsed=0.19 secs\n",
      "https://www.yahoo.com\tsize=248_348\telapsed=0.64 secs\n"
     ]
    }
   ],
   "source": [
    "for url in urls:\n",
    "    page = WebPage(url)\n",
    "    print(f'{url}\\tsize={format(page.page_size, \"_\")}\\telapsed={page.time_elapsed:.2f} secs')"
   ]
  },
  {
   "cell_type": "code",
   "execution_count": null,
   "metadata": {},
   "outputs": [],
   "source": []
  }
 ],
 "metadata": {
  "kernelspec": {
   "display_name": "Python 3",
   "language": "python",
   "name": "python3"
  },
  "language_info": {
   "codemirror_mode": {
    "name": "ipython",
    "version": 3
   },
   "file_extension": ".py",
   "mimetype": "text/x-python",
   "name": "python",
   "nbconvert_exporter": "python",
   "pygments_lexer": "ipython3",
   "version": "3.7.7"
  }
 },
 "nbformat": 4,
 "nbformat_minor": 4
}
