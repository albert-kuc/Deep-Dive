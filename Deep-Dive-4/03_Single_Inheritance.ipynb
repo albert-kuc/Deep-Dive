{
 "cells": [
  {
   "cell_type": "markdown",
   "id": "018460f3",
   "metadata": {},
   "source": [
    "# Single Inheritance\n",
    "\n",
    "Notes from [Deep Dive 4](https://www.udemy.com/course/python-3-deep-dive-part-4/) section 6. Topics covered:\n",
    "\n",
    "1\\. [The object class](#object-class)\n",
    "\n",
    "2\\. [Overriding and Extending](#overriding-extending)\n",
    "\n",
    "3\\. [Delegating to parrent](#delegating-to-parrent)\n",
    "\n",
    "4\\. [Slots](#slots)\n",
    "\n",
    "5\\. [Slots and Single Inheritance](#slots-inheritance)"
   ]
  },
  {
   "cell_type": "markdown",
   "id": "6699f829",
   "metadata": {},
   "source": [
    "<hr>\n",
    "\n",
    "<a id='object-class'></a>\n",
    "## 1. The object class\n",
    "\n",
    "`object` is a built-in Python class and every class in Python inherits from it."
   ]
  },
  {
   "cell_type": "code",
   "execution_count": 1,
   "id": "ed147a68",
   "metadata": {
    "scrolled": true
   },
   "outputs": [
    {
     "data": {
      "text/plain": [
       "type"
      ]
     },
     "execution_count": 1,
     "metadata": {},
     "output_type": "execute_result"
    }
   ],
   "source": [
    "type(object)"
   ]
  },
  {
   "cell_type": "markdown",
   "id": "6ef5a013",
   "metadata": {},
   "source": [
    "The `object` class implements a certain amount of base functionality."
   ]
  },
  {
   "cell_type": "code",
   "execution_count": 2,
   "id": "22f887f5",
   "metadata": {},
   "outputs": [
    {
     "data": {
      "text/plain": [
       "['__class__',\n",
       " '__delattr__',\n",
       " '__dir__',\n",
       " '__doc__',\n",
       " '__eq__',\n",
       " '__format__',\n",
       " '__ge__',\n",
       " '__getattribute__',\n",
       " '__gt__',\n",
       " '__hash__',\n",
       " '__init__',\n",
       " '__init_subclass__',\n",
       " '__le__',\n",
       " '__lt__',\n",
       " '__ne__',\n",
       " '__new__',\n",
       " '__reduce__',\n",
       " '__reduce_ex__',\n",
       " '__repr__',\n",
       " '__setattr__',\n",
       " '__sizeof__',\n",
       " '__str__',\n",
       " '__subclasshook__']"
      ]
     },
     "execution_count": 2,
     "metadata": {},
     "output_type": "execute_result"
    }
   ],
   "source": [
    "dir(object)"
   ]
  },
  {
   "cell_type": "markdown",
   "id": "12a42b61",
   "metadata": {},
   "source": [
    "<hr>\n",
    "\n",
    "<a id='overriding-extending'></a>\n",
    "## 2. Overriding and Extending\n",
    "\n",
    "Children classes inherit the functionality from parrent classes (and all parrent classes up the chain).\n",
    "\n",
    "Children classes may as well override methods functionality or get extended with new methods."
   ]
  },
  {
   "cell_type": "markdown",
   "id": "f529caf0",
   "metadata": {},
   "source": [
    "<hr>\n",
    "\n",
    "__Example 1__:\n",
    "\n",
    "Class relationship and method inheritance"
   ]
  },
  {
   "cell_type": "code",
   "execution_count": 3,
   "id": "ceeef77a",
   "metadata": {},
   "outputs": [],
   "source": [
    "class Shape:\n",
    "    def __init__(self, name):\n",
    "        self.name = name\n",
    "    \n",
    "    def info(self):\n",
    "        return f'Shape.info called for Shape({self.name})'\n",
    "    \n",
    "    def extended_info(self):\n",
    "        return f'Shape.extended_info called for Shape({self.name})', self.info()\n",
    "\n",
    "class Polygon(Shape):\n",
    "    def __init__(self, name):\n",
    "        self.name = name\n",
    "        \n",
    "    def info(self):\n",
    "        return f'Polygon.info called for Polygon({self.name})'"
   ]
  },
  {
   "cell_type": "code",
   "execution_count": 4,
   "id": "e6509a4c",
   "metadata": {},
   "outputs": [],
   "source": [
    "p = Polygon('square')"
   ]
  },
  {
   "cell_type": "markdown",
   "id": "36155742",
   "metadata": {},
   "source": [
    "<hr>\n",
    "\n",
    "__Relationships__\n",
    "\n",
    "* `issubclass(child, ancestor)`\n",
    "* `isinstance(object, class)`"
   ]
  },
  {
   "cell_type": "code",
   "execution_count": 5,
   "id": "4b995336",
   "metadata": {},
   "outputs": [
    {
     "data": {
      "text/plain": [
       "True"
      ]
     },
     "execution_count": 5,
     "metadata": {},
     "output_type": "execute_result"
    }
   ],
   "source": [
    "issubclass(Polygon, Shape)"
   ]
  },
  {
   "cell_type": "code",
   "execution_count": 6,
   "id": "ab8324e4",
   "metadata": {},
   "outputs": [
    {
     "data": {
      "text/plain": [
       "True"
      ]
     },
     "execution_count": 6,
     "metadata": {},
     "output_type": "execute_result"
    }
   ],
   "source": [
    "issubclass(Polygon, Shape)"
   ]
  },
  {
   "cell_type": "code",
   "execution_count": 7,
   "id": "11bff490",
   "metadata": {},
   "outputs": [
    {
     "data": {
      "text/plain": [
       "True"
      ]
     },
     "execution_count": 7,
     "metadata": {},
     "output_type": "execute_result"
    }
   ],
   "source": [
    "issubclass(Polygon, object)"
   ]
  },
  {
   "cell_type": "code",
   "execution_count": 8,
   "id": "384bf22f",
   "metadata": {},
   "outputs": [
    {
     "data": {
      "text/plain": [
       "True"
      ]
     },
     "execution_count": 8,
     "metadata": {},
     "output_type": "execute_result"
    }
   ],
   "source": [
    "isinstance(p, Polygon)"
   ]
  },
  {
   "cell_type": "code",
   "execution_count": 9,
   "id": "16f8f467",
   "metadata": {},
   "outputs": [
    {
     "data": {
      "text/plain": [
       "True"
      ]
     },
     "execution_count": 9,
     "metadata": {},
     "output_type": "execute_result"
    }
   ],
   "source": [
    "isinstance(p, Shape)"
   ]
  },
  {
   "cell_type": "markdown",
   "id": "910c27f1",
   "metadata": {},
   "source": [
    "<hr>\n",
    "\n",
    "__Method inheritance__"
   ]
  },
  {
   "cell_type": "code",
   "execution_count": 10,
   "id": "2ff5e869",
   "metadata": {
    "scrolled": true
   },
   "outputs": [
    {
     "data": {
      "text/plain": [
       "'Polygon.info called for Polygon(square)'"
      ]
     },
     "execution_count": 10,
     "metadata": {},
     "output_type": "execute_result"
    }
   ],
   "source": [
    "p.info()"
   ]
  },
  {
   "cell_type": "markdown",
   "id": "c4667d0e",
   "metadata": {},
   "source": [
    "<hr>\n",
    "\n",
    "Once Polygon object calls inherited method `extended_info()` which exists in the parrent class '`Shape`:\n",
    "* it returns string description including object name\n",
    "* calls `self.info()` which exists in `Polygon` class and overrides the same method in Shape."
   ]
  },
  {
   "cell_type": "code",
   "execution_count": 11,
   "id": "e08dbebf",
   "metadata": {},
   "outputs": [
    {
     "data": {
      "text/plain": [
       "('Shape.extended_info called for Shape(square)',\n",
       " 'Polygon.info called for Polygon(square)')"
      ]
     },
     "execution_count": 11,
     "metadata": {},
     "output_type": "execute_result"
    }
   ],
   "source": [
    "p.extended_info()"
   ]
  },
  {
   "cell_type": "markdown",
   "id": "410de37a",
   "metadata": {},
   "source": [
    "<hr>\n",
    "\n",
    "__Example 2__:\n",
    "\n",
    "Inherit methods which refer to instance, parrent and class attribute "
   ]
  },
  {
   "cell_type": "code",
   "execution_count": 12,
   "id": "3116d9f8",
   "metadata": {},
   "outputs": [],
   "source": [
    "class Account:\n",
    "    apr = 3.0\n",
    "    account_type = 'Generic Account'\n",
    "    \n",
    "    def __init__(self, account_number, balance):\n",
    "        self.account_number = account_number\n",
    "        self.balance = balance\n",
    "    \n",
    "    def calculate_interest_self(self):\n",
    "        \"\"\" Refers to instance apr attribute (class attribute if not present in instance) \"\"\"\n",
    "        return f'Calculated interest on {self.account_type} with APR = {self.apr}' \n",
    "    \n",
    "    def calculate_interest_Account(self):\n",
    "        \"\"\" Refers to Account class apr attribute \"\"\"\n",
    "        return f'Calculated interest on {self.account_type} with APR = {Account.apr}'\n",
    "    \n",
    "    def calculate_interest_class(self):\n",
    "        \"\"\" Refers to class apr attribute \"\"\"\n",
    "        return f'Calculated interest on {self.account_type} with APR = {type(self).apr}' \n",
    "    \n",
    "class Savings(Account):\n",
    "    apr = 5.0"
   ]
  },
  {
   "cell_type": "code",
   "execution_count": 13,
   "id": "5256bbfe",
   "metadata": {},
   "outputs": [],
   "source": [
    "a = Account(123, 100)"
   ]
  },
  {
   "cell_type": "code",
   "execution_count": 14,
   "id": "9f99ea85",
   "metadata": {},
   "outputs": [],
   "source": [
    "s = Savings(200, 200)"
   ]
  },
  {
   "cell_type": "code",
   "execution_count": 15,
   "id": "78841df7",
   "metadata": {},
   "outputs": [
    {
     "data": {
      "text/plain": [
       "(3.0, 5.0)"
      ]
     },
     "execution_count": 15,
     "metadata": {},
     "output_type": "execute_result"
    }
   ],
   "source": [
    "a.apr, s.apr"
   ]
  },
  {
   "cell_type": "code",
   "execution_count": 16,
   "id": "99923ad1",
   "metadata": {},
   "outputs": [
    {
     "data": {
      "text/plain": [
       "('Calculated interest on Generic Account with APR = 3.0',\n",
       " 'Calculated interest on Generic Account with APR = 5.0')"
      ]
     },
     "execution_count": 16,
     "metadata": {},
     "output_type": "execute_result"
    }
   ],
   "source": [
    "a.calculate_interest_self(), s.calculate_interest_self()"
   ]
  },
  {
   "cell_type": "code",
   "execution_count": 17,
   "id": "9922acfc",
   "metadata": {},
   "outputs": [
    {
     "data": {
      "text/plain": [
       "('Calculated interest on Generic Account with APR = 3.0',\n",
       " 'Calculated interest on Generic Account with APR = 3.0')"
      ]
     },
     "execution_count": 17,
     "metadata": {},
     "output_type": "execute_result"
    }
   ],
   "source": [
    "a.calculate_interest_Account(), s.calculate_interest_Account()"
   ]
  },
  {
   "cell_type": "code",
   "execution_count": 18,
   "id": "7a2b6a53",
   "metadata": {},
   "outputs": [
    {
     "data": {
      "text/plain": [
       "('Calculated interest on Generic Account with APR = 3.0',\n",
       " 'Calculated interest on Generic Account with APR = 5.0')"
      ]
     },
     "execution_count": 18,
     "metadata": {},
     "output_type": "execute_result"
    }
   ],
   "source": [
    "a.calculate_interest_class(), s.calculate_interest_class()"
   ]
  },
  {
   "cell_type": "code",
   "execution_count": 19,
   "id": "5dc59f6c",
   "metadata": {},
   "outputs": [
    {
     "data": {
      "text/plain": [
       "{'account_number': 123, 'balance': 100}"
      ]
     },
     "execution_count": 19,
     "metadata": {},
     "output_type": "execute_result"
    }
   ],
   "source": [
    "a.__dict__"
   ]
  },
  {
   "cell_type": "code",
   "execution_count": 20,
   "id": "2df31497",
   "metadata": {},
   "outputs": [
    {
     "data": {
      "text/plain": [
       "{'account_number': 200, 'balance': 200}"
      ]
     },
     "execution_count": 20,
     "metadata": {},
     "output_type": "execute_result"
    }
   ],
   "source": [
    "s.__dict__"
   ]
  },
  {
   "cell_type": "markdown",
   "id": "08f449e9",
   "metadata": {},
   "source": [
    "<hr>\n",
    "\n",
    "**Override class attribute with an instance attribute**"
   ]
  },
  {
   "cell_type": "code",
   "execution_count": 21,
   "id": "2aae059a",
   "metadata": {},
   "outputs": [
    {
     "data": {
      "text/plain": [
       "{'account_number': 200, 'balance': 200, 'apr': 10.0}"
      ]
     },
     "execution_count": 21,
     "metadata": {},
     "output_type": "execute_result"
    }
   ],
   "source": [
    "s.apr = 10.0\n",
    "s.__dict__"
   ]
  },
  {
   "cell_type": "code",
   "execution_count": 22,
   "id": "c53093d8",
   "metadata": {},
   "outputs": [
    {
     "data": {
      "text/plain": [
       "('Calculated interest on Generic Account with APR = 3.0',\n",
       " 'Calculated interest on Generic Account with APR = 10.0')"
      ]
     },
     "execution_count": 22,
     "metadata": {},
     "output_type": "execute_result"
    }
   ],
   "source": [
    "a.calculate_interest_self(), s.calculate_interest_self()"
   ]
  },
  {
   "cell_type": "code",
   "execution_count": 23,
   "id": "09aaab9b",
   "metadata": {},
   "outputs": [
    {
     "data": {
      "text/plain": [
       "('Calculated interest on Generic Account with APR = 3.0',\n",
       " 'Calculated interest on Generic Account with APR = 3.0')"
      ]
     },
     "execution_count": 23,
     "metadata": {},
     "output_type": "execute_result"
    }
   ],
   "source": [
    "a.calculate_interest_Account(), s.calculate_interest_Account()"
   ]
  },
  {
   "cell_type": "code",
   "execution_count": 24,
   "id": "c1bd2a29",
   "metadata": {},
   "outputs": [
    {
     "data": {
      "text/plain": [
       "('Calculated interest on Generic Account with APR = 3.0',\n",
       " 'Calculated interest on Generic Account with APR = 5.0')"
      ]
     },
     "execution_count": 24,
     "metadata": {},
     "output_type": "execute_result"
    }
   ],
   "source": [
    "a.calculate_interest_class(), s.calculate_interest_class()"
   ]
  },
  {
   "cell_type": "markdown",
   "id": "0210752d",
   "metadata": {},
   "source": [
    "<hr>\n",
    "\n",
    "<a id='delegating-to-parrent'></a>\n",
    "## 3. Delegating to parrent\n",
    "\n",
    "`super().method()` will call `method` in the parrent, but bound to the instance it is called from.\n",
    "\n"
   ]
  },
  {
   "cell_type": "markdown",
   "id": "b5d8e7c6",
   "metadata": {},
   "source": [
    "<hr>\n",
    "\n",
    "__Example 3__:\n",
    "\n",
    "Delegation works its way up the inheritance hierarchy until it finds what it needs"
   ]
  },
  {
   "cell_type": "code",
   "execution_count": 25,
   "id": "0f0db333",
   "metadata": {},
   "outputs": [],
   "source": [
    "class Person:\n",
    "    def sing(self):\n",
    "        return \"I'm a lumberjack and I'm OK\"\n",
    "\n",
    "class Student(Person):\n",
    "    pass\n",
    "\n",
    "class MusicStudent(Student):\n",
    "    def sing(self):\n",
    "        return super().sing() + '\\n' + \"I sleep all night and I work all day\""
   ]
  },
  {
   "cell_type": "code",
   "execution_count": 26,
   "id": "1875a1ce",
   "metadata": {},
   "outputs": [
    {
     "name": "stdout",
     "output_type": "stream",
     "text": [
      "I'm a lumberjack and I'm OK\n",
      "I sleep all night and I work all day\n"
     ]
    }
   ],
   "source": [
    "m = MusicStudent()\n",
    "print(m.sing())"
   ]
  },
  {
   "cell_type": "code",
   "execution_count": 27,
   "id": "45fb854a",
   "metadata": {},
   "outputs": [
    {
     "name": "stdout",
     "output_type": "stream",
     "text": [
      "I'm a lumberjack and I'm OK\n"
     ]
    }
   ],
   "source": [
    "s = Student()\n",
    "print(s.sing())"
   ]
  },
  {
   "cell_type": "markdown",
   "id": "ec3693bc",
   "metadata": {},
   "source": [
    "<hr>\n",
    "\n",
    "__Example 4__: Delegating and method binding\n",
    "\n",
    "Method is bound to an instance it was called from."
   ]
  },
  {
   "cell_type": "code",
   "execution_count": 28,
   "id": "afe13d76",
   "metadata": {},
   "outputs": [],
   "source": [
    "class Person:\n",
    "    def hello(self):\n",
    "        print('In Person class:', self)\n",
    "        \n",
    "class Student(Person):\n",
    "    def hello(self):\n",
    "        print('In Student class:', self)\n",
    "        super().hello()"
   ]
  },
  {
   "cell_type": "code",
   "execution_count": 29,
   "id": "b7bf288a",
   "metadata": {},
   "outputs": [],
   "source": [
    "p = Person()\n",
    "s = Student()"
   ]
  },
  {
   "cell_type": "code",
   "execution_count": 30,
   "id": "a1b27c84",
   "metadata": {},
   "outputs": [
    {
     "name": "stdout",
     "output_type": "stream",
     "text": [
      "In Person class: <__main__.Person object at 0x000001FB54345B20>\n"
     ]
    }
   ],
   "source": [
    "p.hello()"
   ]
  },
  {
   "cell_type": "code",
   "execution_count": 31,
   "id": "8733c002",
   "metadata": {},
   "outputs": [
    {
     "data": {
      "text/plain": [
       "'0x1fb54345b20'"
      ]
     },
     "execution_count": 31,
     "metadata": {},
     "output_type": "execute_result"
    }
   ],
   "source": [
    "hex(id(p))"
   ]
  },
  {
   "cell_type": "code",
   "execution_count": 32,
   "id": "5ae69659",
   "metadata": {},
   "outputs": [
    {
     "name": "stdout",
     "output_type": "stream",
     "text": [
      "In Student class: <__main__.Student object at 0x000001FB543450A0>\n",
      "In Person class: <__main__.Student object at 0x000001FB543450A0>\n"
     ]
    }
   ],
   "source": [
    "s.hello()"
   ]
  },
  {
   "cell_type": "code",
   "execution_count": 33,
   "id": "52740541",
   "metadata": {},
   "outputs": [
    {
     "data": {
      "text/plain": [
       "'0x1fb543450a0'"
      ]
     },
     "execution_count": 33,
     "metadata": {},
     "output_type": "execute_result"
    }
   ],
   "source": [
    "hex(id(s))"
   ]
  },
  {
   "cell_type": "markdown",
   "id": "4a4eff2a",
   "metadata": {},
   "source": [
    "<hr>\n",
    "\n",
    "__Example 5__:"
   ]
  },
  {
   "cell_type": "code",
   "execution_count": 34,
   "id": "b0d38191",
   "metadata": {},
   "outputs": [],
   "source": [
    "class Person:\n",
    "    def wake_up(self):\n",
    "        print('Person awakes')\n",
    "    def do_work(self):\n",
    "        print('Person works')\n",
    "    def sleep(self):\n",
    "        print('Person sleeps')\n",
    "    def routine(self):\n",
    "        self.wake_up()\n",
    "        self.do_work()\n",
    "        self.sleep()"
   ]
  },
  {
   "cell_type": "code",
   "execution_count": 35,
   "id": "61c83a25",
   "metadata": {},
   "outputs": [],
   "source": [
    "class Student(Person):\n",
    "    def do_work(self):\n",
    "        print('Student studies')\n",
    "    def routine(self):\n",
    "        super().routine()\n",
    "        print('but not before a quick game!') "
   ]
  },
  {
   "cell_type": "code",
   "execution_count": 36,
   "id": "898513b7",
   "metadata": {},
   "outputs": [
    {
     "name": "stdout",
     "output_type": "stream",
     "text": [
      "Person awakes\n",
      "Student studies\n",
      "Person sleeps\n",
      "but not before a quick game!\n"
     ]
    }
   ],
   "source": [
    "s = Student()\n",
    "s.routine()"
   ]
  },
  {
   "cell_type": "code",
   "execution_count": 37,
   "id": "5fbb42c4",
   "metadata": {
    "scrolled": true
   },
   "outputs": [
    {
     "name": "stdout",
     "output_type": "stream",
     "text": [
      "Person awakes\n",
      "Person works\n",
      "Person sleeps\n"
     ]
    }
   ],
   "source": [
    "p = Person()\n",
    "p.routine()"
   ]
  },
  {
   "cell_type": "markdown",
   "id": "0b7a4cd0",
   "metadata": {},
   "source": [
    "<hr>\n",
    "\n",
    "__Example 6__:\n",
    "\n",
    "Create a `Circle` class and a child class `UnitCircle` (a circle with radius equal to 1).\n",
    "\n",
    "In the `UnitCircle` redefine (override) `radius` property to disallow setting the radius."
   ]
  },
  {
   "cell_type": "code",
   "execution_count": 38,
   "id": "c0d57fc3",
   "metadata": {},
   "outputs": [],
   "source": [
    "from math import pi\n",
    "from numbers import Real\n",
    "\n",
    "class Circle:\n",
    "    def __init__(self, r):\n",
    "        self._r = r\n",
    "        self._area = None\n",
    "        self._perimeter = None\n",
    "        \n",
    "    @property\n",
    "    def radius(self):\n",
    "        return self._r\n",
    "    \n",
    "    @radius.setter\n",
    "    def radius(self, r):\n",
    "        if isinstance(r, Real) and r > 0:\n",
    "            self._r = r\n",
    "            self._area = None\n",
    "            self._perimeter = None\n",
    "        else:\n",
    "            raise ValueError('Radius must be a positive real number')\n",
    "            \n",
    "    @property\n",
    "    def area(self):\n",
    "        if self._area == None:\n",
    "            self._area = pi * self._r ** 2\n",
    "        return self._area\n",
    "    \n",
    "    @property\n",
    "    def perimeter(self):\n",
    "        if self._perimeter == None:\n",
    "            self._perimeter = 2 * pi * self._r\n",
    "        return self._perimeter"
   ]
  },
  {
   "cell_type": "code",
   "execution_count": 39,
   "id": "a6475d96",
   "metadata": {},
   "outputs": [],
   "source": [
    "class UnitCircle(Circle):\n",
    "    def __init__(self):\n",
    "        super().__init__(1)\n",
    "        \n",
    "    @property\n",
    "    def radius(self):\n",
    "        return super().radius"
   ]
  },
  {
   "cell_type": "code",
   "execution_count": 40,
   "id": "e9ca3e44",
   "metadata": {},
   "outputs": [
    {
     "data": {
      "text/plain": [
       "(1, 3.141592653589793, 6.283185307179586)"
      ]
     },
     "execution_count": 40,
     "metadata": {},
     "output_type": "execute_result"
    }
   ],
   "source": [
    "u = UnitCircle()\n",
    "\n",
    "u.radius, u.area, u.perimeter"
   ]
  },
  {
   "cell_type": "code",
   "execution_count": 41,
   "id": "6600809a",
   "metadata": {},
   "outputs": [
    {
     "name": "stdout",
     "output_type": "stream",
     "text": [
      "AttributeError: can't set attribute\n"
     ]
    }
   ],
   "source": [
    "try:\n",
    "    u.radius = 10\n",
    "except AttributeError as e:\n",
    "    print(f'AttributeError: {e}')"
   ]
  },
  {
   "cell_type": "markdown",
   "id": "bec8adcc",
   "metadata": {},
   "source": [
    "<hr>\n",
    "\n",
    "<a id='slots'></a>\n",
    "## 4. Slots\n",
    "\n",
    "Using slots results in a class with only certain `pre-defined` attributes. \n",
    "\n",
    "* The class itself behaves as usual.\n",
    "\n",
    "* Class instance does not have `__dict__`, which means there is no allowence to add new attributes to instances.\n",
    "\n",
    "* Allows to delete predefined attribute from an instance and re-assign value to that same attribute.\n",
    "\n",
    "Mainly we use slots when we expect to have many instances of a class and to gain a performance boost (mostly storage, but also attribute lookup speed) "
   ]
  },
  {
   "cell_type": "markdown",
   "id": "cb8de055",
   "metadata": {},
   "source": [
    "<hr>\n",
    "\n",
    "__Example 7__:"
   ]
  },
  {
   "cell_type": "code",
   "execution_count": 42,
   "id": "544375ce",
   "metadata": {},
   "outputs": [],
   "source": [
    "class Location:\n",
    "    __slots__ = 'name', '_longitude', '_latitude'\n",
    "    \n",
    "    def __init__(self, name, longitude, latitude):\n",
    "        self._longitude = longitude\n",
    "        self._latitude = latitude\n",
    "        self.name = name\n",
    "        \n",
    "    @property\n",
    "    def longitude(self):\n",
    "        return self._longitude\n",
    "    \n",
    "    @property\n",
    "    def latitude(self):\n",
    "        return self._latitude"
   ]
  },
  {
   "cell_type": "code",
   "execution_count": 43,
   "id": "7c44f4a4",
   "metadata": {},
   "outputs": [
    {
     "data": {
      "text/plain": [
       "mappingproxy({'__module__': '__main__',\n",
       "              '__slots__': ('name', '_longitude', '_latitude'),\n",
       "              '__init__': <function __main__.Location.__init__(self, name, longitude, latitude)>,\n",
       "              'longitude': <property at 0x1fb5436b220>,\n",
       "              'latitude': <property at 0x1fb54371450>,\n",
       "              '_latitude': <member '_latitude' of 'Location' objects>,\n",
       "              '_longitude': <member '_longitude' of 'Location' objects>,\n",
       "              'name': <member 'name' of 'Location' objects>,\n",
       "              '__doc__': None})"
      ]
     },
     "execution_count": 43,
     "metadata": {},
     "output_type": "execute_result"
    }
   ],
   "source": [
    "Location.__dict__"
   ]
  },
  {
   "cell_type": "code",
   "execution_count": 44,
   "id": "b2ff38b9",
   "metadata": {},
   "outputs": [],
   "source": [
    "Location.map_service = 'Google Maps'"
   ]
  },
  {
   "cell_type": "code",
   "execution_count": 45,
   "id": "c0ae2dbf",
   "metadata": {},
   "outputs": [
    {
     "data": {
      "text/plain": [
       "mappingproxy({'__module__': '__main__',\n",
       "              '__slots__': ('name', '_longitude', '_latitude'),\n",
       "              '__init__': <function __main__.Location.__init__(self, name, longitude, latitude)>,\n",
       "              'longitude': <property at 0x1fb5436b220>,\n",
       "              'latitude': <property at 0x1fb54371450>,\n",
       "              '_latitude': <member '_latitude' of 'Location' objects>,\n",
       "              '_longitude': <member '_longitude' of 'Location' objects>,\n",
       "              'name': <member 'name' of 'Location' objects>,\n",
       "              '__doc__': None,\n",
       "              'map_service': 'Google Maps'})"
      ]
     },
     "execution_count": 45,
     "metadata": {},
     "output_type": "execute_result"
    }
   ],
   "source": [
    "Location.__dict__"
   ]
  },
  {
   "cell_type": "markdown",
   "id": "bba710fb",
   "metadata": {},
   "source": [
    "<hr>"
   ]
  },
  {
   "cell_type": "code",
   "execution_count": 46,
   "id": "f9921421",
   "metadata": {},
   "outputs": [],
   "source": [
    "l = Location('Mumbai', 19.0760, 72.8777)"
   ]
  },
  {
   "cell_type": "code",
   "execution_count": 47,
   "id": "b26dec84",
   "metadata": {},
   "outputs": [
    {
     "data": {
      "text/plain": [
       "('Mumbai', 19.076, 72.8777)"
      ]
     },
     "execution_count": 47,
     "metadata": {},
     "output_type": "execute_result"
    }
   ],
   "source": [
    "l.name, l.longitude, l.latitude"
   ]
  },
  {
   "cell_type": "code",
   "execution_count": 48,
   "id": "512ac5cd",
   "metadata": {},
   "outputs": [
    {
     "name": "stdout",
     "output_type": "stream",
     "text": [
      "AttributeError: 'Location' object has no attribute '__dict__'\n"
     ]
    }
   ],
   "source": [
    "try:\n",
    "    l.__dict__\n",
    "except AttributeError as ex:\n",
    "    print(f'AttributeError: {ex}')"
   ]
  },
  {
   "cell_type": "code",
   "execution_count": 49,
   "id": "90ece6e9",
   "metadata": {},
   "outputs": [
    {
     "name": "stdout",
     "output_type": "stream",
     "text": [
      "AttributeError: 'Location' object has no attribute 'map_link'\n"
     ]
    }
   ],
   "source": [
    "try:\n",
    "    l.map_link = 'http://maps.google.com/...'\n",
    "except AttributeError as ex:\n",
    "    print(f'AttributeError: {ex}')"
   ]
  },
  {
   "cell_type": "markdown",
   "id": "04118b5d",
   "metadata": {},
   "source": [
    "<hr>"
   ]
  },
  {
   "cell_type": "code",
   "execution_count": 50,
   "id": "1352de37",
   "metadata": {},
   "outputs": [],
   "source": [
    "del l.name"
   ]
  },
  {
   "cell_type": "code",
   "execution_count": 51,
   "id": "3ef82986",
   "metadata": {},
   "outputs": [
    {
     "name": "stdout",
     "output_type": "stream",
     "text": [
      "Attribute Error: name\n"
     ]
    }
   ],
   "source": [
    "try:\n",
    "    print(l.name)\n",
    "except AttributeError as ex:\n",
    "    print(f'Attribute Error: {ex}')"
   ]
  },
  {
   "cell_type": "code",
   "execution_count": 52,
   "id": "13883c65",
   "metadata": {},
   "outputs": [],
   "source": [
    "l.name = 'Mumbai'"
   ]
  },
  {
   "cell_type": "code",
   "execution_count": 53,
   "id": "4f948a00",
   "metadata": {},
   "outputs": [
    {
     "data": {
      "text/plain": [
       "'Mumbai'"
      ]
     },
     "execution_count": 53,
     "metadata": {},
     "output_type": "execute_result"
    }
   ],
   "source": [
    "l.name"
   ]
  },
  {
   "cell_type": "markdown",
   "id": "6de51093",
   "metadata": {},
   "source": [
    "<hr>\n",
    "\n",
    "<a id='slots-inheritance'></a>\n",
    "## 5. Slots and Single Inheritance\n",
    "\n",
    "Classes can have both slots and dictionary\n",
    "\n",
    "<hr>\n",
    "\n",
    "__Example 8__:"
   ]
  },
  {
   "cell_type": "code",
   "execution_count": 54,
   "id": "1de63f76",
   "metadata": {},
   "outputs": [],
   "source": [
    "class Person:\n",
    "    __slots__ = 'name',\n",
    "    \n",
    "    def __init__(self, name):\n",
    "        self.name = name\n",
    "\n",
    "class Student(Person):\n",
    "    pass"
   ]
  },
  {
   "cell_type": "code",
   "execution_count": 55,
   "id": "c03a4104",
   "metadata": {},
   "outputs": [
    {
     "name": "stdout",
     "output_type": "stream",
     "text": [
      "AttributeError: 'Person' object has no attribute '__dict__'\n"
     ]
    }
   ],
   "source": [
    "p = Person('Eric')\n",
    "try:\n",
    "    print(p.__dict__)\n",
    "except AttributeError as ex:\n",
    "    print(f'AttributeError: {ex}')"
   ]
  },
  {
   "cell_type": "code",
   "execution_count": 56,
   "id": "f03bcbdb",
   "metadata": {},
   "outputs": [
    {
     "data": {
      "text/plain": [
       "('Alex', {})"
      ]
     },
     "execution_count": 56,
     "metadata": {},
     "output_type": "execute_result"
    }
   ],
   "source": [
    "s = Student('Alex')\n",
    "\n",
    "s.name, s.__dict__"
   ]
  },
  {
   "cell_type": "markdown",
   "id": "8f624be9",
   "metadata": {},
   "source": [
    "Student instance `s` has a dictionary, but the dictionary does not contain the `name` property, that is stored in a slot.<br>\n",
    "But `Student` instance has an instance dictionary, which means we can add instance attributes to it."
   ]
  },
  {
   "cell_type": "code",
   "execution_count": 57,
   "id": "b3127c24",
   "metadata": {},
   "outputs": [
    {
     "data": {
      "text/plain": [
       "{'age': 19}"
      ]
     },
     "execution_count": 57,
     "metadata": {},
     "output_type": "execute_result"
    }
   ],
   "source": [
    "s.age = 19\n",
    "s.__dict__"
   ]
  },
  {
   "cell_type": "code",
   "execution_count": 58,
   "id": "3d00c61d",
   "metadata": {},
   "outputs": [
    {
     "data": {
      "text/plain": [
       "('Alex', 19)"
      ]
     },
     "execution_count": 58,
     "metadata": {},
     "output_type": "execute_result"
    }
   ],
   "source": [
    "s.name, s.age"
   ]
  },
  {
   "cell_type": "markdown",
   "id": "f46ecd95",
   "metadata": {},
   "source": [
    "<hr>\n",
    "\n",
    "__Example 9__:\n",
    "\n",
    "Define class that have both `slots` and `dict` by specifying `__dict__` as __one of the slots__, to keep the instance dictionary."
   ]
  },
  {
   "cell_type": "code",
   "execution_count": 59,
   "id": "cf9d54d5",
   "metadata": {},
   "outputs": [],
   "source": [
    "class Person:\n",
    "    __slots__ = 'name', '__dict__'\n",
    "    \n",
    "    def __init__(self, name, age):\n",
    "        self.name = name\n",
    "        self.age = age"
   ]
  },
  {
   "cell_type": "code",
   "execution_count": 60,
   "id": "a51854dd",
   "metadata": {},
   "outputs": [],
   "source": [
    "p = Person('Alex', 19)"
   ]
  },
  {
   "cell_type": "code",
   "execution_count": 61,
   "id": "04759832",
   "metadata": {},
   "outputs": [
    {
     "data": {
      "text/plain": [
       "('Alex', 19)"
      ]
     },
     "execution_count": 61,
     "metadata": {},
     "output_type": "execute_result"
    }
   ],
   "source": [
    "p.name, p.age"
   ]
  },
  {
   "cell_type": "code",
   "execution_count": 62,
   "id": "942b1ad2",
   "metadata": {},
   "outputs": [
    {
     "data": {
      "text/plain": [
       "{'age': 19}"
      ]
     },
     "execution_count": 62,
     "metadata": {},
     "output_type": "execute_result"
    }
   ],
   "source": [
    "p.__dict__"
   ]
  },
  {
   "cell_type": "markdown",
   "id": "4df32f3e",
   "metadata": {},
   "source": [
    "Instance dictionary allows to add instance attributes:"
   ]
  },
  {
   "cell_type": "code",
   "execution_count": 63,
   "id": "897e3622",
   "metadata": {},
   "outputs": [],
   "source": [
    "p.school = 'Berkeley'"
   ]
  },
  {
   "cell_type": "code",
   "execution_count": 64,
   "id": "2c5dab52",
   "metadata": {},
   "outputs": [
    {
     "data": {
      "text/plain": [
       "{'age': 19, 'school': 'Berkeley'}"
      ]
     },
     "execution_count": 64,
     "metadata": {},
     "output_type": "execute_result"
    }
   ],
   "source": [
    "p.__dict__"
   ]
  },
  {
   "cell_type": "code",
   "execution_count": null,
   "id": "c0f87aec",
   "metadata": {},
   "outputs": [],
   "source": []
  }
 ],
 "metadata": {
  "kernelspec": {
   "display_name": "Python 3",
   "language": "python",
   "name": "python3"
  },
  "language_info": {
   "codemirror_mode": {
    "name": "ipython",
    "version": 3
   },
   "file_extension": ".py",
   "mimetype": "text/x-python",
   "name": "python",
   "nbconvert_exporter": "python",
   "pygments_lexer": "ipython3",
   "version": "3.9.5"
  }
 },
 "nbformat": 4,
 "nbformat_minor": 5
}
