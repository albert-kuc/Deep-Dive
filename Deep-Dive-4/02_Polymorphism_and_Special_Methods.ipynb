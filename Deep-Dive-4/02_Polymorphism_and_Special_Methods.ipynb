{
 "cells": [
  {
   "cell_type": "markdown",
   "id": "035e6074",
   "metadata": {},
   "source": [
    "# Polymorphism and Special Methods\n",
    "\n",
    "Notes from [Deep Dive 4](https://www.udemy.com/course/python-3-deep-dive-part-4/) section 4. Topics covered:\n",
    "\n",
    "1\\. [Introduction](#introduction)\n",
    "\n",
    "2\\. [\\_\\_str\\_\\_ and \\_\\_repr\\_\\_](#str&repr)\n",
    "\n",
    "3\\. [Arithmetic operators](#arithmetic-operators)\n",
    "\n",
    "* [Addition and subtraction](#add&sub)\n",
    "* [Multiplication](#mul)\n",
    "* [Dot product and cross product](#dot&cross)\n",
    "* [Inplace](#inplace)\n",
    "* [Negation and abs](#neg&abs)\n",
    "\n",
    "4\\. [Rich Comparisons](#rich-comparisons)\n",
    "* [Equal and not equal](#eq&ne)\n",
    "* [Lower than and greater than](#lt&gt)\n",
    "\n",
    "5\\. [Hashing and Equality](#hashing-and-equality)\n",
    "\n",
    "6\\. [Booleans](#booleans)\n",
    "\n",
    "7\\. [Callables](#callables)\n",
    "\n",
    "8\\. [Delete method](#delete-method)\n",
    "\n",
    "9\\. [Format method](#format-method)"
   ]
  },
  {
   "cell_type": "markdown",
   "id": "725446c0",
   "metadata": {},
   "source": [
    "<hr>\n",
    "\n",
    "<a id='introduction'></a>\n",
    "## 1. Introduction"
   ]
  },
  {
   "cell_type": "markdown",
   "id": "34e3e607",
   "metadata": {},
   "source": [
    "__Polymorphism__:\n",
    "\n",
    "The ability to define a generic type of behaviour that will (potentially) behave different when applied to different types\n",
    "\n",
    "Operators such as `+`, `-`, `*`, `/` are polymorphic because they work with different types (integer, floats, decimals, complex numbers, list, tuples, custom objects)"
   ]
  },
  {
   "cell_type": "markdown",
   "id": "713f05eb",
   "metadata": {},
   "source": [
    "__Special methods__:\n",
    "\n",
    "Once definde in custom classes provide functionality that Python can use\n",
    "\n",
    "`__init__` - used during class instantiation\n",
    "\n",
    "`__enter__` & `__exis__` - contex managers `with ctx() as obj:`\n",
    "\n",
    "`__getitem__`, `__setitem__`, `__delitem__` - sequence types: `a[i]`, `a[i:j]`, `del a[i]`\n",
    "\n",
    "`__iter__`, `__next__` - iterables and iterators `iter()`, `next()`\n",
    "\n",
    "`__len__` - implements `len()` \n",
    "\n",
    "`__contains__` - implements `in`"
   ]
  },
  {
   "cell_type": "markdown",
   "id": "1ab81d3e",
   "metadata": {},
   "source": [
    "<hr> \n",
    "\n",
    "<a id='str&repr'></a>\n",
    "## 2. \\_\\_str\\_\\_ and \\_\\_repr\\_\\_\n",
    "\n",
    "* both used for creating a string representation of an object\n",
    "\n",
    "* typically `__repr__` used by developers and is called with `repr()`\n",
    "\n",
    "* `__str__` is called with `str()` and `print()` functions\n",
    "\n",
    "* typically `__str__` used to display purposes to end user, logging etc.\n",
    "\n",
    "* if `__str__` not implemented, Python will look for `__repr__` instead"
   ]
  },
  {
   "cell_type": "code",
   "execution_count": 1,
   "id": "48eac2ea",
   "metadata": {},
   "outputs": [],
   "source": [
    "class Person:\n",
    "    def __init__(self, name, age):\n",
    "        self.name = name\n",
    "        self.age = age\n",
    "        \n",
    "    def __repr__(self):\n",
    "        print('__repr__ called')\n",
    "        return f\"Person(name='{self.name}, age=self.age')\"\n",
    "    \n",
    "    def __str__(self):\n",
    "        print('__str__ called')\n",
    "        return self.name"
   ]
  },
  {
   "cell_type": "code",
   "execution_count": 2,
   "id": "51cc18ad",
   "metadata": {},
   "outputs": [],
   "source": [
    "p = Person('Python', 30)"
   ]
  },
  {
   "cell_type": "code",
   "execution_count": 3,
   "id": "a3ef534c",
   "metadata": {},
   "outputs": [
    {
     "name": "stdout",
     "output_type": "stream",
     "text": [
      "__repr__ called\n"
     ]
    },
    {
     "data": {
      "text/plain": [
       "Person(name='Python, age=self.age')"
      ]
     },
     "execution_count": 3,
     "metadata": {},
     "output_type": "execute_result"
    }
   ],
   "source": [
    "p"
   ]
  },
  {
   "cell_type": "code",
   "execution_count": 4,
   "id": "1c72dafe",
   "metadata": {},
   "outputs": [
    {
     "name": "stdout",
     "output_type": "stream",
     "text": [
      "__str__ called\n",
      "Python\n"
     ]
    }
   ],
   "source": [
    "print(p)"
   ]
  },
  {
   "cell_type": "code",
   "execution_count": 5,
   "id": "c1e26a2c",
   "metadata": {},
   "outputs": [
    {
     "name": "stdout",
     "output_type": "stream",
     "text": [
      "__str__ called\n"
     ]
    },
    {
     "data": {
      "text/plain": [
       "'Python'"
      ]
     },
     "execution_count": 5,
     "metadata": {},
     "output_type": "execute_result"
    }
   ],
   "source": [
    "str(p)"
   ]
  },
  {
   "cell_type": "code",
   "execution_count": 6,
   "id": "d61a4853",
   "metadata": {},
   "outputs": [
    {
     "name": "stdout",
     "output_type": "stream",
     "text": [
      "__repr__ called\n"
     ]
    },
    {
     "data": {
      "text/plain": [
       "\"Person(name='Python, age=self.age')\""
      ]
     },
     "execution_count": 6,
     "metadata": {},
     "output_type": "execute_result"
    }
   ],
   "source": [
    "repr(p)"
   ]
  },
  {
   "cell_type": "markdown",
   "id": "7d06cc32",
   "metadata": {},
   "source": [
    "<hr>\n",
    "\n",
    "<a id='arithmetic-operators'></a>\n",
    "## 3. Arithmetic operators\n",
    "\n",
    "__Arithmetic operators__: <br>\n",
    "`__add__` (`+`) <br>\n",
    "`__sub__` (`-`) <br>\n",
    "`__mul__` (`*`) <br>\n",
    "`__truediv__` (`/`) <br>\n",
    "`__floordiv__` (`//`) <br>\n",
    "`__mod__` (`%`) <br>\n",
    "`__pow__` (`**`) <br>\n",
    "`__matmul__` (`@`) - new in v3.5\n",
    "\n",
    "To indicate operation is not supported, implement method and `return NotImplemented`"
   ]
  },
  {
   "cell_type": "markdown",
   "id": "d67157b8",
   "metadata": {},
   "source": [
    "<hr>\n",
    "\n",
    "__Reflected operators__: <br>\n",
    "* for `a + b` Python will call `a.__add__(b)`\n",
    "* if this is `NotImplemented` AND operators are `not of the same type` python will try `b.__add__(a)` instead\n",
    "\n",
    "`__radd__` <br>\n",
    "`__rsub__` <br>\n",
    "`__rmul__` <br>\n",
    "`__rtruediv__` <br>\n",
    "`__rfloordiv__` <br>\n",
    "`__rmod__` <br>\n",
    "`__rpow__` <br>"
   ]
  },
  {
   "cell_type": "markdown",
   "id": "6e14eed4",
   "metadata": {},
   "source": [
    "<hr>\n",
    "\n",
    "__Inplace operators__:<br>\n",
    "`__iadd__` (`+=`) <br>\n",
    "`__isub__` (`-=`) <br>\n",
    "`__imul__` (`*=`) <br>\n",
    "`__itruediv__` (`/=`) <br>\n",
    "`__ifloordiv__` (`//=`) <br>\n",
    "`__imod__` (`%=`) <br>\n",
    "`__ipow__` (`**=`) <br>"
   ]
  },
  {
   "cell_type": "markdown",
   "id": "b2cff816",
   "metadata": {},
   "source": [
    "<hr>\n",
    "\n",
    "__Unary operators, functions__:<br>\n",
    "`__neg__` (`-a`)<br>\n",
    "`__pos__` (`+a`)<br>\n",
    "`__abs__` (`abs(a)`)<br>"
   ]
  },
  {
   "cell_type": "markdown",
   "id": "3aa5b0ae",
   "metadata": {},
   "source": [
    "<hr>\n",
    "\n",
    "__Example 2__:\n",
    "\n",
    "Implement a Vector class that supports various arithmetic operations. Assume arguments to be Real numbers."
   ]
  },
  {
   "cell_type": "code",
   "execution_count": 7,
   "id": "f1dfbab8",
   "metadata": {},
   "outputs": [],
   "source": [
    "from numbers import Real\n",
    "from math import sqrt\n",
    "\n",
    "class Vector:\n",
    "    def __init__(self, *components):\n",
    "        # validate number of components is at least one and all of them are real numbers\n",
    "        if len(components) < 1:\n",
    "            raise ValueError('Cannot create an empty Vector.')\n",
    "        for component in components:\n",
    "            if not isinstance(component, Real):\n",
    "                raise ValueError(f'Vector components must all be Real numbers - {component} is invalid.')\n",
    "        \n",
    "        # use immutable storage for vector\n",
    "        self._components = tuple(components)\n",
    "    \n",
    "    def __len__(self):\n",
    "        return len(self._components)\n",
    "    \n",
    "    @property\n",
    "    def components(self):\n",
    "        return self._components\n",
    "    \n",
    "    def __repr__(self):\n",
    "        # works - but unwieldy for high dimension vectors\n",
    "        return f'Vector{self._components}'\n",
    "    \n",
    "    def validate_type_and_dimension(self, v):\n",
    "        return isinstance(v, Vector) and len(v) == len(self)\n",
    "    \n",
    "    def __add__(self, other):\n",
    "        if self.validate_type_and_dimension(other):\n",
    "            print('__add__ called...')\n",
    "            components = (x + y for x, y in zip(self.components, other.components))\n",
    "            return Vector(*components)\n",
    "        return NotImplemented\n",
    "    \n",
    "    def __sub__(self, other):\n",
    "        if self.validate_type_and_dimension(other):\n",
    "            print('__sub__ called...')\n",
    "            components = (x - y for x, y in zip(self.components, other.components))\n",
    "            return Vector(*components)\n",
    "        return NotImplemented\n",
    "    \n",
    "    def __mul__(self, other):\n",
    "        ''' Multiplication by a scalar value. '''\n",
    "        if isinstance(other, Real):\n",
    "            print('__mul__ called for scalar...')\n",
    "            components = (other * x for x in self.components)\n",
    "            return Vector(*components)\n",
    "        if self.validate_type_and_dimension(other):\n",
    "            print('__mul__ called for dot product...')\n",
    "            components = (x * y for x, y in zip(self.components, other.components))\n",
    "            return sum(components)\n",
    "        return NotImplemented\n",
    "    \n",
    "    def __rmul__(self, other):\n",
    "        ''' To allow scalar * Vector multiplication. '''\n",
    "        print('__rmul__ called...')\n",
    "        return self * other\n",
    "    \n",
    "    def __matmul__(self, other):\n",
    "        ''' Placeholder for cross product of two vectors. \n",
    "        Not implemented as too complex for thix example.'''\n",
    "        print('__matmul__ called...')\n",
    "    \n",
    "    def __iadd__(self, other):\n",
    "        ''' Mutates Vector object with += '''\n",
    "        print('__iadd__ called...')\n",
    "        if self.validate_type_and_dimension(other):\n",
    "            components = (x + y for x, y in zip(self.components, other.components))\n",
    "            self._components = tuple(components) # mutating Vector object\n",
    "            return self\n",
    "        return NotImplemented\n",
    "    \n",
    "    def __neg__(self):\n",
    "        print('__neg__ called...')\n",
    "        components = (-x for x in self.components)\n",
    "        return Vector(*components)\n",
    "    \n",
    "    def __abs__(self):\n",
    "        print('__abs__ called...')\n",
    "        return sqrt(sum(x ** 2 for x in self.components))"
   ]
  },
  {
   "cell_type": "markdown",
   "id": "31e67fe5",
   "metadata": {},
   "source": [
    "<hr>\n",
    "\n",
    "<a id='add&sub'></a>\n",
    "__Addition and subtraction__"
   ]
  },
  {
   "cell_type": "code",
   "execution_count": 8,
   "id": "3582e841",
   "metadata": {},
   "outputs": [],
   "source": [
    "v1 = Vector(1, 2)\n",
    "v2 = Vector(10, 10)\n",
    "v3 = Vector(1, 2, 3, 4)"
   ]
  },
  {
   "cell_type": "code",
   "execution_count": 9,
   "id": "09cd876a",
   "metadata": {},
   "outputs": [
    {
     "data": {
      "text/plain": [
       "Vector(1, 2)"
      ]
     },
     "execution_count": 9,
     "metadata": {},
     "output_type": "execute_result"
    }
   ],
   "source": [
    "v1"
   ]
  },
  {
   "cell_type": "code",
   "execution_count": 10,
   "id": "acf0c02c",
   "metadata": {},
   "outputs": [
    {
     "name": "stdout",
     "output_type": "stream",
     "text": [
      "__add__ called...\n"
     ]
    },
    {
     "data": {
      "text/plain": [
       "Vector(11, 12)"
      ]
     },
     "execution_count": 10,
     "metadata": {},
     "output_type": "execute_result"
    }
   ],
   "source": [
    "v1 + v2"
   ]
  },
  {
   "cell_type": "code",
   "execution_count": 11,
   "id": "a13f7378",
   "metadata": {},
   "outputs": [
    {
     "name": "stdout",
     "output_type": "stream",
     "text": [
      "__add__ called...\n"
     ]
    },
    {
     "data": {
      "text/plain": [
       "Vector(11, 12)"
      ]
     },
     "execution_count": 11,
     "metadata": {},
     "output_type": "execute_result"
    }
   ],
   "source": [
    "v2 + v1"
   ]
  },
  {
   "cell_type": "code",
   "execution_count": 12,
   "id": "2b7483b6",
   "metadata": {},
   "outputs": [
    {
     "name": "stdout",
     "output_type": "stream",
     "text": [
      "__sub__ called...\n"
     ]
    },
    {
     "data": {
      "text/plain": [
       "Vector(0, 0)"
      ]
     },
     "execution_count": 12,
     "metadata": {},
     "output_type": "execute_result"
    }
   ],
   "source": [
    "v2 - v2"
   ]
  },
  {
   "cell_type": "code",
   "execution_count": 13,
   "id": "77cbc229",
   "metadata": {},
   "outputs": [
    {
     "name": "stdout",
     "output_type": "stream",
     "text": [
      "unsupported operand type(s) for +: 'Vector' and 'Vector'\n"
     ]
    }
   ],
   "source": [
    "try:\n",
    "    print(v1 + v3)\n",
    "except TypeError as ex:\n",
    "    print(ex)"
   ]
  },
  {
   "cell_type": "code",
   "execution_count": 14,
   "id": "44fcc021",
   "metadata": {},
   "outputs": [
    {
     "name": "stdout",
     "output_type": "stream",
     "text": [
      "unsupported operand type(s) for +: 'Vector' and 'int'\n"
     ]
    }
   ],
   "source": [
    "try:\n",
    "    print(v1 + 100)\n",
    "except TypeError as ex:\n",
    "    print(ex)"
   ]
  },
  {
   "cell_type": "markdown",
   "id": "e06126da",
   "metadata": {},
   "source": [
    "<hr>\n",
    "\n",
    "<a id='mul'></a>\n",
    "__Multiplication__"
   ]
  },
  {
   "cell_type": "code",
   "execution_count": 15,
   "id": "ef7ebce3",
   "metadata": {},
   "outputs": [
    {
     "name": "stdout",
     "output_type": "stream",
     "text": [
      "__mul__ called for scalar...\n"
     ]
    },
    {
     "data": {
      "text/plain": [
       "Vector(10, 20)"
      ]
     },
     "execution_count": 15,
     "metadata": {},
     "output_type": "execute_result"
    }
   ],
   "source": [
    "v1 * 10"
   ]
  },
  {
   "cell_type": "code",
   "execution_count": 16,
   "id": "53e5bbd4",
   "metadata": {},
   "outputs": [
    {
     "name": "stdout",
     "output_type": "stream",
     "text": [
      "__rmul__ called...\n",
      "__mul__ called for scalar...\n"
     ]
    }
   ],
   "source": [
    "try:\n",
    "    10 * v1\n",
    "except TypeError as ex:\n",
    "    print('TypeError:', ex)"
   ]
  },
  {
   "cell_type": "markdown",
   "id": "40592af0",
   "metadata": {},
   "source": [
    "What happened above:\n",
    "1. Python tried to call `mul` operation on the `int` object but integers don't support custom class Vector type.\n",
    "2. Python tried using `Vector` class but not the `__mul__` since that is called once Vector is the __left__ operand. \n",
    "3. Python used `__rmul__` as `Vector` is the __right__ operand, which calls Vector * scalar."
   ]
  },
  {
   "cell_type": "markdown",
   "id": "5bc2ef0b",
   "metadata": {},
   "source": [
    "<hr>\n",
    "\n",
    "<a id='dot&cross'></a>\n",
    "__Dot product__ and __cross product__ of two vectors"
   ]
  },
  {
   "cell_type": "code",
   "execution_count": 17,
   "id": "4c44024d",
   "metadata": {},
   "outputs": [
    {
     "name": "stdout",
     "output_type": "stream",
     "text": [
      "__mul__ called for dot product...\n"
     ]
    },
    {
     "data": {
      "text/plain": [
       "30"
      ]
     },
     "execution_count": 17,
     "metadata": {},
     "output_type": "execute_result"
    }
   ],
   "source": [
    "v1 * v2"
   ]
  },
  {
   "cell_type": "code",
   "execution_count": 18,
   "id": "219be3f7",
   "metadata": {},
   "outputs": [
    {
     "name": "stdout",
     "output_type": "stream",
     "text": [
      "__matmul__ called...\n"
     ]
    }
   ],
   "source": [
    "v1 @ v2"
   ]
  },
  {
   "cell_type": "markdown",
   "id": "b74331e0",
   "metadata": {},
   "source": [
    "<hr>\n",
    "\n",
    "<a id='inplace'></a>\n",
    "__Inplace__ operators:\n",
    "\n",
    "* Mutates Vector object, which means the same object `id` remains"
   ]
  },
  {
   "cell_type": "code",
   "execution_count": 19,
   "id": "481a896c",
   "metadata": {},
   "outputs": [
    {
     "data": {
      "text/plain": [
       "(Vector(1, 2), 1659417711088)"
      ]
     },
     "execution_count": 19,
     "metadata": {},
     "output_type": "execute_result"
    }
   ],
   "source": [
    "v1, id(v1)"
   ]
  },
  {
   "cell_type": "code",
   "execution_count": 20,
   "id": "3d0181d4",
   "metadata": {},
   "outputs": [
    {
     "name": "stdout",
     "output_type": "stream",
     "text": [
      "__iadd__ called...\n"
     ]
    }
   ],
   "source": [
    "v1 += v2"
   ]
  },
  {
   "cell_type": "code",
   "execution_count": 21,
   "id": "51599688",
   "metadata": {},
   "outputs": [
    {
     "data": {
      "text/plain": [
       "(Vector(11, 12), 1659417711088)"
      ]
     },
     "execution_count": 21,
     "metadata": {},
     "output_type": "execute_result"
    }
   ],
   "source": [
    "v1, id(v1)"
   ]
  },
  {
   "cell_type": "markdown",
   "id": "82e58314",
   "metadata": {},
   "source": [
    "<hr>\n",
    "\n",
    "<a id='neg&abs'></a>\n",
    "__Negation__ and __abs__:"
   ]
  },
  {
   "cell_type": "code",
   "execution_count": 22,
   "id": "2b83f465",
   "metadata": {},
   "outputs": [
    {
     "data": {
      "text/plain": [
       "(Vector(11, 12), Vector(10, 10))"
      ]
     },
     "execution_count": 22,
     "metadata": {},
     "output_type": "execute_result"
    }
   ],
   "source": [
    "v1, v2"
   ]
  },
  {
   "cell_type": "code",
   "execution_count": 23,
   "id": "b4cac4c4",
   "metadata": {},
   "outputs": [
    {
     "name": "stdout",
     "output_type": "stream",
     "text": [
      "__neg__ called...\n"
     ]
    },
    {
     "data": {
      "text/plain": [
       "Vector(-11, -12)"
      ]
     },
     "execution_count": 23,
     "metadata": {},
     "output_type": "execute_result"
    }
   ],
   "source": [
    "-v1"
   ]
  },
  {
   "cell_type": "code",
   "execution_count": 24,
   "id": "9c63b9a1",
   "metadata": {},
   "outputs": [
    {
     "name": "stdout",
     "output_type": "stream",
     "text": [
      "__neg__ called...\n",
      "__add__ called...\n"
     ]
    },
    {
     "data": {
      "text/plain": [
       "Vector(1, 2)"
      ]
     },
     "execution_count": 24,
     "metadata": {},
     "output_type": "execute_result"
    }
   ],
   "source": [
    "v1 + -v2"
   ]
  },
  {
   "cell_type": "code",
   "execution_count": 25,
   "id": "05043893",
   "metadata": {},
   "outputs": [
    {
     "name": "stdout",
     "output_type": "stream",
     "text": [
      "__abs__ called...\n"
     ]
    },
    {
     "data": {
      "text/plain": [
       "16.278820596099706"
      ]
     },
     "execution_count": 25,
     "metadata": {},
     "output_type": "execute_result"
    }
   ],
   "source": [
    "abs(v1)"
   ]
  },
  {
   "cell_type": "markdown",
   "id": "c94be85b",
   "metadata": {},
   "source": [
    "<hr>\n",
    "\n",
    "__Example 3__:\n",
    "\n",
    "Arithmetic operators are not restricted to numbers.\n",
    "\n",
    "Create a `Family` class which allows to add members."
   ]
  },
  {
   "cell_type": "code",
   "execution_count": 26,
   "id": "4f85049d",
   "metadata": {},
   "outputs": [],
   "source": [
    "class Person:\n",
    "    def __init__(self, name):\n",
    "        self.name = name\n",
    "        \n",
    "    def __repr__(self):\n",
    "        return f\"Person('{self.name}')\""
   ]
  },
  {
   "cell_type": "code",
   "execution_count": 27,
   "id": "740c7413",
   "metadata": {},
   "outputs": [],
   "source": [
    "class Family:\n",
    "    def __init__(self, *member):\n",
    "        self.members = []\n",
    "        if len(member) > 0:\n",
    "            for m in member:\n",
    "                self.members.append(m)\n",
    "        \n",
    "    def __iadd__(self, other):\n",
    "        self.members.append(other)\n",
    "        return self\n",
    "    "
   ]
  },
  {
   "cell_type": "code",
   "execution_count": 28,
   "id": "522f986f",
   "metadata": {},
   "outputs": [
    {
     "data": {
      "text/plain": [
       "1659417699712"
      ]
     },
     "execution_count": 28,
     "metadata": {},
     "output_type": "execute_result"
    }
   ],
   "source": [
    "marshes = Family(Person('Randy'), Person('Sharon'))\n",
    "id(marshes)"
   ]
  },
  {
   "cell_type": "code",
   "execution_count": 29,
   "id": "4df3800d",
   "metadata": {},
   "outputs": [
    {
     "data": {
      "text/plain": [
       "[Person('Randy'), Person('Sharon')]"
      ]
     },
     "execution_count": 29,
     "metadata": {},
     "output_type": "execute_result"
    }
   ],
   "source": [
    "marshes.members"
   ]
  },
  {
   "cell_type": "code",
   "execution_count": 30,
   "id": "88916760",
   "metadata": {},
   "outputs": [],
   "source": [
    "marshes += Person('Shelly')\n",
    "marshes += Person('Stan')"
   ]
  },
  {
   "cell_type": "code",
   "execution_count": 31,
   "id": "af4edf12",
   "metadata": {},
   "outputs": [
    {
     "data": {
      "text/plain": [
       "[Person('Randy'), Person('Sharon'), Person('Shelly'), Person('Stan')]"
      ]
     },
     "execution_count": 31,
     "metadata": {},
     "output_type": "execute_result"
    }
   ],
   "source": [
    "marshes.members"
   ]
  },
  {
   "cell_type": "code",
   "execution_count": 32,
   "id": "9808f73a",
   "metadata": {},
   "outputs": [
    {
     "data": {
      "text/plain": [
       "1659417699712"
      ]
     },
     "execution_count": 32,
     "metadata": {},
     "output_type": "execute_result"
    }
   ],
   "source": [
    "id(marshes)"
   ]
  },
  {
   "cell_type": "markdown",
   "id": "37798279",
   "metadata": {},
   "source": [
    "<hr>\n",
    "\n",
    "<a id='rich-comparisons'></a>\n",
    "## 4. Rich Comparisons\n",
    "\n",
    "`__lt__` < `__gt__`<br>\n",
    "`__le__` <= `__ge__`<br>\n",
    "`__eq__` == `__ne__`<br>\n",
    "`__ne__` != `__eq__`<br>\n",
    "`__gt__` > `__lt__`<br>\n",
    "`__ge__` >= `__le__`\n",
    "\n",
    "If `return NotImplemented` Python tries the reflection, e.g.:\n",
    "* if `a < b` returns `NotImplemented` Python will try `b > a`\n"
   ]
  },
  {
   "cell_type": "markdown",
   "id": "c1631f51",
   "metadata": {},
   "source": [
    "<hr>\n",
    "\n",
    "__Example 4__:\n",
    "\n",
    "If class don't provide `==`, Python will use `is`."
   ]
  },
  {
   "cell_type": "code",
   "execution_count": 33,
   "id": "bf3a1f0b",
   "metadata": {},
   "outputs": [],
   "source": [
    "class Vector:\n",
    "    def __init__(self, x, y):\n",
    "        self.x = x\n",
    "        self.y = y\n",
    "        \n",
    "    def __repr__(self):\n",
    "        return f'Vector(x={self.x}, y={self.y})'"
   ]
  },
  {
   "cell_type": "code",
   "execution_count": 34,
   "id": "aa8d67e1",
   "metadata": {},
   "outputs": [
    {
     "name": "stdout",
     "output_type": "stream",
     "text": [
      "1659417748960 1659417687328\n"
     ]
    }
   ],
   "source": [
    "v1 = Vector(0, 0)\n",
    "v2 = Vector(0, 0)\n",
    "print(id(v1), id(v2))"
   ]
  },
  {
   "cell_type": "code",
   "execution_count": 35,
   "id": "d37dabef",
   "metadata": {},
   "outputs": [
    {
     "data": {
      "text/plain": [
       "False"
      ]
     },
     "execution_count": 35,
     "metadata": {},
     "output_type": "execute_result"
    }
   ],
   "source": [
    "v1 == v2"
   ]
  },
  {
   "cell_type": "code",
   "execution_count": 36,
   "id": "fb6f48f0",
   "metadata": {},
   "outputs": [],
   "source": [
    "class Vector:\n",
    "    def __init__(self, x, y):\n",
    "        self.x = x\n",
    "        self.y = y\n",
    "        \n",
    "    def __repr__(self):\n",
    "        return f'Vector(x={self.x}, y={self.y})'\n",
    "        \n",
    "    def __eq__(self, other):\n",
    "        print('__eq__ called...')\n",
    "        if isinstance(other, tuple):\n",
    "            ''' To compare with a tuple '''\n",
    "            other = Vector(*other)\n",
    "        if isinstance(other, Vector):\n",
    "            return self.x == other.x and self.y == other.y\n",
    "        return NotImplemented\n",
    "    \n",
    "    def __abs__(self):\n",
    "        return sqrt(self.x ** 2 + self.y ** 2)\n",
    "    \n",
    "    def __lt__(self, other):\n",
    "        print('__lt__ called...')\n",
    "        if isinstance(other, tuple):\n",
    "            other = Vector(*other)\n",
    "        if isinstance(other, Vector):\n",
    "            return abs(self) < abs(other)\n",
    "        return NotImplemented\n",
    "    \n",
    "    def __le__(self, other):\n",
    "        return self == other or self < other"
   ]
  },
  {
   "cell_type": "markdown",
   "id": "4186a409",
   "metadata": {},
   "source": [
    "<hr>\n",
    "\n",
    "<a id='eq&ne'></a>\n",
    "__Equal__ & __not equal__:"
   ]
  },
  {
   "cell_type": "code",
   "execution_count": 37,
   "id": "18fb5a69",
   "metadata": {},
   "outputs": [],
   "source": [
    "v1 = Vector(10, 11)\n",
    "v2 = Vector(10, 11)\n",
    "v3 = Vector(1, 1)"
   ]
  },
  {
   "cell_type": "code",
   "execution_count": 38,
   "id": "30fcd869",
   "metadata": {},
   "outputs": [
    {
     "name": "stdout",
     "output_type": "stream",
     "text": [
      "__eq__ called...\n"
     ]
    },
    {
     "data": {
      "text/plain": [
       "True"
      ]
     },
     "execution_count": 38,
     "metadata": {},
     "output_type": "execute_result"
    }
   ],
   "source": [
    "v1 == (10, 11)"
   ]
  },
  {
   "cell_type": "code",
   "execution_count": 39,
   "id": "bb36fb9e",
   "metadata": {},
   "outputs": [
    {
     "name": "stdout",
     "output_type": "stream",
     "text": [
      "__eq__ called...\n",
      "__eq__ called...\n"
     ]
    },
    {
     "data": {
      "text/plain": [
       "(True, False)"
      ]
     },
     "execution_count": 39,
     "metadata": {},
     "output_type": "execute_result"
    }
   ],
   "source": [
    "v1 == v2, v1 == v3"
   ]
  },
  {
   "cell_type": "markdown",
   "id": "c47f062c",
   "metadata": {},
   "source": [
    "If `a != b` (`a.__ne__(b)`) is not available, but Python uses `not(a == b)` instead"
   ]
  },
  {
   "cell_type": "code",
   "execution_count": 40,
   "id": "573d6c5e",
   "metadata": {},
   "outputs": [
    {
     "name": "stdout",
     "output_type": "stream",
     "text": [
      "__eq__ called...\n"
     ]
    },
    {
     "data": {
      "text/plain": [
       "False"
      ]
     },
     "execution_count": 40,
     "metadata": {},
     "output_type": "execute_result"
    }
   ],
   "source": [
    "v1 != v2"
   ]
  },
  {
   "cell_type": "markdown",
   "id": "be437bd1",
   "metadata": {},
   "source": [
    "<hr>\n",
    "\n",
    "<a id='lt&gt'></a>\n",
    "__Lower than__ & __greater than__:"
   ]
  },
  {
   "cell_type": "code",
   "execution_count": 41,
   "id": "457fa159",
   "metadata": {},
   "outputs": [],
   "source": [
    "v1 = Vector(0, 0)\n",
    "v2 = Vector(1, 1)"
   ]
  },
  {
   "cell_type": "code",
   "execution_count": 42,
   "id": "9cea29be",
   "metadata": {},
   "outputs": [
    {
     "name": "stdout",
     "output_type": "stream",
     "text": [
      "__lt__ called...\n"
     ]
    },
    {
     "data": {
      "text/plain": [
       "True"
      ]
     },
     "execution_count": 42,
     "metadata": {},
     "output_type": "execute_result"
    }
   ],
   "source": [
    "v1 < v2"
   ]
  },
  {
   "cell_type": "markdown",
   "id": "128e934a",
   "metadata": {},
   "source": [
    "If `a > b` (`a.__gt__(b)`) is not available, Python will try reverse comparison `b < a`"
   ]
  },
  {
   "cell_type": "code",
   "execution_count": 43,
   "id": "263a9a5a",
   "metadata": {},
   "outputs": [
    {
     "name": "stdout",
     "output_type": "stream",
     "text": [
      "__lt__ called...\n"
     ]
    },
    {
     "data": {
      "text/plain": [
       "False"
      ]
     },
     "execution_count": 43,
     "metadata": {},
     "output_type": "execute_result"
    }
   ],
   "source": [
    "v1 > v2"
   ]
  },
  {
   "cell_type": "code",
   "execution_count": 44,
   "id": "1410cdc2",
   "metadata": {},
   "outputs": [
    {
     "name": "stdout",
     "output_type": "stream",
     "text": [
      "__eq__ called...\n",
      "__lt__ called...\n"
     ]
    },
    {
     "data": {
      "text/plain": [
       "True"
      ]
     },
     "execution_count": 44,
     "metadata": {},
     "output_type": "execute_result"
    }
   ],
   "source": [
    "v1 <= v2"
   ]
  },
  {
   "cell_type": "code",
   "execution_count": 45,
   "id": "155d5a09",
   "metadata": {},
   "outputs": [
    {
     "name": "stdout",
     "output_type": "stream",
     "text": [
      "__eq__ called...\n",
      "__lt__ called...\n"
     ]
    },
    {
     "data": {
      "text/plain": [
       "False"
      ]
     },
     "execution_count": 45,
     "metadata": {},
     "output_type": "execute_result"
    }
   ],
   "source": [
    "v1 >= v2"
   ]
  },
  {
   "cell_type": "markdown",
   "id": "714b290a",
   "metadata": {},
   "source": [
    "<hr>\n",
    "\n",
    "__Example 5__:\n",
    "\n",
    "`@total_ordering` decorator in the `functools` module, that will work with `__eq__` and **one** other rich comparison method"
   ]
  },
  {
   "cell_type": "code",
   "execution_count": 46,
   "id": "35e807e9",
   "metadata": {},
   "outputs": [],
   "source": [
    "from functools import total_ordering\n",
    "\n",
    "@total_ordering\n",
    "class Number:\n",
    "    def __init__(self, x):\n",
    "        self.x = x\n",
    "        \n",
    "    def __eq__(self, other):\n",
    "        print('__eq__ called...')\n",
    "        if isinstance(other, Number):\n",
    "            return self.x == other.x\n",
    "        return NotImplemented\n",
    "    \n",
    "    def __lt__(self, other):\n",
    "        print('__lt__ called...')\n",
    "        if isinstance(other, Number):\n",
    "            return self.x < other.x\n",
    "        return NotImplemented"
   ]
  },
  {
   "cell_type": "code",
   "execution_count": 47,
   "id": "a09c1b0d",
   "metadata": {},
   "outputs": [],
   "source": [
    "a = Number(1)\n",
    "b = Number(2)\n",
    "c = Number(1)"
   ]
  },
  {
   "cell_type": "code",
   "execution_count": 48,
   "id": "ff9dd511",
   "metadata": {},
   "outputs": [
    {
     "name": "stdout",
     "output_type": "stream",
     "text": [
      "__lt__ called...\n"
     ]
    },
    {
     "data": {
      "text/plain": [
       "True"
      ]
     },
     "execution_count": 48,
     "metadata": {},
     "output_type": "execute_result"
    }
   ],
   "source": [
    "a < b"
   ]
  },
  {
   "cell_type": "code",
   "execution_count": 49,
   "id": "25987f9d",
   "metadata": {},
   "outputs": [
    {
     "name": "stdout",
     "output_type": "stream",
     "text": [
      "__lt__ called...\n"
     ]
    },
    {
     "data": {
      "text/plain": [
       "True"
      ]
     },
     "execution_count": 49,
     "metadata": {},
     "output_type": "execute_result"
    }
   ],
   "source": [
    "a <= b"
   ]
  },
  {
   "cell_type": "code",
   "execution_count": 50,
   "id": "5aeca601",
   "metadata": {},
   "outputs": [
    {
     "name": "stdout",
     "output_type": "stream",
     "text": [
      "__lt__ called...\n",
      "__eq__ called...\n"
     ]
    },
    {
     "data": {
      "text/plain": [
       "True"
      ]
     },
     "execution_count": 50,
     "metadata": {},
     "output_type": "execute_result"
    }
   ],
   "source": [
    "a <= c"
   ]
  },
  {
   "cell_type": "markdown",
   "id": "15d7b22e",
   "metadata": {},
   "source": [
    "<hr>\n",
    "\n",
    "<a id='hashing-and-equality'></a>\n",
    "## 5. Hashing and Equality\n",
    "\n",
    "By default, when we create a custom class, we inherit `__eq__` and `__hash__` from the object class.<br>\n",
    "This means that by default custom classes produce hashable objects that can be used in mapping types such as dictionaries and sets.\n",
    "\n",
    "* `__hash__` uses `id` of object\n",
    "* `__eq__` uses identity comparison `is`\n",
    "\n",
    "If we override the `__eq__` method, Python will automatically make our class `unhashable` and sets the `__hash__` property to `None`.\n",
    "\n",
    "We can no longer use instances of this class as keys in a dictionary or elements of a set.\n",
    "\n",
    "We can however provide our own override for `__hash__`.<br>\n",
    "For this to work well in data structurfes such as dictionaries, what we use to create a hash of the class should remain immutable."
   ]
  },
  {
   "cell_type": "markdown",
   "id": "69716aa5",
   "metadata": {},
   "source": [
    "<hr>\n",
    "\n",
    "__Example 6__:"
   ]
  },
  {
   "cell_type": "code",
   "execution_count": 51,
   "id": "a109c6a2",
   "metadata": {},
   "outputs": [],
   "source": [
    "class Person:\n",
    "    def __init__(self, name):\n",
    "        self._name = name\n",
    "        \n",
    "    @property\n",
    "    def name(self):\n",
    "        return self._name\n",
    "    \n",
    "    def __eq__(self, other):\n",
    "        return isinstance(other, Person) and self.name == other.name\n",
    "            \n",
    "    def __hash__(self):\n",
    "        return hash(self.name)"
   ]
  },
  {
   "cell_type": "code",
   "execution_count": 52,
   "id": "36be6fd5",
   "metadata": {},
   "outputs": [],
   "source": [
    "p1 = Person('John')\n",
    "p2 = Person('John')\n",
    "p3 = Person('Eric')"
   ]
  },
  {
   "cell_type": "code",
   "execution_count": 53,
   "id": "955b5a86",
   "metadata": {},
   "outputs": [
    {
     "data": {
      "text/plain": [
       "(True, False)"
      ]
     },
     "execution_count": 53,
     "metadata": {},
     "output_type": "execute_result"
    }
   ],
   "source": [
    "p1 == p2, p1 == p3"
   ]
  },
  {
   "cell_type": "code",
   "execution_count": 54,
   "id": "e8fe83b3",
   "metadata": {},
   "outputs": [],
   "source": [
    "d = {p1: 'Eric'}"
   ]
  },
  {
   "cell_type": "code",
   "execution_count": 55,
   "id": "a70c9414",
   "metadata": {},
   "outputs": [
    {
     "data": {
      "text/plain": [
       "{<__main__.Person at 0x1825d04e160>: 'Eric'}"
      ]
     },
     "execution_count": 55,
     "metadata": {},
     "output_type": "execute_result"
    }
   ],
   "source": [
    "d"
   ]
  },
  {
   "cell_type": "code",
   "execution_count": 56,
   "id": "13dd811c",
   "metadata": {},
   "outputs": [
    {
     "data": {
      "text/plain": [
       "-313983210192495358"
      ]
     },
     "execution_count": 56,
     "metadata": {},
     "output_type": "execute_result"
    }
   ],
   "source": [
    "hash(p1)"
   ]
  },
  {
   "cell_type": "markdown",
   "id": "6658cb0e",
   "metadata": {},
   "source": [
    "<hr>\n",
    "\n",
    "<a id='booleans'></a>\n",
    "## 6. Booleans\n",
    "\n",
    "The way Python determines the truth value of our custom classes is to:\n",
    "\n",
    "1. first look for an implementation of the `__bool__` method (which needs to return a boolean)\n",
    "2. if not present, looks for `__len__` and will return `False` if that is `0`, and `True` otherwise\n",
    "3. otherwise returns `True`"
   ]
  },
  {
   "cell_type": "markdown",
   "id": "48f2fc6b",
   "metadata": {},
   "source": [
    "<hr>\n",
    "\n",
    "__Example 7__:\n",
    "\n",
    "Custom class returns `True` if `__bool__` and `__len__` not specified"
   ]
  },
  {
   "cell_type": "code",
   "execution_count": 57,
   "id": "3e5d2618",
   "metadata": {},
   "outputs": [],
   "source": [
    "class Person:\n",
    "    pass"
   ]
  },
  {
   "cell_type": "code",
   "execution_count": 58,
   "id": "e7fb332b",
   "metadata": {},
   "outputs": [],
   "source": [
    "p = Person()"
   ]
  },
  {
   "cell_type": "code",
   "execution_count": 59,
   "id": "b5d9d340",
   "metadata": {},
   "outputs": [
    {
     "data": {
      "text/plain": [
       "True"
      ]
     },
     "execution_count": 59,
     "metadata": {},
     "output_type": "execute_result"
    }
   ],
   "source": [
    "bool(p)"
   ]
  },
  {
   "cell_type": "markdown",
   "id": "f6add422",
   "metadata": {},
   "source": [
    "<hr>\n",
    "\n",
    "__Example 8__:\n",
    "\n",
    "Boolean truth depending on `__len__` result"
   ]
  },
  {
   "cell_type": "code",
   "execution_count": 60,
   "id": "eb91f67a",
   "metadata": {},
   "outputs": [],
   "source": [
    "class MyList:\n",
    "    def __init__(self, length):\n",
    "        self._length = length\n",
    "        \n",
    "    def __len__(self):\n",
    "        print('__len__ called')\n",
    "        return self._length"
   ]
  },
  {
   "cell_type": "code",
   "execution_count": 61,
   "id": "c5d4ccee",
   "metadata": {},
   "outputs": [],
   "source": [
    "l1 = MyList(0)  # so __len__ will return 0\n",
    "l2 = MyList(10)  # so __len__ will return 10"
   ]
  },
  {
   "cell_type": "code",
   "execution_count": 62,
   "id": "05deb2d7",
   "metadata": {},
   "outputs": [
    {
     "name": "stdout",
     "output_type": "stream",
     "text": [
      "__len__ called\n"
     ]
    },
    {
     "data": {
      "text/plain": [
       "False"
      ]
     },
     "execution_count": 62,
     "metadata": {},
     "output_type": "execute_result"
    }
   ],
   "source": [
    "bool(l1)"
   ]
  },
  {
   "cell_type": "code",
   "execution_count": 63,
   "id": "017cc4d4",
   "metadata": {},
   "outputs": [
    {
     "name": "stdout",
     "output_type": "stream",
     "text": [
      "__len__ called\n"
     ]
    },
    {
     "data": {
      "text/plain": [
       "True"
      ]
     },
     "execution_count": 63,
     "metadata": {},
     "output_type": "execute_result"
    }
   ],
   "source": [
    "bool(l2)"
   ]
  },
  {
   "cell_type": "markdown",
   "id": "fc5530f6",
   "metadata": {},
   "source": [
    "<hr>\n",
    "\n",
    "__Example 9__:\n",
    "\n",
    "Consider a 2D `Point` class where we want to consider the origin point `(0,0)` falsy, and everything else truthy."
   ]
  },
  {
   "cell_type": "code",
   "execution_count": 64,
   "id": "e758c441",
   "metadata": {},
   "outputs": [],
   "source": [
    "class Point:\n",
    "    def __init__(self, x, y):\n",
    "        self.x = x\n",
    "        self.y = y\n",
    "        \n",
    "    def __bool__(self):\n",
    "        return bool(self.x or self.y)"
   ]
  },
  {
   "cell_type": "code",
   "execution_count": 65,
   "id": "c87046c7",
   "metadata": {},
   "outputs": [],
   "source": [
    "p1 = Point(0, 0)\n",
    "p2 = Point(1, 1)"
   ]
  },
  {
   "cell_type": "code",
   "execution_count": 66,
   "id": "af941c75",
   "metadata": {},
   "outputs": [
    {
     "data": {
      "text/plain": [
       "False"
      ]
     },
     "execution_count": 66,
     "metadata": {},
     "output_type": "execute_result"
    }
   ],
   "source": [
    "bool(p1)"
   ]
  },
  {
   "cell_type": "code",
   "execution_count": 67,
   "id": "0691000d",
   "metadata": {},
   "outputs": [
    {
     "data": {
      "text/plain": [
       "True"
      ]
     },
     "execution_count": 67,
     "metadata": {},
     "output_type": "execute_result"
    }
   ],
   "source": [
    "bool(p2)"
   ]
  },
  {
   "cell_type": "markdown",
   "id": "66ba3883",
   "metadata": {},
   "source": [
    "<hr>\n",
    "\n",
    "<a id='callables'></a>\n",
    "## 7. Callables"
   ]
  },
  {
   "cell_type": "markdown",
   "id": "2586ae3b",
   "metadata": {},
   "source": [
    "__Example 10__:\n",
    "\n",
    "Class instance is callable but instance will not."
   ]
  },
  {
   "cell_type": "code",
   "execution_count": 68,
   "id": "3a8aa63c",
   "metadata": {},
   "outputs": [],
   "source": [
    "class Person:\n",
    "    def __init__(self, name):\n",
    "        self.name = name"
   ]
  },
  {
   "cell_type": "code",
   "execution_count": 69,
   "id": "f5fcaefe",
   "metadata": {},
   "outputs": [
    {
     "data": {
      "text/plain": [
       "True"
      ]
     },
     "execution_count": 69,
     "metadata": {},
     "output_type": "execute_result"
    }
   ],
   "source": [
    "callable(Person)"
   ]
  },
  {
   "cell_type": "code",
   "execution_count": 70,
   "id": "24c9a15d",
   "metadata": {},
   "outputs": [],
   "source": [
    "p = Person('Eric')"
   ]
  },
  {
   "cell_type": "code",
   "execution_count": 71,
   "id": "4407aad4",
   "metadata": {},
   "outputs": [
    {
     "data": {
      "text/plain": [
       "False"
      ]
     },
     "execution_count": 71,
     "metadata": {},
     "output_type": "execute_result"
    }
   ],
   "source": [
    "callable(p)"
   ]
  },
  {
   "cell_type": "markdown",
   "id": "ec517ea3",
   "metadata": {},
   "source": [
    "__Example 11__: Cache with cache-miss counter.\n",
    "\n",
    "Implement a dictionary to act as a cache, but also keep track of the cache missed.\n",
    "\n",
    "The `defaultdict` class can be used as a cache with specified `callable` to use when requesting a non-existent key from `defaultdict`. <br>\n",
    "Once called it creates a new key with default value."
   ]
  },
  {
   "cell_type": "code",
   "execution_count": 72,
   "id": "0f26f844",
   "metadata": {},
   "outputs": [],
   "source": [
    "from collections import defaultdict\n",
    "\n",
    "class DefaultValue:\n",
    "    def __init__(self, default_value):\n",
    "        self.default_value = default_value\n",
    "        self.counter = 0\n",
    "        \n",
    "    def __iadd__(self, other):\n",
    "        if isinstance(other, int):\n",
    "            self.counter += other\n",
    "            return self\n",
    "        raise ValueError('Can only increment with an integer value.')\n",
    "        \n",
    "    def __call__(self):\n",
    "        self.counter += 1\n",
    "        return self.default_value"
   ]
  },
  {
   "cell_type": "code",
   "execution_count": 73,
   "id": "a95cdd8b",
   "metadata": {},
   "outputs": [],
   "source": [
    "cache_default_1 = DefaultValue(None)\n",
    "cache_default_2 = DefaultValue(0)\n",
    "\n",
    "cache_1 = defaultdict(cache_default_1)\n",
    "cache_2 = defaultdict(cache_default_2)"
   ]
  },
  {
   "cell_type": "markdown",
   "id": "0336799a",
   "metadata": {},
   "source": [
    "<hr>"
   ]
  },
  {
   "cell_type": "code",
   "execution_count": 74,
   "id": "32a23119",
   "metadata": {},
   "outputs": [
    {
     "data": {
      "text/plain": [
       "(0, 0)"
      ]
     },
     "execution_count": 74,
     "metadata": {},
     "output_type": "execute_result"
    }
   ],
   "source": [
    "cache_default_1.counter, cache_default_2.counter"
   ]
  },
  {
   "cell_type": "code",
   "execution_count": 75,
   "id": "0540aa23",
   "metadata": {},
   "outputs": [
    {
     "data": {
      "text/plain": [
       "(None, None, None)"
      ]
     },
     "execution_count": 75,
     "metadata": {},
     "output_type": "execute_result"
    }
   ],
   "source": [
    "cache_1['a'], cache_1['b'], cache_1['a']"
   ]
  },
  {
   "cell_type": "code",
   "execution_count": 76,
   "id": "3fcda77b",
   "metadata": {},
   "outputs": [
    {
     "data": {
      "text/plain": [
       "2"
      ]
     },
     "execution_count": 76,
     "metadata": {},
     "output_type": "execute_result"
    }
   ],
   "source": [
    "cache_default_1.counter"
   ]
  },
  {
   "cell_type": "markdown",
   "id": "71a995bf",
   "metadata": {},
   "source": [
    "<hr>"
   ]
  },
  {
   "cell_type": "code",
   "execution_count": 77,
   "id": "cf8c4461",
   "metadata": {},
   "outputs": [
    {
     "data": {
      "text/plain": [
       "(0, 0, 0)"
      ]
     },
     "execution_count": 77,
     "metadata": {},
     "output_type": "execute_result"
    }
   ],
   "source": [
    "cache_2['a'], cache_2['b'], cache_2['c']"
   ]
  },
  {
   "cell_type": "code",
   "execution_count": 78,
   "id": "1c635676",
   "metadata": {},
   "outputs": [
    {
     "data": {
      "text/plain": [
       "3"
      ]
     },
     "execution_count": 78,
     "metadata": {},
     "output_type": "execute_result"
    }
   ],
   "source": [
    "cache_default_2.counter"
   ]
  },
  {
   "cell_type": "code",
   "execution_count": 79,
   "id": "33a0fad4",
   "metadata": {},
   "outputs": [],
   "source": [
    "cache_2['e'] = 10"
   ]
  },
  {
   "cell_type": "code",
   "execution_count": 80,
   "id": "341f9368",
   "metadata": {},
   "outputs": [
    {
     "data": {
      "text/plain": [
       "defaultdict(<__main__.DefaultValue at 0x1825d0489a0>,\n",
       "            {'a': 0, 'b': 0, 'c': 0, 'e': 10})"
      ]
     },
     "execution_count": 80,
     "metadata": {},
     "output_type": "execute_result"
    }
   ],
   "source": [
    "cache_2"
   ]
  },
  {
   "cell_type": "code",
   "execution_count": 81,
   "id": "5a1a3835",
   "metadata": {},
   "outputs": [
    {
     "data": {
      "text/plain": [
       "3"
      ]
     },
     "execution_count": 81,
     "metadata": {},
     "output_type": "execute_result"
    }
   ],
   "source": [
    "cache_default_2.counter"
   ]
  },
  {
   "cell_type": "markdown",
   "id": "4f0b9865",
   "metadata": {},
   "source": [
    "__Example 12:__ Profiling functions\n",
    "\n",
    "Keep track of how many times functions are called and how long they took to run on average.\n",
    "\n",
    "This will be done through function decorator, defined as a callable custom class."
   ]
  },
  {
   "cell_type": "code",
   "execution_count": 82,
   "id": "d1056ffa",
   "metadata": {},
   "outputs": [],
   "source": [
    "from time import perf_counter\n",
    "\n",
    "from time import sleep\n",
    "import random\n",
    "\n",
    "class Profiler:\n",
    "    def __init__(self, fn):\n",
    "        self.counter = 0\n",
    "        self.total_elapsed = 0\n",
    "        self.fn = fn\n",
    "        \n",
    "    def __call__(self, *args, **kwargs):\n",
    "        self.counter += 1\n",
    "        start = perf_counter()\n",
    "        result = self.fn(*args, **kwargs)\n",
    "        end = perf_counter()\n",
    "        self.total_elapsed += (end - start)\n",
    "        return result\n",
    "        \n",
    "    @property\n",
    "    def avg_time(self):\n",
    "        return self.total_elapsed / self.counter"
   ]
  },
  {
   "cell_type": "markdown",
   "id": "5bf3effb",
   "metadata": {},
   "source": [
    "<hr>"
   ]
  },
  {
   "cell_type": "code",
   "execution_count": 83,
   "id": "e4026635",
   "metadata": {},
   "outputs": [],
   "source": [
    "@Profiler\n",
    "def func_1(a, b):\n",
    "    sleep(random.random())\n",
    "    return (a, b)"
   ]
  },
  {
   "cell_type": "code",
   "execution_count": 84,
   "id": "877ba951",
   "metadata": {},
   "outputs": [
    {
     "data": {
      "text/plain": [
       "(1, 2)"
      ]
     },
     "execution_count": 84,
     "metadata": {},
     "output_type": "execute_result"
    }
   ],
   "source": [
    "func_1(1, 2)"
   ]
  },
  {
   "cell_type": "code",
   "execution_count": 85,
   "id": "a4d2587b",
   "metadata": {},
   "outputs": [
    {
     "data": {
      "text/plain": [
       "1"
      ]
     },
     "execution_count": 85,
     "metadata": {},
     "output_type": "execute_result"
    }
   ],
   "source": [
    "func_1.counter"
   ]
  },
  {
   "cell_type": "code",
   "execution_count": 86,
   "id": "264b0edb",
   "metadata": {},
   "outputs": [
    {
     "data": {
      "text/plain": [
       "(2, 3)"
      ]
     },
     "execution_count": 86,
     "metadata": {},
     "output_type": "execute_result"
    }
   ],
   "source": [
    "func_1(2, 3)"
   ]
  },
  {
   "cell_type": "code",
   "execution_count": 87,
   "id": "6574a546",
   "metadata": {},
   "outputs": [
    {
     "data": {
      "text/plain": [
       "2"
      ]
     },
     "execution_count": 87,
     "metadata": {},
     "output_type": "execute_result"
    }
   ],
   "source": [
    "func_1.counter"
   ]
  },
  {
   "cell_type": "code",
   "execution_count": 88,
   "id": "5e09a6f7",
   "metadata": {},
   "outputs": [
    {
     "data": {
      "text/plain": [
       "(0, 4)"
      ]
     },
     "execution_count": 88,
     "metadata": {},
     "output_type": "execute_result"
    }
   ],
   "source": [
    "func_1(0, 4)"
   ]
  },
  {
   "cell_type": "code",
   "execution_count": 89,
   "id": "d38c131e",
   "metadata": {},
   "outputs": [
    {
     "data": {
      "text/plain": [
       "3"
      ]
     },
     "execution_count": 89,
     "metadata": {},
     "output_type": "execute_result"
    }
   ],
   "source": [
    "func_1.counter"
   ]
  },
  {
   "cell_type": "code",
   "execution_count": 90,
   "id": "d4424b50",
   "metadata": {
    "scrolled": true
   },
   "outputs": [
    {
     "data": {
      "text/plain": [
       "0.5679931333333336"
      ]
     },
     "execution_count": 90,
     "metadata": {},
     "output_type": "execute_result"
    }
   ],
   "source": [
    "func_1.avg_time"
   ]
  },
  {
   "cell_type": "markdown",
   "id": "b856bb1e",
   "metadata": {},
   "source": [
    "<hr>"
   ]
  },
  {
   "cell_type": "code",
   "execution_count": 91,
   "id": "18c25415",
   "metadata": {},
   "outputs": [],
   "source": [
    "@Profiler\n",
    "def func_2():\n",
    "    sleep(random.random())"
   ]
  },
  {
   "cell_type": "code",
   "execution_count": 92,
   "id": "84b90558",
   "metadata": {},
   "outputs": [
    {
     "data": {
      "text/plain": [
       "(None, None, None)"
      ]
     },
     "execution_count": 92,
     "metadata": {},
     "output_type": "execute_result"
    }
   ],
   "source": [
    "func_2(), func_2(), func_2()"
   ]
  },
  {
   "cell_type": "code",
   "execution_count": 93,
   "id": "6c3516cd",
   "metadata": {},
   "outputs": [
    {
     "data": {
      "text/plain": [
       "3"
      ]
     },
     "execution_count": 93,
     "metadata": {},
     "output_type": "execute_result"
    }
   ],
   "source": [
    "func_2.counter"
   ]
  },
  {
   "cell_type": "code",
   "execution_count": 94,
   "id": "4330fc06",
   "metadata": {},
   "outputs": [
    {
     "data": {
      "text/plain": [
       "0.8270815000000002"
      ]
     },
     "execution_count": 94,
     "metadata": {},
     "output_type": "execute_result"
    }
   ],
   "source": [
    "func_2.avg_time"
   ]
  },
  {
   "cell_type": "markdown",
   "id": "48a32af8",
   "metadata": {},
   "source": [
    "<hr>\n",
    "\n",
    "<a id='delete-method'></a>\n",
    "## 8. Delete method\n",
    "\n",
    "The garbage collector destroys objects that are no longer referenced anywhere.\n",
    "\n",
    "The `__del__` method will get called right before the object is destroyed by the garbage collector.\n",
    "\n",
    "There are some issues, hence it is better to avoid using `__del__` and use `context managers` instead. "
   ]
  },
  {
   "cell_type": "markdown",
   "id": "aea7018b",
   "metadata": {},
   "source": [
    "<hr>\n",
    "\n",
    "<a id='format-method'></a>\n",
    "## 9. Format method"
   ]
  },
  {
   "cell_type": "markdown",
   "id": "a4ae706b",
   "metadata": {},
   "source": [
    "`format()` function can be used to precisely format certain types, such as floats or datetime."
   ]
  },
  {
   "cell_type": "code",
   "execution_count": 95,
   "id": "17ca1cb6",
   "metadata": {},
   "outputs": [
    {
     "data": {
      "text/plain": [
       "'0.10000000000000000555'"
      ]
     },
     "execution_count": 95,
     "metadata": {},
     "output_type": "execute_result"
    }
   ],
   "source": [
    "a = 0.1\n",
    "format(a, '.20f')"
   ]
  },
  {
   "cell_type": "code",
   "execution_count": 96,
   "id": "e807de67",
   "metadata": {},
   "outputs": [
    {
     "data": {
      "text/plain": [
       "datetime.datetime(2021, 6, 30, 20, 33, 14, 282294)"
      ]
     },
     "execution_count": 96,
     "metadata": {},
     "output_type": "execute_result"
    }
   ],
   "source": [
    "from datetime import datetime\n",
    "\n",
    "now = datetime.utcnow()\n",
    "\n",
    "now"
   ]
  },
  {
   "cell_type": "code",
   "execution_count": 97,
   "id": "bdd9abc1",
   "metadata": {},
   "outputs": [
    {
     "data": {
      "text/plain": [
       "'Wed 2021-06-30  08:33 PM'"
      ]
     },
     "execution_count": 97,
     "metadata": {},
     "output_type": "execute_result"
    }
   ],
   "source": [
    "format(now, '%a %Y-%m-%d  %I:%M %p')"
   ]
  },
  {
   "cell_type": "markdown",
   "id": "f8c133b3",
   "metadata": {},
   "source": [
    "<hr>\n",
    "\n",
    "This can be included into a custom class by defining `__format__` method."
   ]
  },
  {
   "cell_type": "code",
   "execution_count": 98,
   "id": "06ec974b",
   "metadata": {},
   "outputs": [],
   "source": [
    "class Person:\n",
    "    def __init__(self, name, dob):\n",
    "        self.name = name\n",
    "        self.dob = dob\n",
    "        \n",
    "    def __repr__(self):\n",
    "        print('__repr__ called...')\n",
    "        return f'Person(name={self.name}, dob={self.dob.isoformat()})'\n",
    "    \n",
    "    def __str__(self):\n",
    "        print('__str__ called...')\n",
    "        return f'Person({self.name})'\n",
    "    \n",
    "    def __format__(self, date_format_spec):\n",
    "        print(f'__format__ called with {repr(date_format_spec)}...')\n",
    "        dob = format(self.dob, date_format_spec)\n",
    "        return f'Person(name={self.name}, dob={dob})'"
   ]
  },
  {
   "cell_type": "code",
   "execution_count": 99,
   "id": "70b8cd74",
   "metadata": {},
   "outputs": [],
   "source": [
    "from datetime import date\n",
    "\n",
    "p = Person('Alex', date(1900, 10, 20))"
   ]
  },
  {
   "cell_type": "code",
   "execution_count": 100,
   "id": "cc064be5",
   "metadata": {},
   "outputs": [
    {
     "name": "stdout",
     "output_type": "stream",
     "text": [
      "__str__ called...\n"
     ]
    },
    {
     "data": {
      "text/plain": [
       "'Person(Alex)'"
      ]
     },
     "execution_count": 100,
     "metadata": {},
     "output_type": "execute_result"
    }
   ],
   "source": [
    "str(p)"
   ]
  },
  {
   "cell_type": "code",
   "execution_count": 101,
   "id": "fc552016",
   "metadata": {},
   "outputs": [
    {
     "name": "stdout",
     "output_type": "stream",
     "text": [
      "__repr__ called...\n"
     ]
    },
    {
     "data": {
      "text/plain": [
       "'Person(name=Alex, dob=1900-10-20)'"
      ]
     },
     "execution_count": 101,
     "metadata": {},
     "output_type": "execute_result"
    }
   ],
   "source": [
    "repr(p)"
   ]
  },
  {
   "cell_type": "code",
   "execution_count": 102,
   "id": "900b624d",
   "metadata": {},
   "outputs": [
    {
     "name": "stdout",
     "output_type": "stream",
     "text": [
      "__format__ called with '%B %d, %Y'...\n"
     ]
    },
    {
     "data": {
      "text/plain": [
       "'Person(name=Alex, dob=October 20, 1900)'"
      ]
     },
     "execution_count": 102,
     "metadata": {},
     "output_type": "execute_result"
    }
   ],
   "source": [
    "format(p, '%B %d, %Y')"
   ]
  },
  {
   "cell_type": "markdown",
   "id": "50a3f49e",
   "metadata": {},
   "source": [
    "If we do not specify a format, then the `format` function will use an empty string:"
   ]
  },
  {
   "cell_type": "code",
   "execution_count": 103,
   "id": "a2574db7",
   "metadata": {},
   "outputs": [
    {
     "name": "stdout",
     "output_type": "stream",
     "text": [
      "__format__ called with ''...\n"
     ]
    },
    {
     "data": {
      "text/plain": [
       "'Person(name=Alex, dob=1900-10-20)'"
      ]
     },
     "execution_count": 103,
     "metadata": {},
     "output_type": "execute_result"
    }
   ],
   "source": [
    "format(p)"
   ]
  },
  {
   "cell_type": "code",
   "execution_count": null,
   "id": "1ac2ec27",
   "metadata": {},
   "outputs": [],
   "source": []
  }
 ],
 "metadata": {
  "kernelspec": {
   "display_name": "Python 3",
   "language": "python",
   "name": "python3"
  },
  "language_info": {
   "codemirror_mode": {
    "name": "ipython",
    "version": 3
   },
   "file_extension": ".py",
   "mimetype": "text/x-python",
   "name": "python",
   "nbconvert_exporter": "python",
   "pygments_lexer": "ipython3",
   "version": "3.9.5"
  }
 },
 "nbformat": 4,
 "nbformat_minor": 5
}
