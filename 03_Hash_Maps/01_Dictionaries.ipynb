{
 "cells": [
  {
   "cell_type": "markdown",
   "metadata": {},
   "source": [
    "# Dictionaries\n",
    "Notes from [Deep Dive 3](https://www.udemy.com/course/python-3-deep-dive-part-3/) section 3. Topics covered:\n",
    "\n",
    "1\\. [Creating dictionaries](#creating-dictionaries)\n",
    "\n",
    "* [constructor](#constructor)\n",
    "* [comprehensions](#comprehensions)\n",
    "* [fromkeys()](#fromkeys)\n",
    "    \n",
    "2\\. [Common operations](#common-operations)\n",
    "\n",
    "* [basic operations](#basic-operations)\n",
    "* [get()](#get)\n",
    "* [pop()](#pop)\n",
    "* [setdefault()](#setdefault)\n",
    "\n",
    "3\\. [Dictionary views](#dictionary-views)\n",
    "\n",
    "4\\.  [Updating, merging and copying](#updating-merging-copying)\n",
    "\n",
    "* [update()](#update)\n",
    "* [unpacking dictionaries](#unpacking-dictionaries)\n",
    "\n",
    "5\\.  [Custom classes and hashing](#custom-classes-and-hashing)\n",
    "\n",
    "* [object hashes](#object-hashes)\n",
    "* [custom classes](#custom-classes)"
   ]
  },
  {
   "cell_type": "markdown",
   "metadata": {},
   "source": [
    "<a id='creating-dictionaries'></a>\n",
    "## 1. Creating dictionaries"
   ]
  },
  {
   "cell_type": "markdown",
   "metadata": {},
   "source": [
    "<a id='constructor'></a>\n",
    "### 1.1 Constructor\n",
    "\n",
    "__Example 1__:"
   ]
  },
  {
   "cell_type": "code",
   "execution_count": 1,
   "metadata": {},
   "outputs": [
    {
     "data": {
      "text/plain": [
       "{'randy': ['Randy', 'Marsh', 45],\n",
       " (0, 0): 'origin',\n",
       " 'repr': <function __main__.<lambda>(x)>,\n",
       " 'eric': {'name': 'Eric Cartman', 'age': 10}}"
      ]
     },
     "execution_count": 1,
     "metadata": {},
     "output_type": "execute_result"
    }
   ],
   "source": [
    "d = {'randy': ['Randy', 'Marsh', 45],\n",
    "     (0, 0): 'origin',\n",
    "     'repr': lambda x: x ** 2,\n",
    "     'eric': {'name': 'Eric Cartman',\n",
    "              'age': 10}\n",
    "    }\n",
    "\n",
    "d"
   ]
  },
  {
   "cell_type": "code",
   "execution_count": 2,
   "metadata": {},
   "outputs": [
    {
     "data": {
      "text/plain": [
       "{'randy': ['Randy', 'Marsh', 45],\n",
       " 'repr': <function __main__.<lambda>(x)>,\n",
       " 'eric': {'name': 'Eric Cartman', 'age': 10},\n",
       " 'twin': {'name': 'Eric Cartman', 'age': 10}}"
      ]
     },
     "execution_count": 2,
     "metadata": {},
     "output_type": "execute_result"
    }
   ],
   "source": [
    "d = dict(randy=['Randy', 'Marsh', 45],\n",
    "         repr=lambda x: x ** 2,\n",
    "         eric={'name': 'Eric Cartman',\n",
    "               'age': 10},\n",
    "         twin=dict(name='Eric Cartman', age=10)\n",
    "        )\n",
    "\n",
    "d"
   ]
  },
  {
   "cell_type": "markdown",
   "metadata": {},
   "source": [
    "<hr>\n",
    "\n",
    "__Example 2__: \n",
    "\n",
    "Use `zip()` to generate dict"
   ]
  },
  {
   "cell_type": "code",
   "execution_count": 3,
   "metadata": {},
   "outputs": [
    {
     "data": {
      "text/plain": [
       "{'a': 1, 'b': 2, 'c': 3}"
      ]
     },
     "execution_count": 3,
     "metadata": {},
     "output_type": "execute_result"
    }
   ],
   "source": [
    "d = dict(zip(\"abc\", range(1, 4)))\n",
    "d"
   ]
  },
  {
   "cell_type": "markdown",
   "metadata": {},
   "source": [
    "<hr>\n",
    "\n",
    "<a id='comprehensions'></a>\n",
    "### 1.2 Comprehensions\n",
    "\n",
    "__Example 3A__: \n",
    "\n",
    "Use `list comprehension` (for comparison) to generate all combinations of (x, y) coordinates."
   ]
  },
  {
   "cell_type": "code",
   "execution_count": 4,
   "metadata": {},
   "outputs": [],
   "source": [
    "import math\n",
    "\n",
    "x_coords = [-2, -1, 0, 1, 2] \n",
    "y_coords = [-2, -1, 0, 1, 2] "
   ]
  },
  {
   "cell_type": "code",
   "execution_count": 5,
   "metadata": {},
   "outputs": [
    {
     "name": "stdout",
     "output_type": "stream",
     "text": [
      "[(-2, -2), (-2, -1), (-2, 0), (-2, 1), (-2, 2), (-1, -2), (-1, -1), (-1, 0), (-1, 1), (-1, 2), (0, -2), (0, -1), (0, 0), (0, 1), (0, 2), (1, -2), (1, -1), (1, 0), (1, 1), (1, 2), (2, -2), (2, -1), (2, 0), (2, 1), (2, 2)]\n"
     ]
    }
   ],
   "source": [
    "grid = [(x, y) for x in x_coords for y in y_coords]\n",
    "\n",
    "print(grid)"
   ]
  },
  {
   "cell_type": "markdown",
   "metadata": {},
   "source": [
    "<hr>\n",
    "\n",
    "__Example 3B__: \n",
    "\n",
    "Generate a dict with `dictionary comprehensions`, where coord tuple is key and calculated distance from origin is value"
   ]
  },
  {
   "cell_type": "code",
   "execution_count": 6,
   "metadata": {},
   "outputs": [
    {
     "data": {
      "text/plain": [
       "{(-2, -2): 2.8284271247461903,\n",
       " (-2, -1): 2.23606797749979,\n",
       " (-2, 0): 2.0,\n",
       " (-2, 1): 2.23606797749979,\n",
       " (-2, 2): 2.8284271247461903,\n",
       " (-1, -2): 2.23606797749979,\n",
       " (-1, -1): 1.4142135623730951,\n",
       " (-1, 0): 1.0,\n",
       " (-1, 1): 1.4142135623730951,\n",
       " (-1, 2): 2.23606797749979,\n",
       " (0, -2): 2.0,\n",
       " (0, -1): 1.0,\n",
       " (0, 0): 0.0,\n",
       " (0, 1): 1.0,\n",
       " (0, 2): 2.0,\n",
       " (1, -2): 2.23606797749979,\n",
       " (1, -1): 1.4142135623730951,\n",
       " (1, 0): 1.0,\n",
       " (1, 1): 1.4142135623730951,\n",
       " (1, 2): 2.23606797749979,\n",
       " (2, -2): 2.8284271247461903,\n",
       " (2, -1): 2.23606797749979,\n",
       " (2, 0): 2.0,\n",
       " (2, 1): 2.23606797749979,\n",
       " (2, 2): 2.8284271247461903}"
      ]
     },
     "execution_count": 6,
     "metadata": {},
     "output_type": "execute_result"
    }
   ],
   "source": [
    "grid_extended = {(x, y): math.hypot(x, y) for x, y in grid}\n",
    "grid_extended"
   ]
  },
  {
   "cell_type": "markdown",
   "metadata": {},
   "source": [
    "<hr>\n",
    "\n",
    "<a id='fromkeys'></a>\n",
    "### 1.3 fromkeys()\n",
    "\n",
    "Creates a dictionary with `specified keys` all assigned to the same value\n",
    "\n",
    "```\n",
    "d = dict.fromkeys(iterable, value)\n",
    "```\n",
    "* `value` (optional) = `None` if not provided\n",
    "\n",
    "__Example 4__:"
   ]
  },
  {
   "cell_type": "code",
   "execution_count": 7,
   "metadata": {},
   "outputs": [
    {
     "data": {
      "text/plain": [
       "{'a': 'N/A', (0, 0): 'N/A', 100: 'N/A'}"
      ]
     },
     "execution_count": 7,
     "metadata": {},
     "output_type": "execute_result"
    }
   ],
   "source": [
    "d = dict.fromkeys(['a', (0,0), 100], 'N/A')\n",
    "\n",
    "d"
   ]
  },
  {
   "cell_type": "code",
   "execution_count": 8,
   "metadata": {},
   "outputs": [
    {
     "data": {
      "text/plain": [
       "{1: False, 4: False, 9: False, 16: False}"
      ]
     },
     "execution_count": 8,
     "metadata": {},
     "output_type": "execute_result"
    }
   ],
   "source": [
    "d = dict.fromkeys((i**2 for i in range(1, 5)), False)\n",
    "\n",
    "d"
   ]
  },
  {
   "cell_type": "markdown",
   "metadata": {},
   "source": [
    "<hr>\n",
    "\n",
    "<a id='common-operations'></a>\n",
    "## 2. Common operations"
   ]
  },
  {
   "cell_type": "markdown",
   "metadata": {},
   "source": [
    "<a id='basic-operations'></a>\n",
    "### 2.1 Basic operations\n",
    "\n",
    "* `d[key]`\n",
    "* `del d[key]`\n",
    "* `d.popitem()` - for Python 3.6+\n",
    "\n",
    "__Example 5__: \n",
    "\n",
    "Standard method to look for key in a dictionary: `d[key]`"
   ]
  },
  {
   "cell_type": "code",
   "execution_count": 9,
   "metadata": {},
   "outputs": [
    {
     "data": {
      "text/plain": [
       "{'a': 1, 'b': 2, 'c': 3}"
      ]
     },
     "execution_count": 9,
     "metadata": {},
     "output_type": "execute_result"
    }
   ],
   "source": [
    "d = dict(zip(\"abc\", range(1, 4)))\n",
    "d"
   ]
  },
  {
   "cell_type": "code",
   "execution_count": 10,
   "metadata": {},
   "outputs": [
    {
     "data": {
      "text/plain": [
       "1"
      ]
     },
     "execution_count": 10,
     "metadata": {},
     "output_type": "execute_result"
    }
   ],
   "source": [
    "d['a']"
   ]
  },
  {
   "cell_type": "markdown",
   "metadata": {},
   "source": [
    "Calling non-existing key will result as `KeyError`"
   ]
  },
  {
   "cell_type": "code",
   "execution_count": 11,
   "metadata": {},
   "outputs": [
    {
     "name": "stdout",
     "output_type": "stream",
     "text": [
      "KeyError: 'python' not in d.\n"
     ]
    }
   ],
   "source": [
    "try:\n",
    "    d['python']\n",
    "except KeyError as ex:\n",
    "    print(f'KeyError: {ex} not in d.')"
   ]
  },
  {
   "cell_type": "markdown",
   "metadata": {},
   "source": [
    "<hr>\n",
    "\n",
    "__Example 6__:\n",
    "\n",
    "Standard method to remove element from dictionary: `del d[key]`"
   ]
  },
  {
   "cell_type": "code",
   "execution_count": 12,
   "metadata": {},
   "outputs": [
    {
     "data": {
      "text/plain": [
       "{'a': 1, 'b': 2, 'c': 3, 'd': 4, 'e': 5, 'f': 6}"
      ]
     },
     "execution_count": 12,
     "metadata": {},
     "output_type": "execute_result"
    }
   ],
   "source": [
    "d = dict(zip(\"abcdef\", range(1, 7)))\n",
    "d"
   ]
  },
  {
   "cell_type": "code",
   "execution_count": 13,
   "metadata": {},
   "outputs": [
    {
     "data": {
      "text/plain": [
       "{'a': 1, 'c': 3, 'd': 4, 'f': 6}"
      ]
     },
     "execution_count": 13,
     "metadata": {},
     "output_type": "execute_result"
    }
   ],
   "source": [
    "del d['b']\n",
    "del d['e']\n",
    "d"
   ]
  },
  {
   "cell_type": "markdown",
   "metadata": {},
   "source": [
    "Calling non-existing key will result as `KeyError`"
   ]
  },
  {
   "cell_type": "code",
   "execution_count": 14,
   "metadata": {},
   "outputs": [
    {
     "name": "stdout",
     "output_type": "stream",
     "text": [
      "KeyError: 'python' not in d.\n"
     ]
    }
   ],
   "source": [
    "try:\n",
    "    d['python']\n",
    "except KeyError as ex:\n",
    "    print(f'KeyError: {ex} not in d.')"
   ]
  },
  {
   "cell_type": "markdown",
   "metadata": {},
   "source": [
    "<hr>\n",
    "\n",
    "__Example 7__:\n",
    "\n",
    "Starting with Python version==3.6 and later, dictionary remains ordered in order of insertion\n",
    "\n",
    "`d.popitem()`:\n",
    "* removes an item from `d`\n",
    "    * prior to Python 3.6 removes __random__ item (key, value)\n",
    "    * from Python 3.6 onwards removes __last inserted__ item (key, value)\n",
    "* returns removed tuple (key, value)\n",
    "* `KeyError` if dictionary is empty"
   ]
  },
  {
   "cell_type": "code",
   "execution_count": 15,
   "metadata": {},
   "outputs": [
    {
     "data": {
      "text/plain": [
       "{'a': 1, 'c': 3, 'd': 4, 'f': 6}"
      ]
     },
     "execution_count": 15,
     "metadata": {},
     "output_type": "execute_result"
    }
   ],
   "source": [
    "d"
   ]
  },
  {
   "cell_type": "code",
   "execution_count": 16,
   "metadata": {},
   "outputs": [
    {
     "data": {
      "text/plain": [
       "('f', 6)"
      ]
     },
     "execution_count": 16,
     "metadata": {},
     "output_type": "execute_result"
    }
   ],
   "source": [
    "d.popitem()"
   ]
  },
  {
   "cell_type": "code",
   "execution_count": 17,
   "metadata": {},
   "outputs": [
    {
     "data": {
      "text/plain": [
       "{'a': 1, 'c': 3, 'd': 4}"
      ]
     },
     "execution_count": 17,
     "metadata": {},
     "output_type": "execute_result"
    }
   ],
   "source": [
    "d"
   ]
  },
  {
   "cell_type": "markdown",
   "metadata": {},
   "source": [
    "<hr>\n",
    "\n",
    "<a id='get'></a>\n",
    "### 2.2. get()\n",
    "\n",
    "```\n",
    "d.get(key, default)\n",
    "```\n",
    "\n",
    "* returns value if key found or `default` if key not found\n",
    "\n",
    "__Example 8__: \n",
    "\n",
    "Look for key in dictionary using `get()`:\n",
    "* results with `None` if key not in dictionary (instead of KeyError)\n",
    "* return specified value if key not in dict"
   ]
  },
  {
   "cell_type": "code",
   "execution_count": 18,
   "metadata": {},
   "outputs": [
    {
     "data": {
      "text/plain": [
       "NoneType"
      ]
     },
     "execution_count": 18,
     "metadata": {},
     "output_type": "execute_result"
    }
   ],
   "source": [
    "# Calling non-existing key with get will result with None\n",
    "result = d.get('python')\n",
    "\n",
    "type(result)"
   ]
  },
  {
   "cell_type": "code",
   "execution_count": 19,
   "metadata": {},
   "outputs": [
    {
     "data": {
      "text/plain": [
       "'N/A'"
      ]
     },
     "execution_count": 19,
     "metadata": {},
     "output_type": "execute_result"
    }
   ],
   "source": [
    "# Calling non-existing key with 'get' will result with value specified\n",
    "result = d.get('z', 'N/A')\n",
    "\n",
    "result"
   ]
  },
  {
   "cell_type": "code",
   "execution_count": 20,
   "metadata": {},
   "outputs": [
    {
     "data": {
      "text/plain": [
       "1"
      ]
     },
     "execution_count": 20,
     "metadata": {},
     "output_type": "execute_result"
    }
   ],
   "source": [
    "# Calling existing key\n",
    "result = d.get('a', 'N/A')\n",
    "\n",
    "result"
   ]
  },
  {
   "cell_type": "markdown",
   "metadata": {},
   "source": [
    "<hr>\n",
    "\n",
    "__Example 9-A__: \n",
    "\n",
    "Create character counter with `get()` function.\n",
    "\n",
    "* if character doesn't exist in the dictionary, `get()` returns 0 as defined and then adds 1\n",
    "* if character exists in the dictionary, `get()` returns existing count value and adds 1 "
   ]
  },
  {
   "cell_type": "code",
   "execution_count": 21,
   "metadata": {},
   "outputs": [],
   "source": [
    "text = \"Dictionaries are ubiquitous in Python. Classes are essentially dictionaries, modules are dictionaries, namespaces are dictionaries, sets are dictionaries and many more.\""
   ]
  },
  {
   "cell_type": "code",
   "execution_count": 22,
   "metadata": {},
   "outputs": [
    {
     "name": "stdout",
     "output_type": "stream",
     "text": [
      "{'D': 1, 'i': 19, 'c': 6, 't': 9, 'o': 9, 'n': 11, 'a': 16, 'r': 11, 'e': 18, 's': 16, ' ': 20, 'u': 4, 'b': 1, 'q': 1, 'P': 1, 'y': 3, 'h': 1, '.': 2, 'C': 1, 'l': 4, 'd': 6, ',': 3, 'm': 4, 'p': 1}\n"
     ]
    }
   ],
   "source": [
    "counts = {}\n",
    "\n",
    "for c in text:\n",
    "    counts[c] = counts.get(c, 0) + 1\n",
    "\n",
    "print(counts)"
   ]
  },
  {
   "cell_type": "markdown",
   "metadata": {},
   "source": [
    "<hr>\n",
    "\n",
    "__Example 9-B:__\n",
    "\n",
    "Extended counter, additionally cleaning of uppercase and lowercase duplicates and other characters"
   ]
  },
  {
   "cell_type": "code",
   "execution_count": 23,
   "metadata": {},
   "outputs": [
    {
     "name": "stdout",
     "output_type": "stream",
     "text": [
      "{'d': 7, 'i': 19, 'c': 7, 't': 9, 'o': 9, 'n': 11, 'a': 16, 'r': 11, 'e': 18, 's': 16, 'u': 4, 'b': 1, 'q': 1, 'p': 2, 'y': 3, 'h': 1, '.': 2, 'l': 4, ',': 3, 'm': 4}\n"
     ]
    }
   ],
   "source": [
    "counts = {}\n",
    "for c in text:\n",
    "    \n",
    "    key = c.lower().strip()\n",
    "    if key:  # if key not empty\n",
    "        # If c doesn't exist get returns 0 and then adds 1\n",
    "        counts[key] = counts.get(key, 0) +1\n",
    "\n",
    "print(counts)"
   ]
  },
  {
   "cell_type": "markdown",
   "metadata": {},
   "source": [
    "<hr>\n",
    "\n",
    "<a id='pop'></a>\n",
    "### 2.3 pop() \n",
    "\n",
    "* use to remove key specified element from dictionary\n",
    "* returns value of removed element or specified value if key not in dict\n",
    "\n",
    "__Example 10__:\n",
    "* `pop()` removes `a` from the dictionary and returns it's value\n",
    "* `z` not in the dictionary hence `pop()` returns 100."
   ]
  },
  {
   "cell_type": "code",
   "execution_count": 24,
   "metadata": {},
   "outputs": [
    {
     "data": {
      "text/plain": [
       "{'a': 0, 'b': 0, 'c': 0, 'd': 0}"
      ]
     },
     "execution_count": 24,
     "metadata": {},
     "output_type": "execute_result"
    }
   ],
   "source": [
    "d = dict.fromkeys('abcd', 0)\n",
    "d"
   ]
  },
  {
   "cell_type": "code",
   "execution_count": 25,
   "metadata": {},
   "outputs": [
    {
     "data": {
      "text/plain": [
       "0"
      ]
     },
     "execution_count": 25,
     "metadata": {},
     "output_type": "execute_result"
    }
   ],
   "source": [
    "result = d.pop('a', 100)\n",
    "result"
   ]
  },
  {
   "cell_type": "code",
   "execution_count": 26,
   "metadata": {},
   "outputs": [
    {
     "data": {
      "text/plain": [
       "100"
      ]
     },
     "execution_count": 26,
     "metadata": {},
     "output_type": "execute_result"
    }
   ],
   "source": [
    "result = d.pop('z', 100)\n",
    "result"
   ]
  },
  {
   "cell_type": "code",
   "execution_count": 27,
   "metadata": {},
   "outputs": [
    {
     "data": {
      "text/plain": [
       "{'b': 0, 'c': 0, 'd': 0}"
      ]
     },
     "execution_count": 27,
     "metadata": {},
     "output_type": "execute_result"
    }
   ],
   "source": [
    "d"
   ]
  },
  {
   "cell_type": "markdown",
   "metadata": {},
   "source": [
    "<hr>\n",
    "\n",
    "<a id='setdefault'></a>\n",
    "### 2.4 setdefault() \n",
    "* use `setdefault()` to append new key to dictionary \n",
    "* returns value if key found in dict or set new key/value and returns new value\n",
    "\n",
    "__Example 11__:\n",
    "* appends new key `x` to dictionary and returns the new value\n",
    "* returns the value of existing key `b`"
   ]
  },
  {
   "cell_type": "code",
   "execution_count": 28,
   "metadata": {},
   "outputs": [
    {
     "data": {
      "text/plain": [
       "100"
      ]
     },
     "execution_count": 28,
     "metadata": {},
     "output_type": "execute_result"
    }
   ],
   "source": [
    "d.setdefault('x', 100)"
   ]
  },
  {
   "cell_type": "code",
   "execution_count": 29,
   "metadata": {},
   "outputs": [
    {
     "data": {
      "text/plain": [
       "0"
      ]
     },
     "execution_count": 29,
     "metadata": {},
     "output_type": "execute_result"
    }
   ],
   "source": [
    "d.setdefault('b', 100)"
   ]
  },
  {
   "cell_type": "code",
   "execution_count": 30,
   "metadata": {},
   "outputs": [
    {
     "data": {
      "text/plain": [
       "{'b': 0, 'c': 0, 'd': 0, 'x': 100}"
      ]
     },
     "execution_count": 30,
     "metadata": {},
     "output_type": "execute_result"
    }
   ],
   "source": [
    "d"
   ]
  },
  {
   "cell_type": "markdown",
   "metadata": {},
   "source": [
    "<hr>\n",
    "\n",
    "__Example 12-A__:\n",
    "\n",
    "Categorise characters to lower, upper or None"
   ]
  },
  {
   "cell_type": "code",
   "execution_count": 31,
   "metadata": {},
   "outputs": [],
   "source": [
    "text = \"Dictionaries are ubiquitous in Python. Classes are essentially dictionaries, modules are dictionaries, namespaces are dictionaries, sets are dictionaries and many more.\""
   ]
  },
  {
   "cell_type": "code",
   "execution_count": 32,
   "metadata": {},
   "outputs": [
    {
     "name": "stdout",
     "output_type": "stream",
     "text": [
      "abcdefghijklmnopqrstuvwxyz\n",
      "ABCDEFGHIJKLMNOPQRSTUVWXYZ\n"
     ]
    }
   ],
   "source": [
    "import string\n",
    "\n",
    "print(string.ascii_lowercase)\n",
    "print(string.ascii_uppercase)"
   ]
  },
  {
   "cell_type": "code",
   "execution_count": 33,
   "metadata": {},
   "outputs": [],
   "source": [
    "def cat_key(c):\n",
    "    \"\"\" Categorizes if character is lower, upper, other or None \"\"\"\n",
    "    categories = {' ': None,\n",
    "                  string.ascii_lowercase: 'lower',\n",
    "                  string.ascii_uppercase: 'upper'}\n",
    "    \n",
    "    # for key in categories dict\n",
    "    for key in categories:\n",
    "        if c in key:\n",
    "        # if character in key string return value\n",
    "            return categories[key]\n",
    "    else:\n",
    "        return 'other'"
   ]
  },
  {
   "cell_type": "code",
   "execution_count": 34,
   "metadata": {},
   "outputs": [
    {
     "data": {
      "text/plain": [
       "('upper', 'lower', 'other', None)"
      ]
     },
     "execution_count": 34,
     "metadata": {},
     "output_type": "execute_result"
    }
   ],
   "source": [
    "cat_key('A'), cat_key('g'), cat_key('@'), cat_key(' ')"
   ]
  },
  {
   "cell_type": "markdown",
   "metadata": {},
   "source": [
    "<hr>\n",
    "\n",
    "__Example 12-B__:\n",
    "\n",
    "Alternative cat_key() function to categorise characters:\n",
    "* create 3 category dictionaries and use `.fromkeys()` to assign 'lower' or 'upper' value to all keys\n",
    "* unpack all 3 dictionaries to a single categories dict\n",
    "* use `.get()` to locate character in categories dict or return 'other'"
   ]
  },
  {
   "cell_type": "code",
   "execution_count": 35,
   "metadata": {},
   "outputs": [],
   "source": [
    "def cat_key2(c):\n",
    "    \"\"\" Categorizes if character is lower, upper, other or None \"\"\"\n",
    "    cat_1 = {' ': None}\n",
    "    # Generates dictioneries with all lower/upper case keys and assigned values\n",
    "    cat_2 = dict.fromkeys(string.ascii_lowercase, 'lower')\n",
    "    cat_3 = dict.fromkeys(string.ascii_uppercase, 'upper')\n",
    "    # Unpacks cat_1, cat_2, cat_3 into a single dictionary\n",
    "    categories = {**cat_1, **cat_2, **cat_3}\n",
    "    return categories.get(c, 'other')"
   ]
  },
  {
   "cell_type": "code",
   "execution_count": 36,
   "metadata": {},
   "outputs": [
    {
     "data": {
      "text/plain": [
       "('upper', 'lower', 'other', None)"
      ]
     },
     "execution_count": 36,
     "metadata": {},
     "output_type": "execute_result"
    }
   ],
   "source": [
    "cat_key2('A'), cat_key2('g'), cat_key2('@'), cat_key2(' ')"
   ]
  },
  {
   "cell_type": "code",
   "execution_count": 37,
   "metadata": {},
   "outputs": [
    {
     "name": "stdout",
     "output_type": "stream",
     "text": [
      "upper:  DPC\n",
      "lower:  qsuyobcepnthdmaril\n",
      "other:  ,.\n"
     ]
    }
   ],
   "source": [
    "categories = {}\n",
    "for c in text:\n",
    "    \n",
    "    key = cat_key(c)\n",
    "    if key:\n",
    "        categories.setdefault(key, set()).add(c)\n",
    "    \n",
    "for cat in categories:\n",
    "    print(f'{cat}: ', ''.join(categories[cat]))"
   ]
  },
  {
   "cell_type": "markdown",
   "metadata": {},
   "source": [
    "<hr>\n",
    "\n",
    "<a id='dictionary-views'></a>\n",
    "## 3. Dictionary views"
   ]
  },
  {
   "cell_type": "markdown",
   "metadata": {},
   "source": [
    "### 3.1 Views and manipulating views\n",
    "\n",
    "\n",
    "* `keys()` view behaves like a `set`\n",
    "    * keys are unique and hashable (which is required for sets)\n",
    "    * `union`, `intersection`, `difference` operations of these key views are possible (like sets)\n",
    "    \n",
    "\n",
    "* `values()` view does __not__ behave like a set\n",
    "    * in general values are not unique\n",
    "    * in general values are not hashable\n",
    "    \n",
    "\n",
    "* `items()` __may__ behave like a set\n",
    "    * elements of `items()` are guaranteed unique (since keys are unique)\n",
    "    * if all vales are hashable, then behaves like a set\n",
    "    * if one or more values unhashable, then don't behave like a set\n",
    "    \n",
    "\n",
    "<hr>\n",
    "\n",
    "__Example 13__:\n",
    "\n",
    "Set operations\n"
   ]
  },
  {
   "cell_type": "code",
   "execution_count": 38,
   "metadata": {},
   "outputs": [],
   "source": [
    "s1 = {'a', 'b', 'c'}\n",
    "s2 = {'b', 'c', 'd'}"
   ]
  },
  {
   "cell_type": "code",
   "execution_count": 39,
   "metadata": {},
   "outputs": [
    {
     "data": {
      "text/plain": [
       "{'a', 'b', 'c', 'd'}"
      ]
     },
     "execution_count": 39,
     "metadata": {},
     "output_type": "execute_result"
    }
   ],
   "source": [
    "# union \n",
    "s1 | s2"
   ]
  },
  {
   "cell_type": "code",
   "execution_count": 40,
   "metadata": {},
   "outputs": [
    {
     "data": {
      "text/plain": [
       "{'b', 'c'}"
      ]
     },
     "execution_count": 40,
     "metadata": {},
     "output_type": "execute_result"
    }
   ],
   "source": [
    "# intersection \n",
    "s1 & s2"
   ]
  },
  {
   "cell_type": "code",
   "execution_count": 41,
   "metadata": {},
   "outputs": [
    {
     "data": {
      "text/plain": [
       "{'a'}"
      ]
     },
     "execution_count": 41,
     "metadata": {},
     "output_type": "execute_result"
    }
   ],
   "source": [
    "# difference \n",
    "s1 - s2"
   ]
  },
  {
   "cell_type": "markdown",
   "metadata": {},
   "source": [
    "<hr>\n",
    "\n",
    "__Example 14__:\n",
    "* Check for common keys in d1 and d2 dictionaries\n",
    "* If key exists in both dicts, copy the key to a new dictionary and assign values from both dicts\n"
   ]
  },
  {
   "cell_type": "code",
   "execution_count": 42,
   "metadata": {},
   "outputs": [],
   "source": [
    "d1= {'a': 1, 'b': 2, 'c':3}\n",
    "d2= {'b': 2, 'c': 30, 'd': 4}"
   ]
  },
  {
   "cell_type": "code",
   "execution_count": 43,
   "metadata": {},
   "outputs": [],
   "source": [
    "k1 = d1.keys()\n",
    "k2 = d2.keys()"
   ]
  },
  {
   "cell_type": "markdown",
   "metadata": {},
   "source": [
    "key (set) `intersection`"
   ]
  },
  {
   "cell_type": "code",
   "execution_count": 44,
   "metadata": {},
   "outputs": [
    {
     "data": {
      "text/plain": [
       "{'b', 'c'}"
      ]
     },
     "execution_count": 44,
     "metadata": {},
     "output_type": "execute_result"
    }
   ],
   "source": [
    "k1 & k2"
   ]
  },
  {
   "cell_type": "code",
   "execution_count": 45,
   "metadata": {},
   "outputs": [
    {
     "data": {
      "text/plain": [
       "{'b': (2, 2), 'c': (3, 30)}"
      ]
     },
     "execution_count": 45,
     "metadata": {},
     "output_type": "execute_result"
    }
   ],
   "source": [
    "# copy reoccurring key to a new dictionary and assign values from origin dicts\n",
    "new_dict = {key: (d1[key], d2[key]) for key in d1.keys() & d2.keys()}\n",
    "new_dict"
   ]
  },
  {
   "cell_type": "markdown",
   "metadata": {},
   "source": [
    "<hr>\n",
    "\n",
    "__Example 15__:\n",
    "\n",
    "Identify items of which keys are not common in both dictionaries (d & e)"
   ]
  },
  {
   "cell_type": "code",
   "execution_count": 46,
   "metadata": {},
   "outputs": [],
   "source": [
    "d1= {'a': 1, 'b': 2, 'c':3, 'd': 4}\n",
    "d2= {'a': 10, 'b': 20, 'c': 30, 'e': 5}"
   ]
  },
  {
   "cell_type": "markdown",
   "metadata": {},
   "source": [
    "Define equation to find unique keys: \n",
    "* keys `union` - keys `intersection`, or\n",
    "* alternatively use `symmetric difference` which is equal to union - intersection"
   ]
  },
  {
   "cell_type": "code",
   "execution_count": 47,
   "metadata": {},
   "outputs": [
    {
     "data": {
      "text/plain": [
       "{'d', 'e'}"
      ]
     },
     "execution_count": 47,
     "metadata": {},
     "output_type": "execute_result"
    }
   ],
   "source": [
    "# keys union - keys intersection\n",
    "k = (d1.keys() | d2.keys()) - (d1.keys() & d2.keys())\n",
    "k"
   ]
  },
  {
   "cell_type": "code",
   "execution_count": 48,
   "metadata": {
    "scrolled": true
   },
   "outputs": [
    {
     "data": {
      "text/plain": [
       "{'d', 'e'}"
      ]
     },
     "execution_count": 48,
     "metadata": {},
     "output_type": "execute_result"
    }
   ],
   "source": [
    "# Alternatively use ^ symmetric difference which is equal to union - intersection\n",
    "k = d1.keys() ^ d2.keys()\n",
    "k"
   ]
  },
  {
   "cell_type": "markdown",
   "metadata": {},
   "source": [
    "Use `get()` to return value of existing key or None for non-existing key, of which `or` returns the existing value."
   ]
  },
  {
   "cell_type": "code",
   "execution_count": 49,
   "metadata": {},
   "outputs": [
    {
     "data": {
      "text/plain": [
       "4"
      ]
     },
     "execution_count": 49,
     "metadata": {},
     "output_type": "execute_result"
    }
   ],
   "source": [
    "# Use get() to return value of existing key\n",
    "d1.get('d') or d2.get('d')"
   ]
  },
  {
   "cell_type": "markdown",
   "metadata": {},
   "source": [
    "<hr>"
   ]
  },
  {
   "cell_type": "code",
   "execution_count": 50,
   "metadata": {},
   "outputs": [
    {
     "name": "stdout",
     "output_type": "stream",
     "text": [
      "{'e': 5, 'd': 4}\n"
     ]
    }
   ],
   "source": [
    "results = {}\n",
    "for key in k:\n",
    "    results[key] = d1.get(key) or d2.get(key)\n",
    "print(results)"
   ]
  },
  {
   "cell_type": "code",
   "execution_count": 51,
   "metadata": {},
   "outputs": [
    {
     "name": "stdout",
     "output_type": "stream",
     "text": [
      "{'e': 5, 'd': 4}\n"
     ]
    }
   ],
   "source": [
    "results = {key: d1.get(key) or d2.get(key) for key in d1.keys() ^ d2.keys()}\n",
    "print(results)"
   ]
  },
  {
   "cell_type": "markdown",
   "metadata": {},
   "source": [
    "<hr>\n",
    "\n",
    "<a id='updating-merging-copying'></a>\n",
    "## 4. Updating, Merging and Copying"
   ]
  },
  {
   "cell_type": "markdown",
   "metadata": {},
   "source": [
    "<a id='update'></a>\n",
    "### 4.1 update() \n",
    "* Updates dict with keys and values from specified dict\n",
    "    * Overwrites initial values\n",
    "    * Adds new keys, values\n",
    "\n",
    "__Example 16__:\n",
    "\n",
    "`d1.update(d2)` resutls in:\n",
    "* updated `b`\n",
    "* inserted `c`"
   ]
  },
  {
   "cell_type": "code",
   "execution_count": 52,
   "metadata": {},
   "outputs": [],
   "source": [
    "d1 = {'a': 1, 'b': 2}\n",
    "d2 = {'b': 20, 'c': 3}"
   ]
  },
  {
   "cell_type": "code",
   "execution_count": 53,
   "metadata": {},
   "outputs": [
    {
     "data": {
      "text/plain": [
       "{'a': 1, 'b': 20, 'c': 3}"
      ]
     },
     "execution_count": 53,
     "metadata": {},
     "output_type": "execute_result"
    }
   ],
   "source": [
    "d1.update(d2)\n",
    "\n",
    "d1"
   ]
  },
  {
   "cell_type": "markdown",
   "metadata": {},
   "source": [
    "<hr>\n",
    "\n",
    "<a id='unpacking-dictionaries'></a>\n",
    "### 4.2 Unpacking dictionaries\n",
    "\n",
    "* last 'update' wins\n",
    "* insertion order is preserved (Python 3.6+)\n",
    "\n",
    "__Example 17__:\n",
    "\n",
    "Unpack predefined dictionaries to a new dictionary"
   ]
  },
  {
   "cell_type": "code",
   "execution_count": 54,
   "metadata": {},
   "outputs": [],
   "source": [
    "d1 = {'a': 1, 'b': 2}\n",
    "d2 = {'a': 10, (0,0): 'origin'}\n",
    "d3 = {'b': 20, 'c': 30, 'a': 100}"
   ]
  },
  {
   "cell_type": "code",
   "execution_count": 55,
   "metadata": {},
   "outputs": [
    {
     "data": {
      "text/plain": [
       "{'a': 100, 'b': 20, (0, 0): 'origin', 'c': 30}"
      ]
     },
     "execution_count": 55,
     "metadata": {},
     "output_type": "execute_result"
    }
   ],
   "source": [
    "d = {**d1, **d2, **d3}\n",
    "d"
   ]
  },
  {
   "cell_type": "markdown",
   "metadata": {},
   "source": [
    "<hr>\n",
    "\n",
    "__Example 18__:\n",
    "\n",
    "Unpack predefined dictionaries to a new dictionary"
   ]
  },
  {
   "cell_type": "code",
   "execution_count": 56,
   "metadata": {},
   "outputs": [
    {
     "data": {
      "text/plain": [
       "{'host': None, 'port': None, 'user': None, 'pwd': None, 'database': None}"
      ]
     },
     "execution_count": 56,
     "metadata": {},
     "output_type": "execute_result"
    }
   ],
   "source": [
    "conf_defaults = dict.fromkeys(('host', 'port', 'user', 'pwd', 'database'), None)\n",
    "conf_defaults"
   ]
  },
  {
   "cell_type": "code",
   "execution_count": 57,
   "metadata": {},
   "outputs": [
    {
     "data": {
      "text/plain": [
       "{'port': 5432, 'database': 'deepdive'}"
      ]
     },
     "execution_count": 57,
     "metadata": {},
     "output_type": "execute_result"
    }
   ],
   "source": [
    "conf_global ={'port': 5432, 'database': 'deepdive'}\n",
    "conf_global"
   ]
  },
  {
   "cell_type": "code",
   "execution_count": 58,
   "metadata": {},
   "outputs": [
    {
     "data": {
      "text/plain": [
       "{'host': 'localhost', 'user': 'test', 'pwd': 'test'}"
      ]
     },
     "execution_count": 58,
     "metadata": {},
     "output_type": "execute_result"
    }
   ],
   "source": [
    "conf_dev = {'host': 'localhost', 'user': 'test', 'pwd': 'test'}\n",
    "conf_dev"
   ]
  },
  {
   "cell_type": "code",
   "execution_count": 59,
   "metadata": {},
   "outputs": [
    {
     "data": {
      "text/plain": [
       "{'host': 'prodpg.deepdive.com',\n",
       " 'user': '$prod_user',\n",
       " 'pwd': '$prod_pwd',\n",
       " 'database': 'deepdive_prod'}"
      ]
     },
     "execution_count": 59,
     "metadata": {},
     "output_type": "execute_result"
    }
   ],
   "source": [
    "conf_prod = {'host': 'prodpg.deepdive.com', 'user': '$prod_user', 'pwd': '$prod_pwd', 'database': 'deepdive_prod'}\n",
    "conf_prod"
   ]
  },
  {
   "cell_type": "markdown",
   "metadata": {},
   "source": [
    "<hr>\n",
    "\n",
    "Different content of final dictionary depends on unpacking order.\n",
    "\n",
    "`conf_defaults` --> `global` --> `dev`"
   ]
  },
  {
   "cell_type": "code",
   "execution_count": 60,
   "metadata": {},
   "outputs": [
    {
     "data": {
      "text/plain": [
       "{'host': 'localhost',\n",
       " 'port': 5432,\n",
       " 'user': 'test',\n",
       " 'pwd': 'test',\n",
       " 'database': 'deepdive'}"
      ]
     },
     "execution_count": 60,
     "metadata": {},
     "output_type": "execute_result"
    }
   ],
   "source": [
    "conf = {**conf_defaults, **conf_global, **conf_dev}\n",
    "conf"
   ]
  },
  {
   "cell_type": "markdown",
   "metadata": {},
   "source": [
    "<hr>\n",
    "\n",
    "`conf_defaults` --> `global` --> `prod`"
   ]
  },
  {
   "cell_type": "code",
   "execution_count": 61,
   "metadata": {},
   "outputs": [
    {
     "data": {
      "text/plain": [
       "{'host': 'prodpg.deepdive.com',\n",
       " 'port': 5432,\n",
       " 'user': '$prod_user',\n",
       " 'pwd': '$prod_pwd',\n",
       " 'database': 'deepdive_prod'}"
      ]
     },
     "execution_count": 61,
     "metadata": {},
     "output_type": "execute_result"
    }
   ],
   "source": [
    "conf = {**conf_defaults, **conf_global, **conf_prod}\n",
    "conf"
   ]
  },
  {
   "cell_type": "markdown",
   "metadata": {},
   "source": [
    "<hr>\n",
    "\n",
    "__Example 19__: \n",
    "\n",
    "passing keyword arguments to a function"
   ]
  },
  {
   "cell_type": "code",
   "execution_count": 62,
   "metadata": {},
   "outputs": [],
   "source": [
    "def my_func(*, kw1, kw2, kw3):\n",
    "    print(kw1, kw2, kw3)"
   ]
  },
  {
   "cell_type": "code",
   "execution_count": 63,
   "metadata": {},
   "outputs": [],
   "source": [
    "d = {'kw2': 20, 'kw1': 10, 'kw3': 30}"
   ]
  },
  {
   "cell_type": "code",
   "execution_count": 64,
   "metadata": {
    "scrolled": true
   },
   "outputs": [
    {
     "name": "stdout",
     "output_type": "stream",
     "text": [
      "10 20 30\n"
     ]
    }
   ],
   "source": [
    "my_func(**d)"
   ]
  },
  {
   "cell_type": "markdown",
   "metadata": {},
   "source": [
    "### 4.3 Copying dictionaries\n",
    "\n",
    "__Example 20__:\n",
    "\n",
    "`shallow copies`:\n",
    "* container is a new object -> dictionaries are independent objects\n",
    "* copied container elements/values are `shared references` with original object -> keys/values are `shared references`"
   ]
  },
  {
   "cell_type": "code",
   "execution_count": 65,
   "metadata": {},
   "outputs": [],
   "source": [
    "d= {'a': 1, 'b': 2, 'c':3, 'd': 4}"
   ]
  },
  {
   "cell_type": "code",
   "execution_count": 66,
   "metadata": {},
   "outputs": [],
   "source": [
    "d_copy = d.copy()\n",
    "d_copy = {**d}\n",
    "d_copy = dict(d)\n",
    "\n",
    "# slower (don't use)\n",
    "d_copy = {k: v for k, v in d.items()}"
   ]
  },
  {
   "cell_type": "code",
   "execution_count": 67,
   "metadata": {},
   "outputs": [
    {
     "data": {
      "text/plain": [
       "{'a': 1, 'b': 2, 'c': 3, 'd': 4}"
      ]
     },
     "execution_count": 67,
     "metadata": {},
     "output_type": "execute_result"
    }
   ],
   "source": [
    "d_copy"
   ]
  },
  {
   "cell_type": "code",
   "execution_count": 68,
   "metadata": {},
   "outputs": [
    {
     "data": {
      "text/plain": [
       "('d', 4)"
      ]
     },
     "execution_count": 68,
     "metadata": {},
     "output_type": "execute_result"
    }
   ],
   "source": [
    "d.popitem()"
   ]
  },
  {
   "cell_type": "code",
   "execution_count": 69,
   "metadata": {},
   "outputs": [
    {
     "data": {
      "text/plain": [
       "{'a': 1, 'b': 2, 'c': 3}"
      ]
     },
     "execution_count": 69,
     "metadata": {},
     "output_type": "execute_result"
    }
   ],
   "source": [
    "d"
   ]
  },
  {
   "cell_type": "code",
   "execution_count": 70,
   "metadata": {},
   "outputs": [
    {
     "data": {
      "text/plain": [
       "{'a': 1, 'b': 2, 'c': 3, 'd': 4}"
      ]
     },
     "execution_count": 70,
     "metadata": {},
     "output_type": "execute_result"
    }
   ],
   "source": [
    "d_copy"
   ]
  },
  {
   "cell_type": "code",
   "execution_count": 71,
   "metadata": {},
   "outputs": [
    {
     "data": {
      "text/plain": [
       "{'a': 1, 'b': 2, 'c': 30}"
      ]
     },
     "execution_count": 71,
     "metadata": {},
     "output_type": "execute_result"
    }
   ],
   "source": [
    "d['c'] = 30\n",
    "d"
   ]
  },
  {
   "cell_type": "code",
   "execution_count": 72,
   "metadata": {},
   "outputs": [
    {
     "data": {
      "text/plain": [
       "{'a': 1, 'b': 2, 'c': 3, 'd': 4}"
      ]
     },
     "execution_count": 72,
     "metadata": {},
     "output_type": "execute_result"
    }
   ],
   "source": [
    "d_copy"
   ]
  },
  {
   "cell_type": "markdown",
   "metadata": {},
   "source": [
    "<hr>\n",
    "\n",
    "__Example 21__:\n",
    "\n",
    "`deepcopy`\n",
    "* no shared reference"
   ]
  },
  {
   "cell_type": "code",
   "execution_count": 73,
   "metadata": {},
   "outputs": [
    {
     "data": {
      "text/plain": [
       "{'a': 1, 'b': 2, 'c': 30}"
      ]
     },
     "execution_count": 73,
     "metadata": {},
     "output_type": "execute_result"
    }
   ],
   "source": [
    "from copy import deepcopy\n",
    "\n",
    "d1 = deepcopy(d)\n",
    "d1"
   ]
  },
  {
   "cell_type": "markdown",
   "metadata": {},
   "source": [
    "<hr>\n",
    "\n",
    "<a id='custom-classes-and-hashing'></a>\n",
    "## 5. Custom Classes and Hashing"
   ]
  },
  {
   "cell_type": "markdown",
   "metadata": {},
   "source": [
    "<a id='object-hashes'></a>\n",
    "### 5.1 Object hashes\n",
    "\n",
    "<hr>\n",
    "\n",
    "Basic structure of dictionary elements: `key`: `value`\n",
    "\n",
    "- value: any Python object (integer, custom class or instance, function, module, any Python object...)\n",
    "- key: any `hashable` object\n",
    "    - immutable objects are hashable \n",
    "        - int, float, string, complex, binary, Decimal, Fraction, frozenset, functions\n",
    "        - tuples if all elements are also hashable\n",
    "    - mutable objects are not hashable\n",
    "        - set, dictionary, list\n",
    "\n",
    "<hr>\n",
    "\n",
    "If an object is hashable:\n",
    "* the hash of the object must be an `integer` value\n",
    "* if two objects compare `equal` (`==`), the `hashes` must also be `equal`\n",
    "\n",
    "Important: two objects that do `not` compare equal, `may` still have the same hash (hash collision).\n",
    "More hash collisions, slower dictionaries."
   ]
  },
  {
   "cell_type": "markdown",
   "metadata": {},
   "source": [
    "<hr>\n",
    "\n",
    "__Example 22__:\n",
    "\n",
    "1.  `t1` and `t2` are two different objects\n",
    "2.  `t1` and `t2` are equal\n",
    "3.  `t1` and `t2` are not the same object\n",
    "4.  if two objects are `equal` then they should have the same `hash`\n",
    "5.  hence `t1` and `t2` used as a key will point to the same value "
   ]
  },
  {
   "cell_type": "code",
   "execution_count": 74,
   "metadata": {},
   "outputs": [],
   "source": [
    "t1 = (1, 2, 3)\n",
    "t2 = (1, 2, 3)"
   ]
  },
  {
   "cell_type": "markdown",
   "metadata": {},
   "source": [
    "1. Separate id proves `t1` and `t2` are two different objects"
   ]
  },
  {
   "cell_type": "code",
   "execution_count": 75,
   "metadata": {},
   "outputs": [
    {
     "data": {
      "text/plain": [
       "(84519360, 85109504)"
      ]
     },
     "execution_count": 75,
     "metadata": {},
     "output_type": "execute_result"
    }
   ],
   "source": [
    "id(t1), id(t2)"
   ]
  },
  {
   "cell_type": "markdown",
   "metadata": {},
   "source": [
    "2. `t1` and `t2` are equal"
   ]
  },
  {
   "cell_type": "code",
   "execution_count": 76,
   "metadata": {},
   "outputs": [
    {
     "data": {
      "text/plain": [
       "True"
      ]
     },
     "execution_count": 76,
     "metadata": {},
     "output_type": "execute_result"
    }
   ],
   "source": [
    "t1==t2"
   ]
  },
  {
   "cell_type": "markdown",
   "metadata": {},
   "source": [
    "3. `t1` and `t2` are not the same object"
   ]
  },
  {
   "cell_type": "code",
   "execution_count": 77,
   "metadata": {},
   "outputs": [
    {
     "data": {
      "text/plain": [
       "False"
      ]
     },
     "execution_count": 77,
     "metadata": {},
     "output_type": "execute_result"
    }
   ],
   "source": [
    "t1 is t2"
   ]
  },
  {
   "cell_type": "markdown",
   "metadata": {},
   "source": [
    "4.  If two objects are `equal` then they should have the same `hash`"
   ]
  },
  {
   "cell_type": "code",
   "execution_count": 78,
   "metadata": {},
   "outputs": [
    {
     "data": {
      "text/plain": [
       "(529344067295497451, 529344067295497451)"
      ]
     },
     "execution_count": 78,
     "metadata": {},
     "output_type": "execute_result"
    }
   ],
   "source": [
    "hash(t1), hash(t2)"
   ]
  },
  {
   "cell_type": "code",
   "execution_count": 79,
   "metadata": {
    "scrolled": true
   },
   "outputs": [
    {
     "data": {
      "text/plain": [
       "True"
      ]
     },
     "execution_count": 79,
     "metadata": {},
     "output_type": "execute_result"
    }
   ],
   "source": [
    "hash(t1) == hash(t2)"
   ]
  },
  {
   "cell_type": "markdown",
   "metadata": {},
   "source": [
    "5. Hence `t1` and `t2` could be used to recover the same value from a dict"
   ]
  },
  {
   "cell_type": "code",
   "execution_count": 80,
   "metadata": {},
   "outputs": [],
   "source": [
    "d = {t1: 100}"
   ]
  },
  {
   "cell_type": "markdown",
   "metadata": {},
   "source": [
    "`t2` is different object than `t1`, but since that object is `equal` and has the same `hash` we recover the same key"
   ]
  },
  {
   "cell_type": "code",
   "execution_count": 81,
   "metadata": {},
   "outputs": [
    {
     "data": {
      "text/plain": [
       "100"
      ]
     },
     "execution_count": 81,
     "metadata": {},
     "output_type": "execute_result"
    }
   ],
   "source": [
    "d[t1]"
   ]
  },
  {
   "cell_type": "code",
   "execution_count": 82,
   "metadata": {},
   "outputs": [
    {
     "data": {
      "text/plain": [
       "100"
      ]
     },
     "execution_count": 82,
     "metadata": {},
     "output_type": "execute_result"
    }
   ],
   "source": [
    "d[t2]"
   ]
  },
  {
   "cell_type": "code",
   "execution_count": 83,
   "metadata": {},
   "outputs": [
    {
     "data": {
      "text/plain": [
       "100"
      ]
     },
     "execution_count": 83,
     "metadata": {},
     "output_type": "execute_result"
    }
   ],
   "source": [
    "d[(1, 2, 3)]"
   ]
  },
  {
   "cell_type": "markdown",
   "metadata": {},
   "source": [
    "<hr>\n",
    "\n",
    "<a id='custom-classes'></a>\n",
    "### 5.2 Custom classes\n",
    "In order to achieve similar result with class objects as with tuples, which is to use different but equal objects as dict keys, it is required that objects are `equal` and have the same `hash` value.\n",
    "\n",
    "The class instance require to specify `__eq__` method to be able to check equality between objects.\n",
    "\n",
    "After doing that python by itself specifies that the class objecs are not hashable anymore by setting `__hash__` to `None`.\n",
    "\n",
    "This requires also to specify manually `__hash__` method.\n",
    "\n",
    "__Example 23__:"
   ]
  },
  {
   "cell_type": "code",
   "execution_count": 84,
   "metadata": {},
   "outputs": [],
   "source": [
    "class Point:\n",
    "    def __init__(self, x, y):\n",
    "        self.x = x\n",
    "        self.y = y\n",
    "    \n",
    "    def __repr__(self):\n",
    "        return f'({self.x}, {self.y})'\n",
    "    \n",
    "    def __eq__(self, other):\n",
    "        # check if other is instance of another tuple with the same length\n",
    "        if isinstance(other, tuple) and len(other) == 2:\n",
    "            other = Point(*other)\n",
    "            \n",
    "        # check if other is instance of Point class\n",
    "        if isinstance(other, Point):\n",
    "            return self.x == other.x and self.y == other.y\n",
    "        \n",
    "        else:\n",
    "            return False\n",
    "    \n",
    "    def __hash__(self):\n",
    "        return hash((self.x, self.y))"
   ]
  },
  {
   "cell_type": "code",
   "execution_count": 85,
   "metadata": {},
   "outputs": [
    {
     "data": {
      "text/plain": [
       "{(0, 0): 'origin', (1, 1): 'point at (1,1)'}"
      ]
     },
     "execution_count": 85,
     "metadata": {},
     "output_type": "execute_result"
    }
   ],
   "source": [
    "pt1 = Point(0,0)\n",
    "pt2 = Point(1,1)\n",
    "points = {pt1: 'origin', pt2: 'point at (1,1)'}\n",
    "points"
   ]
  },
  {
   "cell_type": "markdown",
   "metadata": {},
   "source": [
    "<hr>\n",
    "\n",
    "Now we can get the same value out of points dictionary in various ways, using:\n",
    "* Point instance assigned to `pt1`\n",
    "* another Point instance with the same x and y `Point(0,0)`\n",
    "* tuple with the same length and values `(0,0)`"
   ]
  },
  {
   "cell_type": "code",
   "execution_count": 86,
   "metadata": {},
   "outputs": [
    {
     "data": {
      "text/plain": [
       "('origin', 'origin', 'origin')"
      ]
     },
     "execution_count": 86,
     "metadata": {},
     "output_type": "execute_result"
    }
   ],
   "source": [
    "points[pt1], points[Point(0, 0)], points[(0,0)]"
   ]
  },
  {
   "cell_type": "markdown",
   "metadata": {},
   "source": [
    "<hr>\n",
    "\n",
    "__Example 24__:\n",
    "\n",
    "In the following class example object equation depends only on `Person.id` comparison. \n",
    "\n",
    "This will no longer work if we mutate any of existing parameters of `pt1` or `pt2` because of new hash value for that key is different to original key hash."
   ]
  },
  {
   "cell_type": "code",
   "execution_count": 87,
   "metadata": {},
   "outputs": [],
   "source": [
    "class Person:\n",
    "    def __init__(self, id_, name, age):\n",
    "        self._id = id_\n",
    "        self.name = name\n",
    "        self.age = age\n",
    "    \n",
    "    def __repr__(self):\n",
    "        return f'Person(id={self._id}, name={self.name}, age={self.age})'\n",
    "    \n",
    "    def __eq__(self, other):\n",
    "        if isinstance(other, Person):\n",
    "            return self._id == other._id\n",
    "        else:\n",
    "            return False\n",
    "    \n",
    "    def __hash__(self):\n",
    "        return hash(self._id)"
   ]
  },
  {
   "cell_type": "code",
   "execution_count": 88,
   "metadata": {},
   "outputs": [
    {
     "data": {
      "text/plain": [
       "Person(id=john, name=John, age=28)"
      ]
     },
     "execution_count": 88,
     "metadata": {},
     "output_type": "execute_result"
    }
   ],
   "source": [
    "p1 = Person ('john', 'John', 28)\n",
    "p1"
   ]
  },
  {
   "cell_type": "code",
   "execution_count": 89,
   "metadata": {},
   "outputs": [
    {
     "data": {
      "text/plain": [
       "'john object'"
      ]
     },
     "execution_count": 89,
     "metadata": {},
     "output_type": "execute_result"
    }
   ],
   "source": [
    "persons = {p1: 'john object'}\n",
    "persons[p1]"
   ]
  },
  {
   "cell_type": "code",
   "execution_count": 90,
   "metadata": {},
   "outputs": [
    {
     "data": {
      "text/plain": [
       "'john object'"
      ]
     },
     "execution_count": 90,
     "metadata": {},
     "output_type": "execute_result"
    }
   ],
   "source": [
    "# object comparison is based on id attribute which is 'john'\n",
    "persons[Person('john', 'qwerty', 30)]"
   ]
  },
  {
   "cell_type": "markdown",
   "metadata": {},
   "source": [
    "The object is no longer sensitive to attribute change"
   ]
  },
  {
   "cell_type": "code",
   "execution_count": 91,
   "metadata": {},
   "outputs": [
    {
     "data": {
      "text/plain": [
       "Person(id=john, name=Eric, age=70)"
      ]
     },
     "execution_count": 91,
     "metadata": {},
     "output_type": "execute_result"
    }
   ],
   "source": [
    "p1.name = 'Eric'\n",
    "p1.age = 70\n",
    "p1"
   ]
  },
  {
   "cell_type": "code",
   "execution_count": 92,
   "metadata": {},
   "outputs": [
    {
     "data": {
      "text/plain": [
       "'john object'"
      ]
     },
     "execution_count": 92,
     "metadata": {},
     "output_type": "execute_result"
    }
   ],
   "source": [
    "persons[Person('john', None, None)]"
   ]
  },
  {
   "cell_type": "code",
   "execution_count": null,
   "metadata": {},
   "outputs": [],
   "source": []
  }
 ],
 "metadata": {
  "kernelspec": {
   "display_name": "Python 3",
   "language": "python",
   "name": "python3"
  },
  "language_info": {
   "codemirror_mode": {
    "name": "ipython",
    "version": 3
   },
   "file_extension": ".py",
   "mimetype": "text/x-python",
   "name": "python",
   "nbconvert_exporter": "python",
   "pygments_lexer": "ipython3",
   "version": "3.9.5"
  }
 },
 "nbformat": 4,
 "nbformat_minor": 4
}
